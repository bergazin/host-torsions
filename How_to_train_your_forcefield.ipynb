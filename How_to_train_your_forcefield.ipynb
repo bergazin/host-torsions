{
 "cells": [
  {
   "cell_type": "markdown",
   "id": "28ae309a",
   "metadata": {},
   "source": [
    "General transferable force fields, such as [Parsley](https://pubs.acs.org/doi/full/10.1021/acs.jctc.1c00571) or [Sage](https://openforcefield.org/force-fields/force-fields/),\n",
    "allow us to rapidly parameterize small molecules covering vast amounts of chemical space for use in molecular dynamics simulations. However, with every force field comes the inherent assumption that\n",
    "parameters fit to a set of representative molecules in a training set are transferable to any new molecules with similar chemistry.\n",
    "Despite potential accuracy problems caused by poor transferability or discrete atom types the use \n",
    "of force fields in fields like drug discovery has been a massive success. Within the Open Force Field, we\n",
    "use a unique method based on [SMARTS](https://www.daylight.com/dayhtml/doc/theory/theory.smarts.html) patterns to link\n",
    "the force field parameters to chemical substructures, avoiding the use of atom types altogether, resulting in a more\n",
    "[compact and manageable force field](https://doi.org/10.1021/acs.jctc.8b00640). While we have seen the number of unique\n",
    "torsion parameters grow between versions of the force field to improve parameter performance the number of parameters\n",
    "has remained very low when compared to other state-of-the-art force fields like OPLS3.\n",
    "\n",
    "\n",
    "| Force Field | Number of unique torsion parameters |\n",
    "|---|:----------------:|\n",
    "|OpenFF-1.0.0| 157|\n",
    "|OpenFF-1.2.0| 163|\n",
    "|OpenFF-1.3.0| 167|\n",
    "|OpenFF-2.0.0| 167|\n",
    "|OPLS3|48,142|\n",
    "|OPLSe|146,669|\n",
    "\n",
    "\n",
    "This explosion in torsion parameters allows for high accuracy over a large area of chemical space with the types often becoming\n",
    "very specific to certain chemistry. However, due to improved computer power and the reduced computational cost of generating\n",
    "high accuracy reference data via the use of machine learned potentials such as [ANI](https://pubs.rsc.org/en/content/articlelanding/2017/SC/C6SC05720A),\n",
    "a better solution may be to generate bespoke parameters on the fly. Enter :tada:[BespokeFit](https://github.com/openforcefield/bespoke-fit) :tada:\n",
    ", BespokeFit is a python package which allows users to easily generate bespoke force field parameters for\n",
    "their molecules under study which compliment the base OpenFF force field. Here we can think of BespokeFit as our general fitting\n",
    "scheme which can be applied to new molecules to generate bespoke parameters on the fly for new unseen chemistry.\n",
    "\n",
    "You may have seen [previously](https://openforcefield.org/community/news/science-updates/ff-training-example-2021-07-01/)\n",
    "how BespokeFit, QCSubmit and QCFractal can be combined to fit general force fields and this time we are going to show\n",
    "its other side and walk through an application to a simple molecule.\n",
    "\n",
    "This will have the following structure:\n",
    "- Building the general BespokeFit optimisation workflow\n",
    "- Building and inspecting the molecule specific optimisation schema made from the general workflow\n",
    "- Setup and run the BespokeExecutor\n",
    "- Inspecting the fitted parameters\n",
    "\n",
    "## Building the general workflow\n",
    "\n",
    "BespokeFit aims to provide a reproducible parameter optimization workflow for SMIRNOFF based force fields.\n",
    "As such normal BespokeFit execution starts with a general fitting workflow. This captures every process in the\n",
    "workflow along with any adjustable settings such as how the reference data should be generated. The default workflow\n",
    "is designed to optimize bespoke torsion parameters at the same level of theory as that used in the mainline openff force fields.\n",
    "Here however, we will be starting with a blank workflow and building it up as we go.\n",
    "\n",
    "First, we start with our optimization engine, which is an easy choice as we currently only support the fantastic\n",
    "[ForceBalance](https://github.com/leeping/forcebalance) package (watch this space - optimizers are coming!).\n",
    "Let's start by creating the ForceBalance optimization schema."
   ]
  },
  {
   "cell_type": "code",
   "execution_count": 1,
   "id": "63eeb695",
   "metadata": {},
   "outputs": [
    {
     "data": {
      "text/plain": [
       "{'type': 'ForceBalance',\n",
       " 'max_iterations': 10,\n",
       " 'job_type': 'optimize',\n",
       " 'penalty_type': 'L2',\n",
       " 'step_convergence_threshold': 0.01,\n",
       " 'objective_convergence_threshold': 0.01,\n",
       " 'gradient_convergence_threshold': 0.01,\n",
       " 'n_criteria': 2,\n",
       " 'eigenvalue_lower_bound': 0.01,\n",
       " 'finite_difference_h': 0.01,\n",
       " 'penalty_additive': 1.0,\n",
       " 'initial_trust_radius': -0.25,\n",
       " 'minimum_trust_radius': 0.05,\n",
       " 'error_tolerance': 1.0,\n",
       " 'adaptive_factor': 0.2,\n",
       " 'adaptive_damping': 1.0,\n",
       " 'normalize_weights': False,\n",
       " 'extras': {}}"
      ]
     },
     "execution_count": 1,
     "metadata": {},
     "output_type": "execute_result"
    }
   ],
   "source": [
    "from openff.bespokefit.schema.optimizers import ForceBalanceSchema\n",
    "\n",
    "# options for forcebalance\n",
    "fb = ForceBalanceSchema()\n",
    "fb.dict()"
   ]
  },
  {
   "cell_type": "markdown",
   "id": "e2e7bdd3",
   "metadata": {},
   "source": [
    "As you can tell there are many options here and in some cases, it might not be clear what a valid input is. For example,\n",
    "what other penalty types could we use?  :sparkles:[Pydantic](https://github.com/samuelcolvin/pydantic):sparkles: to the rescue,  pydantic\n",
    "allows us to \"_define how data should be in pure, canonical python_\" and has run time validation to ensure our data is always correct.\n",
    "What's more we even get a `schema` method for each model for free which fully describes the model with a short description for each field\n",
    "and information on the acceptable inputs, it basically comes with its own documentation:book:. As such pydantic is used\n",
    "extensively throughout BespokeFit to try and catch possible input errors ahead of run time, there is nothing worse than queuing up\n",
    "a calculation for it to be instantly returned with an error on line one:man_facepalming:. Now the schema is\n",
    "validated during assignment as we see below. First lets start by inspecting the optimizer schema using:"
   ]
  },
  {
   "cell_type": "code",
   "execution_count": 2,
   "id": "4e19a4aa",
   "metadata": {
    "scrolled": true
   },
   "outputs": [
    {
     "data": {
      "text/plain": [
       "{'title': 'ForceBalanceSchema',\n",
       " 'description': 'A class containing the main ForceBalance optimizer settings to use during an\\noptimization.\\n\\nPriors and target definitions are stored separately as part of an\\n``OptimizationSchema``.',\n",
       " 'type': 'object',\n",
       " 'properties': {'type': {'title': 'Type',\n",
       "   'default': 'ForceBalance',\n",
       "   'enum': ['ForceBalance'],\n",
       "   'type': 'string'},\n",
       "  'max_iterations': {'title': 'Max Iterations',\n",
       "   'description': 'The maximum number of optimization iterations to perform.',\n",
       "   'default': 10,\n",
       "   'exclusiveMinimum': 0,\n",
       "   'type': 'integer'},\n",
       "  'job_type': {'title': 'Job Type',\n",
       "   'description': 'The mode to run force balance in.',\n",
       "   'default': 'optimize',\n",
       "   'enum': ['optimize'],\n",
       "   'type': 'string'},\n",
       "  'penalty_type': {'title': 'Penalty Type',\n",
       "   'description': 'The penalty type.',\n",
       "   'default': 'L2',\n",
       "   'enum': ['L1', 'L2'],\n",
       "   'type': 'string'},\n",
       "  'step_convergence_threshold': {'title': 'Step Convergence Threshold',\n",
       "   'description': 'The step size convergence criterion.',\n",
       "   'default': 0.01,\n",
       "   'exclusiveMinimum': 0,\n",
       "   'type': 'number'},\n",
       "  'objective_convergence_threshold': {'title': 'Objective Convergence Threshold',\n",
       "   'description': 'The objective function convergence criterion.',\n",
       "   'default': 0.01,\n",
       "   'exclusiveMinimum': 0,\n",
       "   'type': 'number'},\n",
       "  'gradient_convergence_threshold': {'title': 'Gradient Convergence Threshold',\n",
       "   'description': 'The gradient norm convergence criterion.',\n",
       "   'default': 0.01,\n",
       "   'exclusiveMinimum': 0,\n",
       "   'type': 'number'},\n",
       "  'n_criteria': {'title': 'N Criteria',\n",
       "   'description': 'The number of convergence thresholds that must be met for convergence.',\n",
       "   'default': 2,\n",
       "   'exclusiveMinimum': 0,\n",
       "   'type': 'integer'},\n",
       "  'eigenvalue_lower_bound': {'title': 'Eigenvalue Lower Bound',\n",
       "   'description': 'The minimum eigenvalue for applying steepest descent correction.',\n",
       "   'default': 0.01,\n",
       "   'exclusiveMinimum': 0,\n",
       "   'type': 'number'},\n",
       "  'finite_difference_h': {'title': 'Finite Difference H',\n",
       "   'description': 'The step size for finite difference derivatives in many functions.',\n",
       "   'default': 0.01,\n",
       "   'exclusiveMinimum': 0,\n",
       "   'type': 'number'},\n",
       "  'penalty_additive': {'title': 'Penalty Additive',\n",
       "   'description': 'The factor for the multiplicative penalty function in the objective function.',\n",
       "   'default': 1.0,\n",
       "   'exclusiveMinimum': 0,\n",
       "   'type': 'number'},\n",
       "  'initial_trust_radius': {'title': 'Initial Trust Radius',\n",
       "   'description': \"The initial value of the optimizers adaptive trust radius which 'adapts' (i.e. increases or decreases) based on whether the last step was a good or bad step.\",\n",
       "   'default': -0.25,\n",
       "   'type': 'number'},\n",
       "  'minimum_trust_radius': {'title': 'Minimum Trust Radius',\n",
       "   'description': 'The minimum value of the optimizers adaptive trust radius.',\n",
       "   'default': 0.05,\n",
       "   'type': 'number'},\n",
       "  'error_tolerance': {'title': 'Error Tolerance',\n",
       "   'description': 'Steps that increase the objective function by more than this will be rejected.',\n",
       "   'default': 1.0,\n",
       "   'exclusiveMinimum': 0,\n",
       "   'type': 'number'},\n",
       "  'adaptive_factor': {'title': 'Adaptive Factor',\n",
       "   'description': 'The amount to change the step size by in the event of a good / bad step.',\n",
       "   'default': 0.2,\n",
       "   'exclusiveMinimum': 0,\n",
       "   'type': 'number'},\n",
       "  'adaptive_damping': {'title': 'Adaptive Damping',\n",
       "   'description': 'A damping factor that restraints the trust radius to trust0.',\n",
       "   'default': 1.0,\n",
       "   'exclusiveMinimum': 0,\n",
       "   'type': 'number'},\n",
       "  'normalize_weights': {'title': 'Normalize Weights',\n",
       "   'description': 'Whether to normalize the weights for the fitting targets',\n",
       "   'default': False,\n",
       "   'type': 'boolean'},\n",
       "  'extras': {'title': 'Extras',\n",
       "   'description': 'Extra settings (mostly logging settings) to include in the ForceBalance input file.',\n",
       "   'default': {},\n",
       "   'type': 'object',\n",
       "   'additionalProperties': {'type': 'string'}}}}"
      ]
     },
     "execution_count": 2,
     "metadata": {},
     "output_type": "execute_result"
    }
   ],
   "source": [
    "fb.schema()"
   ]
  },
  {
   "cell_type": "markdown",
   "id": "dc8c9bdc",
   "metadata": {},
   "source": [
    "We can now see that `penalty_type` only accepts the values L2 and L1 so lets try something else and see what happens.\n"
   ]
  },
  {
   "cell_type": "code",
   "execution_count": 3,
   "id": "dfd324e1",
   "metadata": {},
   "outputs": [],
   "source": [
    "#fb.penalty_type = \"L3\""
   ]
  },
  {
   "cell_type": "markdown",
   "id": "e6190353",
   "metadata": {},
   "source": [
    "Nice, we get an informative error message before even running the workflow!\n"
   ]
  },
  {
   "cell_type": "code",
   "execution_count": 4,
   "id": "1c087d13",
   "metadata": {},
   "outputs": [],
   "source": [
    "fb.penalty_type = \"L1\""
   ]
  },
  {
   "cell_type": "markdown",
   "id": "f8fc6983",
   "metadata": {},
   "source": [
    "Now we can set it to L1 and start to build up our workflow and see what other pieces we might need.\n",
    "\n",
    "{{< note >}}\n",
    "By default the workflow model comes ready to fit bespoke torsion parameters using Open Force Field best practices and\n",
    "default settings. Meaning only users who want absolute control over every setting (or developers showing of their work :grin:)\n",
    "would need to do this manual set up .\n",
    "{{< /note >}}\n",
    "\n",
    "\n",
    "Lets start by creating our `BespokeWorkflowFactory` which acts as a fitting template for future optimizations\n",
    "and add our `ForceBalanceSchema` optimizer settings. We can also remove all other defaults as we will go through them in\n",
    "the next sections.\n"
   ]
  },
  {
   "cell_type": "code",
   "execution_count": 5,
   "id": "69875e28",
   "metadata": {
    "scrolled": true
   },
   "outputs": [
    {
     "name": "stderr",
     "output_type": "stream",
     "text": [
      "Warning: Unable to load toolkit 'AmberTools'. \n"
     ]
    },
    {
     "name": "stdout",
     "output_type": "stream",
     "text": [
      "{'default_qc_specs': [],\n",
      " 'expand_torsion_terms': True,\n",
      " 'fragmentation_engine': None,\n",
      " 'generate_bespoke_terms': True,\n",
      " 'initial_force_field': 'openff_unconstrained-1.3.0.offxml',\n",
      " 'optimizer': {'adaptive_damping': 1.0,\n",
      "               'adaptive_factor': 0.2,\n",
      "               'eigenvalue_lower_bound': 0.01,\n",
      "               'error_tolerance': 1.0,\n",
      "               'extras': {},\n",
      "               'finite_difference_h': 0.01,\n",
      "               'gradient_convergence_threshold': 0.01,\n",
      "               'initial_trust_radius': -0.25,\n",
      "               'job_type': 'optimize',\n",
      "               'max_iterations': 10,\n",
      "               'minimum_trust_radius': 0.05,\n",
      "               'n_criteria': 2,\n",
      "               'normalize_weights': False,\n",
      "               'objective_convergence_threshold': 0.01,\n",
      "               'penalty_additive': 1.0,\n",
      "               'penalty_type': 'L1',\n",
      "               'step_convergence_threshold': 0.01,\n",
      "               'type': 'ForceBalance'},\n",
      " 'parameter_hyperparameters': [],\n",
      " 'target_templates': [],\n",
      " 'target_torsion_smirks': ['[!#1]~[!$(*#*)&!D1:1]-,=;!@[!$(*#*)&!D1:2]~[!#1]']}\n"
     ]
    }
   ],
   "source": [
    "from openff.bespokefit.workflows import BespokeWorkflowFactory\n",
    "from pprint import pprint\n",
    "\n",
    "workflow = BespokeWorkflowFactory(\n",
    "    fragmentation_engine=None, \n",
    "    optimizer=fb, \n",
    "    parameter_hyperparameters=[], \n",
    "    target_templates=[], \n",
    "    default_qc_specs=[]\n",
    ")\n",
    "pprint(workflow.dict())"
   ]
  },
  {
   "cell_type": "markdown",
   "id": "ef169733",
   "metadata": {},
   "source": [
    "### Stage 1 Fragmentation\n",
    "\n",
    "BespokeFit makes extensive use of the fantastic [openff-fragmenter](https://github.com/openforcefield/openff-fragmenter)\n",
    "package where possible to reduce the cost of QM torsion drives as they can quickly become very expensive for large\n",
    "drug-like molecules. Here we will add the WBO based fragmentation scheme to the pipeline with default settings. You can find\n",
    "out more about how fragmenter works in a pre-print [here](https://www.biorxiv.org/content/10.1101/2020.08.27.270934v1)."
   ]
  },
  {
   "cell_type": "code",
   "execution_count": 6,
   "id": "47583377",
   "metadata": {},
   "outputs": [],
   "source": [
    "from openff.fragmenter.fragment import WBOFragmenter\n",
    "\n",
    "fragmenter = WBOFragmenter()\n",
    "workflow.fragmentation_engine = fragmenter"
   ]
  },
  {
   "cell_type": "markdown",
   "id": "45516d4d",
   "metadata": {},
   "source": [
    "By default, fragmenter will not fragment terminal rotatable bonds (such as methyl groups) as these are assumed to be\n",
    "trivial and well described by our chosen force field. However, to keep things simple in our example we will be working with\n",
    "`BrCO` and so we need to change this behaviour. Luckily BespokeFit/fragmenter allow us to overwrite this behaviour\n",
    "by defining a SMARTS pattern (chemical substructure) which will be used to select the rotatable bonds."
   ]
  },
  {
   "cell_type": "code",
   "execution_count": 7,
   "id": "4a6f879d",
   "metadata": {},
   "outputs": [],
   "source": [
    "workflow.target_torsion_smirks = [\"[*]~[!$(*#*)&!D1:1]-,=;!@[!$(*#*)&!D1:2]~[*]\"]\n",
    "\n"
   ]
  },
  {
   "cell_type": "markdown",
   "id": "f5aaf609",
   "metadata": {},
   "source": [
    "Here we have taken the default SMARTS pattern `[!#1]~[!$(*#*)&!D1:1]-,=;!@[!$(*#*)&!D1:2]~[!#1]` used to find torsions\n",
    "and allowed the connecting atoms to the central bond to be hydrogens. This will ensure our simple molecule is processed\n",
    "by the workflow, as without this change the workflow would reject the molecule as with no `rotatable` bonds there would be\n",
    "no work to do :man_shrugging:.\n",
    "\n",
    "\n",
    "### Stage 2 Reference Generation\n",
    "\n",
    "As you may have guessed we are going to need some target reference data to optimize our force field parameters against\n",
    "and that's where the target templates come in. These `target schemas` have two main functions:\n",
    "- Describe the contribution to the total error function in the parameter optimization\n",
    "- Generate specific reference data tasks that need to be computed in order to train with the target\n",
    "\n",
    "In this case we will be using the `TorsionProfileTargetSchema` which requires a torsiondrive as input data. That is\n",
    "a series of constrained geometry optimizations around the targeted rotatable bond, usually ranging from -180 -> 180 degrees\n",
    "in 15 degree increments. There is slightly more to a torsiondrive than that and you can read more about how it works in the\n",
    "[paper](https://doi.org/10.1063/5.0009232), but for now the main point is that we should get back a series of geometries\n",
    "and energies to fit to. The actual torsion profile target then contributes the average RMSE between the QM and MM\n",
    "energies at each geometry to the objective function and has a small number of settings exposed which we can see here."
   ]
  },
  {
   "cell_type": "code",
   "execution_count": 8,
   "id": "493a380f",
   "metadata": {},
   "outputs": [
    {
     "name": "stdout",
     "output_type": "stream",
     "text": [
      "{'attenuate_weights': True,\n",
      " 'energy_cutoff': 10.0,\n",
      " 'energy_denominator': 1.0,\n",
      " 'extras': {},\n",
      " 'reference_data': None,\n",
      " 'type': 'TorsionProfile',\n",
      " 'weight': 1.0}\n"
     ]
    }
   ],
   "source": [
    "from openff.bespokefit.schema.targets import TorsionProfileTargetSchema\n",
    "\n",
    "target = TorsionProfileTargetSchema()\n",
    "workflow.target_templates = [target, ]\n",
    "pprint(target.dict())"
   ]
  },
  {
   "cell_type": "markdown",
   "id": "2e8df449",
   "metadata": {},
   "source": [
    "You will also note that we passed the target in a list as the optimizer can use multiple targets to construct the objective\n",
    "function, you can check out [Simons blog](https://openforcefield.org/community/news/science-updates/ff-training-example-2021-07-01/)\n",
    "to see this in action.\n",
    "\n",
    "{{< warning >}}\n",
    "All target templates passed to the optimizer will be exercised at the same time as multi-stage fits are not yet supported.\n",
    "{{< /warning >}}\n",
    "\n",
    "We now need to tell BespokeFit what program, method and basis should be used to actually compute the reference tasks. As\n",
    "we use the game changing [QCEngine](https://github.com/MolSSI/QCEngine) to power these calculations we have a wide range\n",
    "of possibilities with one standard interface. BespokeFit defines the target specification using the `QCSpec` class from\n",
    "QCSubmit which has built in validation to again catch any errors early in the process. Choosing a new QC task\n",
    "specification for all tasks in the BespokeFit workflow is then as simple as:"
   ]
  },
  {
   "cell_type": "code",
   "execution_count": 9,
   "id": "fb61da9a",
   "metadata": {},
   "outputs": [],
   "source": [
    "from openff.qcsubmit.common_structures import QCSpec\n",
    "\n",
    "xtb_spec = QCSpec(\n",
    "    method=\"gfn2xtb\", \n",
    "    basis=None, \n",
    "    program=\"xtb\", \n",
    "    spec_name=\"xtb\", \n",
    "    spec_description=\"gfn2xtb\"\n",
    ")\n",
    "\n",
    "workflow.default_qc_specs = [xtb_spec]"
   ]
  },
  {
   "cell_type": "markdown",
   "id": "31fd8d4e",
   "metadata": {},
   "source": [
    "To keep things moving quickly we have chosen to use a semi-empirical QC method, but by default BespokeFit will use the\n",
    "same level of theory as that used to fit the main line force fields.\n",
    "\n",
    "\n",
    "### Stage 3 Parameter Optimization\n",
    "\n",
    "Finally, we have the parameter optimization stage and as we have already set up our optimizer using `ForceBalance` the last step\n",
    "is to define some parameter hyperparameters. These tell BespokeFit which parameters we would like to fit and allows us to\n",
    "define a prior to the parameter."
   ]
  },
  {
   "cell_type": "code",
   "execution_count": 10,
   "id": "36422a09",
   "metadata": {},
   "outputs": [],
   "source": [
    "from openff.bespokefit.schema.smirnoff import  ProperTorsionHyperparameters\n",
    "\n",
    "prior = ProperTorsionHyperparameters()\n",
    "workflow.parameter_hyperparameters = [prior]"
   ]
  },
  {
   "cell_type": "markdown",
   "id": "9bc8da1d",
   "metadata": {},
   "source": [
    "BespokeFit now knows we intend to optimize the torsion parameters to the target and with these final two settings we\n",
    "can generate SMARTS patterns specific to the molecules that pass through the workflow and to fully expand\n",
    "the torsion parameters to use all available k values."
   ]
  },
  {
   "cell_type": "code",
   "execution_count": 11,
   "id": "ae6d5d03",
   "metadata": {},
   "outputs": [],
   "source": [
    "workflow.generate_bespoke_terms = True\n",
    "workflow.expand_torsion_terms = True"
   ]
  },
  {
   "cell_type": "markdown",
   "id": "6d4b7bb3",
   "metadata": {},
   "source": [
    "All that is left to do now is to save the workflow to file for later use, this is now our general workflow template which\n",
    "we can apply to all molecules that pass into the BespokeFit pipeline. The serialized workflow is also a fantastic provenance\n",
    "store, making it easy to tell exactly what settings were used to compute the parameters in a project."
   ]
  },
  {
   "cell_type": "code",
   "execution_count": 12,
   "id": "7bee7f91",
   "metadata": {},
   "outputs": [],
   "source": [
    "# write to json\n",
    "workflow.export_factory(\"workflow.json\")\n",
    "# or yaml\n",
    "#workflow.export_factory(\"workflow.yaml\")"
   ]
  },
  {
   "cell_type": "markdown",
   "id": "43f67feb",
   "metadata": {},
   "source": [
    "## Building the Molecule Specific Schema\n",
    "\n",
    "Now we can use our general fitting schema to build a molecule specific optimization schema.\n",
    "This schema fully defines the optimization protocol that should be applied to the molecule including information\n",
    "about the reference data generation tasks which BespokeFit will automatically perform locally for us. In this\n",
    "example we will be using `BrCO`, so lets create the molecule using the `openff-toolkit`, save it to file for later and\n",
    "create a `BespokeOptimizationSchema` for it using our workflow:"
   ]
  },
  {
   "cell_type": "code",
   "execution_count": 13,
   "id": "9927fd31",
   "metadata": {},
   "outputs": [],
   "source": [
    "from openff.toolkit.topology import Molecule\n",
    "\n",
    "target_molecule = Molecule.from_smiles(\"BrCO\")\n",
    "#target_molecule = Molecule.from_smiles(\"CC1=CC(OC2=CC(C(O)=O)=CC(OC)=C2)=CC(OC)=C1\")\n",
    "target_molecule.generate_conformers(n_conformers=1)\n",
    "# write to file for later\n",
    "target_molecule.to_file(file_path=\"test.sdf\", file_format=\"sdf\")\n",
    "# make the specific schema\n",
    "schema = workflow.optimization_schema_from_molecule(molecule=target_molecule)"
   ]
  },
  {
   "cell_type": "markdown",
   "id": "d111bcbd",
   "metadata": {},
   "source": [
    "If we now inspect the schema we find two main changes, i) the input molecule has been inserted, ii) some bespoke SMARTS patterns\n",
    "have been created for the rotatable torsion identified in the molecule. These patterns and the initial force field values\n",
    "can be easily viewed via:"
   ]
  },
  {
   "cell_type": "code",
   "execution_count": 14,
   "id": "769ba025",
   "metadata": {},
   "outputs": [
    {
     "data": {
      "text/plain": [
       "{ProperTorsionSMIRKS(type='ProperTorsions', smirks='[#35H0X1x0!r+0A:1]-;!@[#6H2X4x0!r+0A:2](-;!@[#1H0X1x0!r+0A])(-;!@[#1H0X1x0!r+0A])-;!@[#8H1X2x0!r+0A:3]-;!@[#1H0X1x0!r+0A:4]', attributes={'k1', 'k4', 'k2', 'k3'}): {'k1': Quantity(value=0, unit=kilocalorie/mole),\n",
       "  'k4': Quantity(value=0, unit=kilocalorie/mole),\n",
       "  'k2': Quantity(value=0, unit=kilocalorie/mole),\n",
       "  'k3': Quantity(value=0.6985935181583, unit=kilocalorie/mole)},\n",
       " ProperTorsionSMIRKS(type='ProperTorsions', smirks='[#1H0X1x0!r+0A:1]-;!@[#6H2X4x0!r+0A:2](-;!@[#1H0X1x0!r+0A])(-;!@[#35H0X1x0!r+0A])-;!@[#8H1X2x0!r+0A:3]-;!@[#1H0X1x0!r+0A:4]', attributes={'k1', 'k4', 'k2', 'k3'}): {'k1': Quantity(value=0, unit=kilocalorie/mole),\n",
       "  'k4': Quantity(value=0, unit=kilocalorie/mole),\n",
       "  'k2': Quantity(value=0, unit=kilocalorie/mole),\n",
       "  'k3': Quantity(value=0.6985935181583, unit=kilocalorie/mole)}}"
      ]
     },
     "execution_count": 14,
     "metadata": {},
     "output_type": "execute_result"
    }
   ],
   "source": [
    "schema.initial_parameter_values"
   ]
  },
  {
   "cell_type": "markdown",
   "id": "d3d9f94b",
   "metadata": {},
   "source": [
    "You may also notice that as requested BespokeFit has expanded the k terms for each torsion parameter with each new term\n",
    "set to zero by default. The non-zero values are then taken from the base force field to form our initial parameter values.\n",
    "We can also use the `openff-toolkit` to query the molecule and identify the atoms matching these new patterns and\n",
    "understand how the parameters will be applied to the molecule by visualizing the substructures."
   ]
  },
  {
   "cell_type": "code",
   "execution_count": 15,
   "id": "c8cfc73f",
   "metadata": {},
   "outputs": [
    {
     "data": {
      "image/png": "[encoded data removed]",
      "text/plain": [
       "<IPython.core.display.Image object>"
      ]
     },
     "execution_count": 15,
     "metadata": {},
     "output_type": "execute_result"
    }
   ],
   "source": [
    "from rdkit.Chem import Draw, rdDepictor\n",
    "\n",
    "parameters = schema.parameters\n",
    "rd_mol = target_molecule.to_rdkit()\n",
    "rdDepictor.Compute2DCoords(rd_mol)\n",
    "rd_mols = []\n",
    "atoms = []\n",
    "for parameter in parameters:\n",
    "    matches = target_molecule.chemical_environment_matches(query=parameter.smirks)\n",
    "    flat_matches = [atom for match in matches for atom in match]\n",
    "    rd_mols.append(rd_mol)\n",
    "    atoms.append(flat_matches)\n",
    "\n",
    "Draw.MolsToGridImage(rd_mols, highlightAtomLists=atoms)"
   ]
  },
  {
   "cell_type": "markdown",
   "id": "03c7cf3b",
   "metadata": {},
   "source": [
    "We can see that BespokeFit has generated two bespoke SMARTS patterns, as determined by the\n",
    "symmetry of the atoms around the central bond, covering all three torsion terms.\n",
    "\n",
    "## Setting up the BespokeExecutor\n",
    "\n",
    "In the last blog post we made use of the invaluable QCFractal infrastructure to compute our target data. Since then however,\n",
    "we have been hard at work to offer a local execution pathway as an alternative reference generation method.\n",
    "Here we still use QCEngine to execute the tasks, but spin up simple [Celery](https://docs.celeryproject.org/en/latest/index.html)\n",
    "workers to perform the jobs. In fact the BespokeFit executor has been totally reworked to allow for a more flexible and scalable\n",
    "fitting solution. Each of the major stages: fragmentation, reference generation and optimization are carried out\n",
    "by dedicated workers which can be on the same local machine or distributed over multiple. Here we will be spinning up\n",
    "the `BespokeExecutor` and three workers, one for each of the stages, in a single line! We will then submit our optimization\n",
    "task via the RESTful API and let BespokeFit take care of the rest.\n",
    "\n"
   ]
  },
  {
   "cell_type": "code",
   "execution_count": 16,
   "id": "c4f42b06",
   "metadata": {},
   "outputs": [
    {
     "name": "stderr",
     "output_type": "stream",
     "text": [
      "Warning: Unable to load toolkit 'AmberTools'. \n",
      "Warning: Unable to load toolkit 'AmberTools'. \n",
      "Warning: Unable to load toolkit 'AmberTools'. \n",
      "Warning: Unable to load toolkit 'AmberTools'. \n"
     ]
    },
    {
     "ename": "RuntimeError",
     "evalue": "The gateway could not be reached.",
     "output_type": "error",
     "traceback": [
      "\u001b[0;31m---------------------------------------------------------------------------\u001b[0m",
      "\u001b[0;31mRuntimeError\u001b[0m                              Traceback (most recent call last)",
      "\u001b[0;32m/var/folders/k4/mfxydxms5xb72hl9c7pmc8880000gp/T/ipykernel_99432/2313622125.py\u001b[0m in \u001b[0;36m<module>\u001b[0;34m\u001b[0m\n\u001b[1;32m      6\u001b[0m \u001b[0;34m\u001b[0m\u001b[0m\n\u001b[1;32m      7\u001b[0m \u001b[0;31m# launch the executor\u001b[0m\u001b[0;34m\u001b[0m\u001b[0;34m\u001b[0m\u001b[0m\n\u001b[0;32m----> 8\u001b[0;31m with BespokeExecutor(\n\u001b[0m\u001b[1;32m      9\u001b[0m         \u001b[0mn_fragmenter_workers\u001b[0m\u001b[0;34m=\u001b[0m\u001b[0;36m1\u001b[0m\u001b[0;34m,\u001b[0m\u001b[0;34m\u001b[0m\u001b[0;34m\u001b[0m\u001b[0m\n\u001b[1;32m     10\u001b[0m         \u001b[0mn_qc_compute_workers\u001b[0m\u001b[0;34m=\u001b[0m\u001b[0;36m1\u001b[0m\u001b[0;34m,\u001b[0m\u001b[0;34m\u001b[0m\u001b[0;34m\u001b[0m\u001b[0m\n",
      "\u001b[0;32m~/anaconda/envs/bespoke/lib/python3.9/site-packages/openff/bespokefit/executor/executor.py\u001b[0m in \u001b[0;36m__enter__\u001b[0;34m(self)\u001b[0m\n\u001b[1;32m    212\u001b[0m \u001b[0;34m\u001b[0m\u001b[0m\n\u001b[1;32m    213\u001b[0m     \u001b[0;32mdef\u001b[0m \u001b[0m__enter__\u001b[0m\u001b[0;34m(\u001b[0m\u001b[0mself\u001b[0m\u001b[0;34m)\u001b[0m\u001b[0;34m:\u001b[0m\u001b[0;34m\u001b[0m\u001b[0;34m\u001b[0m\u001b[0m\n\u001b[0;32m--> 214\u001b[0;31m         \u001b[0mself\u001b[0m\u001b[0;34m.\u001b[0m\u001b[0mstart\u001b[0m\u001b[0;34m(\u001b[0m\u001b[0masynchronous\u001b[0m\u001b[0;34m=\u001b[0m\u001b[0;32mTrue\u001b[0m\u001b[0;34m)\u001b[0m\u001b[0;34m\u001b[0m\u001b[0;34m\u001b[0m\u001b[0m\n\u001b[0m\u001b[1;32m    215\u001b[0m         \u001b[0;32mreturn\u001b[0m \u001b[0mself\u001b[0m\u001b[0;34m\u001b[0m\u001b[0;34m\u001b[0m\u001b[0m\n\u001b[1;32m    216\u001b[0m \u001b[0;34m\u001b[0m\u001b[0m\n",
      "\u001b[0;32m~/anaconda/envs/bespoke/lib/python3.9/site-packages/openff/bespokefit/executor/executor.py\u001b[0m in \u001b[0;36mstart\u001b[0;34m(self, asynchronous)\u001b[0m\n\u001b[1;32m    179\u001b[0m             \u001b[0mself\u001b[0m\u001b[0;34m.\u001b[0m\u001b[0m_gateway_process\u001b[0m\u001b[0;34m.\u001b[0m\u001b[0mstart\u001b[0m\u001b[0;34m(\u001b[0m\u001b[0;34m)\u001b[0m\u001b[0;34m\u001b[0m\u001b[0;34m\u001b[0m\u001b[0m\n\u001b[1;32m    180\u001b[0m \u001b[0;34m\u001b[0m\u001b[0m\n\u001b[0;32m--> 181\u001b[0;31m             \u001b[0mwait_for_gateway\u001b[0m\u001b[0;34m(\u001b[0m\u001b[0;34m)\u001b[0m\u001b[0;34m\u001b[0m\u001b[0;34m\u001b[0m\u001b[0m\n\u001b[0m\u001b[1;32m    182\u001b[0m \u001b[0;34m\u001b[0m\u001b[0m\n\u001b[1;32m    183\u001b[0m         \u001b[0;32melse\u001b[0m\u001b[0;34m:\u001b[0m\u001b[0;34m\u001b[0m\u001b[0;34m\u001b[0m\u001b[0m\n",
      "\u001b[0;32m~/anaconda/envs/bespoke/lib/python3.9/site-packages/openff/bespokefit/executor/services/gateway.py\u001b[0m in \u001b[0;36mwait_for_gateway\u001b[0;34m(n_retries)\u001b[0m\n\u001b[1;32m    112\u001b[0m \u001b[0;34m\u001b[0m\u001b[0m\n\u001b[1;32m    113\u001b[0m     \u001b[0;32mif\u001b[0m \u001b[0mtimeout\u001b[0m\u001b[0;34m:\u001b[0m\u001b[0;34m\u001b[0m\u001b[0;34m\u001b[0m\u001b[0m\n\u001b[0;32m--> 114\u001b[0;31m         \u001b[0;32mraise\u001b[0m \u001b[0mRuntimeError\u001b[0m\u001b[0;34m(\u001b[0m\u001b[0;34m\"The gateway could not be reached.\"\u001b[0m\u001b[0;34m)\u001b[0m\u001b[0;34m\u001b[0m\u001b[0;34m\u001b[0m\u001b[0m\n\u001b[0m",
      "\u001b[0;31mRuntimeError\u001b[0m: The gateway could not be reached."
     ]
    }
   ],
   "source": [
    "from openff.bespokefit.executor import BespokeExecutor, wait_until_complete\n",
    "import os\n",
    "\n",
    "# set keep files to true so we can view the results\n",
    "os.environ[\"BEFLOW_KEEP_FILES\"] = \"True\"\n",
    "\n",
    "# launch the executor\n",
    "with BespokeExecutor(\n",
    "        n_fragmenter_workers=1,\n",
    "        n_qc_compute_workers=1,\n",
    "        n_optimizer_workers=1) as executor:\n",
    "    # grab the task id and wait for the task to finish\n",
    "    task = executor.submit(input_schema=schema)\n",
    "    result = wait_until_complete(optimization_id=task.id)"
   ]
  },
  {
   "cell_type": "code",
   "execution_count": null,
   "id": "738f58cb",
   "metadata": {},
   "outputs": [],
   "source": [
    "result"
   ]
  },
  {
   "cell_type": "markdown",
   "id": "84b22a7f",
   "metadata": {},
   "source": [
    "As our optimization task works through each stage you should see them complete with a tick and once all tasks are complete\n",
    "the executor will shut down for us and clean up the workers as well! We can then check the result object to make sure\n",
    "each stage did finish with no errors."
   ]
  },
  {
   "cell_type": "code",
   "execution_count": null,
   "id": "435bea97",
   "metadata": {
    "scrolled": true
   },
   "outputs": [],
   "source": [
    "for stage in result.stages:\n",
    "    print(stage.type, stage.status)"
   ]
  },
  {
   "cell_type": "markdown",
   "id": "b45f0b79",
   "metadata": {},
   "source": [
    "## Inspecting the Optimized Parameters\n",
    "\n",
    "Once the torsion optimization is complete a result schema is returned. The schema contains the final optimized\n",
    "parameters that can be used with the `openff-toolkit` in workflows to parameterize molecules and set up systems in\n",
    "OpenMM to run dynamics. The result schema also contains all provenance information which can help with reproducibility.\n",
    "\n",
    "Now to convince ourselves that the optimization was successful and has lead to an improvement in the parameters - lets load\n",
    "the final output from ForceBalance."
   ]
  },
  {
   "cell_type": "code",
   "execution_count": null,
   "id": "68295664",
   "metadata": {},
   "outputs": [],
   "source": [
    "from IPython.display import IFrame\n",
    "\n",
    "opt_id = f\"bespoke-executor/{result.results.input_schema.id}/optimize.tmp/torsion-0/iter_0002/plot_torsion.pdf\"\n",
    "\n",
    "IFrame(\n",
    "    opt_id, \n",
    "    width=900, \n",
    "    height=600)"
   ]
  },
  {
   "cell_type": "markdown",
   "id": "f9ab4fa2",
   "metadata": {},
   "source": [
    "BespokeFit has been successful as there is a clear improvement in the PES around this torsion with respect to the reference data.\n",
    "We can also plot how the parameters have changed during optimization as the result schema stores the initial and\n",
    "final torsion parameters."
   ]
  },
  {
   "cell_type": "code",
   "execution_count": null,
   "id": "8bb9d4b5",
   "metadata": {},
   "outputs": [],
   "source": [
    "#new torions\n",
    "pprint(result.results.refit_parameter_values)\n"
   ]
  },
  {
   "cell_type": "code",
   "execution_count": null,
   "id": "ecabf214",
   "metadata": {},
   "outputs": [],
   "source": [
    "minimalist = {torsion.smirks: {k: q._value for k, q in parameters.items()} for torsion, parameters in result.results.input_schema.initial_parameter_values.items()}\n",
    "with open(\"my_file.json\", \"w\") as f:\n",
    "  json.dump(minimalist, f)\n",
    "\n",
    "with open('my_file.json') as f:\n",
    "    data = list(json.load(f).items())\n",
    "#df = pd.DataFrame (list_name, columns = ['column_name'])\n",
    "data"
   ]
  },
  {
   "cell_type": "code",
   "execution_count": null,
   "id": "b3388b20",
   "metadata": {},
   "outputs": [],
   "source": [
    "df['k_terms'] = df['k_terms'].str.replace(\"{\",\"\")\n",
    "df"
   ]
  },
  {
   "cell_type": "code",
   "execution_count": null,
   "id": "3fa1f115",
   "metadata": {},
   "outputs": [],
   "source": [
    "# Split the interaction fingerprint\n",
    "fps = combined_df['IXFP_12'].str.split(' ', expand=True)\n",
    "\n",
    "# Add a prefix to the fingerprint columns (ifp_0, ifp_1, ifp_3, etc.)\n",
    "fps = fps.add_prefix('ifp_')\n",
    "\n",
    "# Add the split up fingerprint data to the dataframe that contains all consistent/inconsistent poses\n",
    "combined_df = pd.concat([combined_df, fps], axis=1)\n",
    "# drop the concatenated ixp IXFP_12\n",
    "combined_df = combined_df.drop(labels=\"IXFP_12\", axis=1)"
   ]
  },
  {
   "cell_type": "code",
   "execution_count": null,
   "id": "3be7d90e",
   "metadata": {},
   "outputs": [],
   "source": [
    "with open(\"result.json\", \"w\") as output:\n",
    "    output.write(result.results.json())"
   ]
  },
  {
   "cell_type": "code",
   "execution_count": null,
   "id": "74c8142f",
   "metadata": {},
   "outputs": [],
   "source": [
    "data = json.load( open( \"result.json\" ) )\n",
    "data.refit_parameter_values"
   ]
  },
  {
   "cell_type": "code",
   "execution_count": null,
   "id": "f688cb80",
   "metadata": {},
   "outputs": [],
   "source": [
    "#initial torsions\n",
    "result.results.input_schema.initial_parameter_values"
   ]
  },
  {
   "cell_type": "code",
   "execution_count": null,
   "id": "d0426961",
   "metadata": {},
   "outputs": [],
   "source": [
    "parameter_data = []\n",
    "for i, (parameter, initial_values) in enumerate(result.results.input_schema.initial_parameter_values.items()):\n",
    "    for final_parameter, final_values in result.results.refit_parameter_values.items():\n",
    "        if parameter.smirks == final_parameter.smirks:\n",
    "            print(parameter.smirks)\n",
    "            for term in range(1, 5):\n",
    "                k_before = initial_values[f\"k{term}\"].value_in_unit(unit.kilocalorie_per_mole)\n",
    "                k_after = final_values[f\"k{term}\"].value_in_unit(unit.kilocalorie_per_mole)\n",
    "                parameter_data.append([f\"smirks_{i}_k{term}\", k_before, k_after, k_after - k_before])\n",
    "parameter_data\n",
    "# make a pandas dataframe\n",
    "#df = pd.DataFrame(parameter_data, columns=[\"parameter\", \"before\", \"after\", \"change\"])\n",
    "#df"
   ]
  },
  {
   "cell_type": "code",
   "execution_count": null,
   "id": "bf25a76c",
   "metadata": {},
   "outputs": [],
   "source": [
    "import pandas as pd\n",
    "from simtk import unit\n",
    "\n",
    "parameter_data = []\n",
    "for i, (parameter, initial_values) in enumerate(result.results.input_schema.initial_parameter_values.items()):\n",
    "    for final_parameter, final_values in result.results.refit_parameter_values.items():\n",
    "        if parameter.smirks == final_parameter.smirks:\n",
    "            for term in range(1, 5):\n",
    "                k_before = initial_values[f\"k{term}\"].value_in_unit(unit.kilocalorie_per_mole)\n",
    "                k_after = final_values[f\"k{term}\"].value_in_unit(unit.kilocalorie_per_mole)\n",
    "                parameter_data.append([parameter.smirks, f\"smirks_{i}_k{term}\", k_before, k_after, k_after - k_before])\n",
    "\n",
    "# make a pandas dataframe\n",
    "df = pd.DataFrame(parameter_data, columns=[\"smirks\", \"parameter\", \"before\", \"after\", \"change\"])\n",
    "df"
   ]
  },
  {
   "cell_type": "code",
   "execution_count": null,
   "id": "e9c8d0d5",
   "metadata": {},
   "outputs": [],
   "source": [
    "pprint(result.results.refit_parameter_values)\n"
   ]
  },
  {
   "cell_type": "code",
   "execution_count": null,
   "id": "ccc48b6c",
   "metadata": {},
   "outputs": [],
   "source": [
    "import matplotlib.pyplot as plt\n",
    "import seaborn as sns\n",
    "%matplotlib inline\n",
    "\n",
    "plt.rc('font', size=16)\n",
    "\n",
    "\n",
    "ax = plt.figure(figsize=(5,8))\n",
    "#add start points\n",
    "ax = sns.stripplot(data=df, \n",
    "                   x='before', \n",
    "                   y='parameter', \n",
    "                   orient='h', \n",
    "                   order=df['parameter'], \n",
    "                   size=10, \n",
    "                   color='black')\n",
    "ax.grid(axis='y', color='0.9') \n",
    "#add arrows to plot only if the parameter changed by more than 1e-3 kcal/mol\n",
    "for i in range(len(df.index)):\n",
    "    term = df.iloc[i]\n",
    "    if abs(term[\"change\"]) > 1e-3:\n",
    "        if term[\"after\"] > term[\"before\"]:\n",
    "            arrow_color = '#347768'\n",
    "        elif term[\"after\"] < term[\"before\"]:\n",
    "            arrow_color = 'red'\n",
    "        else:\n",
    "            arrow_color = 'black'\n",
    "        ax.arrow(term[\"before\"],        \n",
    "                 i,                      \n",
    "                 term[\"change\"],    \n",
    "                 0,                     \n",
    "                 head_width=0.3,         \n",
    "                 head_length=0.2,       \n",
    "                 width=0.1,              \n",
    "                 fc=arrow_color,            \n",
    "                 ec=arrow_color)     \n",
    "ax.axvline(x=0, color='0.9', ls='--', lw=2, zorder=0)\n",
    "ax.set_xlabel('Force Constant (kcal/mol)')                               \n",
    "ax.set_ylabel('Torsion Parameter')                         \n",
    "sns.despine(left=True, bottom=True)"
   ]
  },
  {
   "cell_type": "markdown",
   "id": "12baaceb",
   "metadata": {},
   "source": [
    "## Conclusion\n",
    "\n",
    "To recap in this blog post we have:\n",
    "- Created and configured a general BespokeFit workflow\n",
    "- Built a molecule specific optimization schema\n",
    "- Spun up the BespokeFitExecutor and workers\n",
    "- Fragmented the molecule\n",
    "- Automatically generated torsiondrive reference data using QCEngine\n",
    "- Automatically generated bespoke SMARTS patterns for the molecule\n",
    "- Optimized the torsion parameters using ForceBalance\n",
    "\n",
    "Hopefully this demonstration has shown just how easy it is to set up a BespokeFit general fitting pipeline with a custom\n",
    "configuration and train bespoke parameters to reference data generated on the fly from just a few imports.  Better yet\n",
    "this whole process can now be routinely applied to new molecules from the CLI using our serialized workflow.\n",
    "\n",
    "`openff-bespoke executor run --input BrCO.sdf --spec-file workflow.json`"
   ]
  },
  {
   "cell_type": "code",
   "execution_count": null,
   "id": "faac0051",
   "metadata": {},
   "outputs": [],
   "source": []
  }
 ],
 "metadata": {
  "kernelspec": {
   "display_name": "bespokefit",
   "language": "python",
   "name": "bespokefit"
  },
  "language_info": {
   "codemirror_mode": {
    "name": "ipython",
    "version": 3
   },
   "file_extension": ".py",
   "mimetype": "text/x-python",
   "name": "python",
   "nbconvert_exporter": "python",
   "pygments_lexer": "ipython3",
   "version": "3.9.7"
  }
 },
 "nbformat": 4,
 "nbformat_minor": 5
}
