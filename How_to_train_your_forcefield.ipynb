{
 "cells": [
  {
   "cell_type": "markdown",
   "id": "28ae309a",
   "metadata": {},
   "source": [
    "General transferable force fields, such as [Parsley](https://pubs.acs.org/doi/full/10.1021/acs.jctc.1c00571) or [Sage](https://openforcefield.org/force-fields/force-fields/),\n",
    "allow us to rapidly parameterize small molecules covering vast amounts of chemical space for use in molecular dynamics simulations. However, with every force field comes the inherent assumption that\n",
    "parameters fit to a set of representative molecules in a training set are transferable to any new molecules with similar chemistry.\n",
    "Despite potential accuracy problems caused by poor transferability or discrete atom types the use \n",
    "of force fields in fields like drug discovery has been a massive success. Within the Open Force Field, we\n",
    "use a unique method based on [SMARTS](https://www.daylight.com/dayhtml/doc/theory/theory.smarts.html) patterns to link\n",
    "the force field parameters to chemical substructures, avoiding the use of atom types altogether, resulting in a more\n",
    "[compact and manageable force field](https://doi.org/10.1021/acs.jctc.8b00640). While we have seen the number of unique\n",
    "torsion parameters grow between versions of the force field to improve parameter performance the number of parameters\n",
    "has remained very low when compared to other state-of-the-art force fields like OPLS3.\n",
    "\n",
    "\n",
    "| Force Field | Number of unique torsion parameters |\n",
    "|---|:----------------:|\n",
    "|OpenFF-1.0.0| 157|\n",
    "|OpenFF-1.2.0| 163|\n",
    "|OpenFF-1.3.0| 167|\n",
    "|OpenFF-2.0.0| 167|\n",
    "|OPLS3|48,142|\n",
    "|OPLSe|146,669|\n",
    "\n",
    "\n",
    "This explosion in torsion parameters allows for high accuracy over a large area of chemical space with the types often becoming\n",
    "very specific to certain chemistry. However, due to improved computer power and the reduced computational cost of generating\n",
    "high accuracy reference data via the use of machine learned potentials such as [ANI](https://pubs.rsc.org/en/content/articlelanding/2017/SC/C6SC05720A),\n",
    "a better solution may be to generate bespoke parameters on the fly. Enter :tada:[BespokeFit](https://github.com/openforcefield/bespoke-fit) :tada:\n",
    ", BespokeFit is a python package which allows users to easily generate bespoke force field parameters for\n",
    "their molecules under study which compliment the base OpenFF force field. Here we can think of BespokeFit as our general fitting\n",
    "scheme which can be applied to new molecules to generate bespoke parameters on the fly for new unseen chemistry.\n",
    "\n",
    "You may have seen [previously](https://openforcefield.org/community/news/science-updates/ff-training-example-2021-07-01/)\n",
    "how BespokeFit, QCSubmit and QCFractal can be combined to fit general force fields and this time we are going to show\n",
    "its other side and walk through an application to a simple molecule.\n",
    "\n",
    "This will have the following structure:\n",
    "- Building the general BespokeFit optimisation workflow\n",
    "- Building and inspecting the molecule specific optimisation schema made from the general workflow\n",
    "- Setup and run the BespokeExecutor\n",
    "- Inspecting the fitted parameters\n",
    "\n",
    "## Building the general workflow\n",
    "\n",
    "BespokeFit aims to provide a reproducible parameter optimization workflow for SMIRNOFF based force fields.\n",
    "As such normal BespokeFit execution starts with a general fitting workflow. This captures every process in the\n",
    "workflow along with any adjustable settings such as how the reference data should be generated. The default workflow\n",
    "is designed to optimize bespoke torsion parameters at the same level of theory as that used in the mainline openff force fields.\n",
    "Here however, we will be starting with a blank workflow and building it up as we go.\n",
    "\n",
    "First, we start with our optimization engine, which is an easy choice as we currently only support the fantastic\n",
    "[ForceBalance](https://github.com/leeping/forcebalance) package (watch this space - optimizers are coming!).\n",
    "Let's start by creating the ForceBalance optimization schema."
   ]
  },
  {
   "cell_type": "code",
   "execution_count": 1,
   "id": "63eeb695",
   "metadata": {},
   "outputs": [
    {
     "data": {
      "text/plain": [
       "{'type': 'ForceBalance',\n",
       " 'max_iterations': 10,\n",
       " 'job_type': 'optimize',\n",
       " 'penalty_type': 'L2',\n",
       " 'step_convergence_threshold': 0.01,\n",
       " 'objective_convergence_threshold': 0.01,\n",
       " 'gradient_convergence_threshold': 0.01,\n",
       " 'n_criteria': 2,\n",
       " 'eigenvalue_lower_bound': 0.01,\n",
       " 'finite_difference_h': 0.01,\n",
       " 'penalty_additive': 1.0,\n",
       " 'initial_trust_radius': -0.25,\n",
       " 'minimum_trust_radius': 0.05,\n",
       " 'error_tolerance': 1.0,\n",
       " 'adaptive_factor': 0.2,\n",
       " 'adaptive_damping': 1.0,\n",
       " 'normalize_weights': False,\n",
       " 'extras': {}}"
      ]
     },
     "execution_count": 1,
     "metadata": {},
     "output_type": "execute_result"
    }
   ],
   "source": [
    "from openff.bespokefit.schema.optimizers import ForceBalanceSchema\n",
    "\n",
    "# options for forcebalance\n",
    "fb = ForceBalanceSchema()\n",
    "fb.dict()"
   ]
  },
  {
   "cell_type": "markdown",
   "id": "e2e7bdd3",
   "metadata": {},
   "source": [
    "As you can tell there are many options here and in some cases, it might not be clear what a valid input is. For example,\n",
    "what other penalty types could we use?  :sparkles:[Pydantic](https://github.com/samuelcolvin/pydantic):sparkles: to the rescue,  pydantic\n",
    "allows us to \"_define how data should be in pure, canonical python_\" and has run time validation to ensure our data is always correct.\n",
    "What's more we even get a `schema` method for each model for free which fully describes the model with a short description for each field\n",
    "and information on the acceptable inputs, it basically comes with its own documentation:book:. As such pydantic is used\n",
    "extensively throughout BespokeFit to try and catch possible input errors ahead of run time, there is nothing worse than queuing up\n",
    "a calculation for it to be instantly returned with an error on line one:man_facepalming:. Now the schema is\n",
    "validated during assignment as we see below. First lets start by inspecting the optimizer schema using:"
   ]
  },
  {
   "cell_type": "code",
   "execution_count": 2,
   "id": "4e19a4aa",
   "metadata": {
    "scrolled": true
   },
   "outputs": [
    {
     "data": {
      "text/plain": [
       "{'title': 'ForceBalanceSchema',\n",
       " 'description': 'A class containing the main ForceBalance optimizer settings to use during an\\noptimization.\\n\\nPriors and target definitions are stored separately as part of an\\n``OptimizationSchema``.',\n",
       " 'type': 'object',\n",
       " 'properties': {'type': {'title': 'Type',\n",
       "   'default': 'ForceBalance',\n",
       "   'enum': ['ForceBalance'],\n",
       "   'type': 'string'},\n",
       "  'max_iterations': {'title': 'Max Iterations',\n",
       "   'description': 'The maximum number of optimization iterations to perform.',\n",
       "   'default': 10,\n",
       "   'exclusiveMinimum': 0,\n",
       "   'type': 'integer'},\n",
       "  'job_type': {'title': 'Job Type',\n",
       "   'description': 'The mode to run force balance in.',\n",
       "   'default': 'optimize',\n",
       "   'enum': ['optimize'],\n",
       "   'type': 'string'},\n",
       "  'penalty_type': {'title': 'Penalty Type',\n",
       "   'description': 'The penalty type.',\n",
       "   'default': 'L2',\n",
       "   'enum': ['L1', 'L2'],\n",
       "   'type': 'string'},\n",
       "  'step_convergence_threshold': {'title': 'Step Convergence Threshold',\n",
       "   'description': 'The step size convergence criterion.',\n",
       "   'default': 0.01,\n",
       "   'exclusiveMinimum': 0,\n",
       "   'type': 'number'},\n",
       "  'objective_convergence_threshold': {'title': 'Objective Convergence Threshold',\n",
       "   'description': 'The objective function convergence criterion.',\n",
       "   'default': 0.01,\n",
       "   'exclusiveMinimum': 0,\n",
       "   'type': 'number'},\n",
       "  'gradient_convergence_threshold': {'title': 'Gradient Convergence Threshold',\n",
       "   'description': 'The gradient norm convergence criterion.',\n",
       "   'default': 0.01,\n",
       "   'exclusiveMinimum': 0,\n",
       "   'type': 'number'},\n",
       "  'n_criteria': {'title': 'N Criteria',\n",
       "   'description': 'The number of convergence thresholds that must be met for convergence.',\n",
       "   'default': 2,\n",
       "   'exclusiveMinimum': 0,\n",
       "   'type': 'integer'},\n",
       "  'eigenvalue_lower_bound': {'title': 'Eigenvalue Lower Bound',\n",
       "   'description': 'The minimum eigenvalue for applying steepest descent correction.',\n",
       "   'default': 0.01,\n",
       "   'exclusiveMinimum': 0,\n",
       "   'type': 'number'},\n",
       "  'finite_difference_h': {'title': 'Finite Difference H',\n",
       "   'description': 'The step size for finite difference derivatives in many functions.',\n",
       "   'default': 0.01,\n",
       "   'exclusiveMinimum': 0,\n",
       "   'type': 'number'},\n",
       "  'penalty_additive': {'title': 'Penalty Additive',\n",
       "   'description': 'The factor for the multiplicative penalty function in the objective function.',\n",
       "   'default': 1.0,\n",
       "   'exclusiveMinimum': 0,\n",
       "   'type': 'number'},\n",
       "  'initial_trust_radius': {'title': 'Initial Trust Radius',\n",
       "   'description': \"The initial value of the optimizers adaptive trust radius which 'adapts' (i.e. increases or decreases) based on whether the last step was a good or bad step.\",\n",
       "   'default': -0.25,\n",
       "   'type': 'number'},\n",
       "  'minimum_trust_radius': {'title': 'Minimum Trust Radius',\n",
       "   'description': 'The minimum value of the optimizers adaptive trust radius.',\n",
       "   'default': 0.05,\n",
       "   'type': 'number'},\n",
       "  'error_tolerance': {'title': 'Error Tolerance',\n",
       "   'description': 'Steps that increase the objective function by more than this will be rejected.',\n",
       "   'default': 1.0,\n",
       "   'exclusiveMinimum': 0,\n",
       "   'type': 'number'},\n",
       "  'adaptive_factor': {'title': 'Adaptive Factor',\n",
       "   'description': 'The amount to change the step size by in the event of a good / bad step.',\n",
       "   'default': 0.2,\n",
       "   'exclusiveMinimum': 0,\n",
       "   'type': 'number'},\n",
       "  'adaptive_damping': {'title': 'Adaptive Damping',\n",
       "   'description': 'A damping factor that restraints the trust radius to trust0.',\n",
       "   'default': 1.0,\n",
       "   'exclusiveMinimum': 0,\n",
       "   'type': 'number'},\n",
       "  'normalize_weights': {'title': 'Normalize Weights',\n",
       "   'description': 'Whether to normalize the weights for the fitting targets',\n",
       "   'default': False,\n",
       "   'type': 'boolean'},\n",
       "  'extras': {'title': 'Extras',\n",
       "   'description': 'Extra settings (mostly logging settings) to include in the ForceBalance input file.',\n",
       "   'default': {},\n",
       "   'type': 'object',\n",
       "   'additionalProperties': {'type': 'string'}}}}"
      ]
     },
     "execution_count": 2,
     "metadata": {},
     "output_type": "execute_result"
    }
   ],
   "source": [
    "fb.schema()"
   ]
  },
  {
   "cell_type": "markdown",
   "id": "dc8c9bdc",
   "metadata": {},
   "source": [
    "We can now see that `penalty_type` only accepts the values L2 and L1 so lets try something else and see what happens.\n"
   ]
  },
  {
   "cell_type": "code",
   "execution_count": 3,
   "id": "dfd324e1",
   "metadata": {},
   "outputs": [],
   "source": [
    "#fb.penalty_type = \"L3\""
   ]
  },
  {
   "cell_type": "markdown",
   "id": "e6190353",
   "metadata": {},
   "source": [
    "Nice, we get an informative error message before even running the workflow!\n"
   ]
  },
  {
   "cell_type": "code",
   "execution_count": 4,
   "id": "1c087d13",
   "metadata": {},
   "outputs": [],
   "source": [
    "fb.penalty_type = \"L1\""
   ]
  },
  {
   "cell_type": "markdown",
   "id": "f8fc6983",
   "metadata": {},
   "source": [
    "Now we can set it to L1 and start to build up our workflow and see what other pieces we might need.\n",
    "\n",
    "{{< note >}}\n",
    "By default the workflow model comes ready to fit bespoke torsion parameters using Open Force Field best practices and\n",
    "default settings. Meaning only users who want absolute control over every setting (or developers showing of their work :grin:)\n",
    "would need to do this manual set up .\n",
    "{{< /note >}}\n",
    "\n",
    "\n",
    "Lets start by creating our `BespokeWorkflowFactory` which acts as a fitting template for future optimizations\n",
    "and add our `ForceBalanceSchema` optimizer settings. We can also remove all other defaults as we will go through them in\n",
    "the next sections.\n"
   ]
  },
  {
   "cell_type": "code",
   "execution_count": 5,
   "id": "69875e28",
   "metadata": {
    "scrolled": true
   },
   "outputs": [
    {
     "name": "stderr",
     "output_type": "stream",
     "text": [
      "Warning: Unable to load toolkit 'AmberTools'. \n"
     ]
    },
    {
     "name": "stdout",
     "output_type": "stream",
     "text": [
      "{'default_qc_specs': [],\n",
      " 'expand_torsion_terms': True,\n",
      " 'fragmentation_engine': None,\n",
      " 'generate_bespoke_terms': True,\n",
      " 'initial_force_field': 'openff_unconstrained-1.3.0.offxml',\n",
      " 'optimizer': {'adaptive_damping': 1.0,\n",
      "               'adaptive_factor': 0.2,\n",
      "               'eigenvalue_lower_bound': 0.01,\n",
      "               'error_tolerance': 1.0,\n",
      "               'extras': {},\n",
      "               'finite_difference_h': 0.01,\n",
      "               'gradient_convergence_threshold': 0.01,\n",
      "               'initial_trust_radius': -0.25,\n",
      "               'job_type': 'optimize',\n",
      "               'max_iterations': 10,\n",
      "               'minimum_trust_radius': 0.05,\n",
      "               'n_criteria': 2,\n",
      "               'normalize_weights': False,\n",
      "               'objective_convergence_threshold': 0.01,\n",
      "               'penalty_additive': 1.0,\n",
      "               'penalty_type': 'L1',\n",
      "               'step_convergence_threshold': 0.01,\n",
      "               'type': 'ForceBalance'},\n",
      " 'parameter_hyperparameters': [],\n",
      " 'target_templates': [],\n",
      " 'target_torsion_smirks': ['[!#1]~[!$(*#*)&!D1:1]-,=;!@[!$(*#*)&!D1:2]~[!#1]']}\n"
     ]
    }
   ],
   "source": [
    "from openff.bespokefit.workflows import BespokeWorkflowFactory\n",
    "from pprint import pprint\n",
    "\n",
    "workflow = BespokeWorkflowFactory(\n",
    "    fragmentation_engine=None, \n",
    "    optimizer=fb, \n",
    "    parameter_hyperparameters=[], \n",
    "    target_templates=[], \n",
    "    default_qc_specs=[]\n",
    ")\n",
    "pprint(workflow.dict())"
   ]
  },
  {
   "cell_type": "markdown",
   "id": "ef169733",
   "metadata": {},
   "source": [
    "### Stage 1 Fragmentation\n",
    "\n",
    "BespokeFit makes extensive use of the fantastic [openff-fragmenter](https://github.com/openforcefield/openff-fragmenter)\n",
    "package where possible to reduce the cost of QM torsion drives as they can quickly become very expensive for large\n",
    "drug-like molecules. Here we will add the WBO based fragmentation scheme to the pipeline with default settings. You can find\n",
    "out more about how fragmenter works in a pre-print [here](https://www.biorxiv.org/content/10.1101/2020.08.27.270934v1)."
   ]
  },
  {
   "cell_type": "code",
   "execution_count": 6,
   "id": "47583377",
   "metadata": {},
   "outputs": [],
   "source": [
    "from openff.fragmenter.fragment import WBOFragmenter\n",
    "\n",
    "fragmenter = WBOFragmenter()\n",
    "workflow.fragmentation_engine = fragmenter"
   ]
  },
  {
   "cell_type": "markdown",
   "id": "45516d4d",
   "metadata": {},
   "source": [
    "By default, fragmenter will not fragment terminal rotatable bonds (such as methyl groups) as these are assumed to be\n",
    "trivial and well described by our chosen force field. However, to keep things simple in our example we will be working with\n",
    "`BrCO` and so we need to change this behaviour. Luckily BespokeFit/fragmenter allow us to overwrite this behaviour\n",
    "by defining a SMARTS pattern (chemical substructure) which will be used to select the rotatable bonds."
   ]
  },
  {
   "cell_type": "code",
   "execution_count": 7,
   "id": "4a6f879d",
   "metadata": {},
   "outputs": [],
   "source": [
    "workflow.target_torsion_smirks = [\"[*]~[!$(*#*)&!D1:1]-,=;!@[!$(*#*)&!D1:2]~[*]\"]\n",
    "\n"
   ]
  },
  {
   "cell_type": "markdown",
   "id": "f5aaf609",
   "metadata": {},
   "source": [
    "Here we have taken the default SMARTS pattern `[!#1]~[!$(*#*)&!D1:1]-,=;!@[!$(*#*)&!D1:2]~[!#1]` used to find torsions\n",
    "and allowed the connecting atoms to the central bond to be hydrogens. This will ensure our simple molecule is processed\n",
    "by the workflow, as without this change the workflow would reject the molecule as with no `rotatable` bonds there would be\n",
    "no work to do :man_shrugging:.\n",
    "\n",
    "\n",
    "### Stage 2 Reference Generation\n",
    "\n",
    "As you may have guessed we are going to need some target reference data to optimize our force field parameters against\n",
    "and that's where the target templates come in. These `target schemas` have two main functions:\n",
    "- Describe the contribution to the total error function in the parameter optimization\n",
    "- Generate specific reference data tasks that need to be computed in order to train with the target\n",
    "\n",
    "In this case we will be using the `TorsionProfileTargetSchema` which requires a torsiondrive as input data. That is\n",
    "a series of constrained geometry optimizations around the targeted rotatable bond, usually ranging from -180 -> 180 degrees\n",
    "in 15 degree increments. There is slightly more to a torsiondrive than that and you can read more about how it works in the\n",
    "[paper](https://doi.org/10.1063/5.0009232), but for now the main point is that we should get back a series of geometries\n",
    "and energies to fit to. The actual torsion profile target then contributes the average RMSE between the QM and MM\n",
    "energies at each geometry to the objective function and has a small number of settings exposed which we can see here."
   ]
  },
  {
   "cell_type": "code",
   "execution_count": 8,
   "id": "493a380f",
   "metadata": {},
   "outputs": [
    {
     "name": "stdout",
     "output_type": "stream",
     "text": [
      "{'attenuate_weights': True,\n",
      " 'energy_cutoff': 10.0,\n",
      " 'energy_denominator': 1.0,\n",
      " 'extras': {},\n",
      " 'reference_data': None,\n",
      " 'type': 'TorsionProfile',\n",
      " 'weight': 1.0}\n"
     ]
    }
   ],
   "source": [
    "from openff.bespokefit.schema.targets import TorsionProfileTargetSchema\n",
    "\n",
    "target = TorsionProfileTargetSchema()\n",
    "workflow.target_templates = [target, ]\n",
    "pprint(target.dict())"
   ]
  },
  {
   "cell_type": "markdown",
   "id": "2e8df449",
   "metadata": {},
   "source": [
    "You will also note that we passed the target in a list as the optimizer can use multiple targets to construct the objective\n",
    "function, you can check out [Simons blog](https://openforcefield.org/community/news/science-updates/ff-training-example-2021-07-01/)\n",
    "to see this in action.\n",
    "\n",
    "{{< warning >}}\n",
    "All target templates passed to the optimizer will be exercised at the same time as multi-stage fits are not yet supported.\n",
    "{{< /warning >}}\n",
    "\n",
    "We now need to tell BespokeFit what program, method and basis should be used to actually compute the reference tasks. As\n",
    "we use the game changing [QCEngine](https://github.com/MolSSI/QCEngine) to power these calculations we have a wide range\n",
    "of possibilities with one standard interface. BespokeFit defines the target specification using the `QCSpec` class from\n",
    "QCSubmit which has built in validation to again catch any errors early in the process. Choosing a new QC task\n",
    "specification for all tasks in the BespokeFit workflow is then as simple as:"
   ]
  },
  {
   "cell_type": "code",
   "execution_count": 9,
   "id": "fb61da9a",
   "metadata": {},
   "outputs": [],
   "source": [
    "from openff.qcsubmit.common_structures import QCSpec\n",
    "\n",
    "xtb_spec = QCSpec(\n",
    "    method=\"gfn2xtb\", \n",
    "    basis=None, \n",
    "    program=\"xtb\", \n",
    "    spec_name=\"xtb\", \n",
    "    spec_description=\"gfn2xtb\"\n",
    ")\n",
    "\n",
    "workflow.default_qc_specs = [xtb_spec]"
   ]
  },
  {
   "cell_type": "markdown",
   "id": "31fd8d4e",
   "metadata": {},
   "source": [
    "To keep things moving quickly we have chosen to use a semi-empirical QC method, but by default BespokeFit will use the\n",
    "same level of theory as that used to fit the main line force fields.\n",
    "\n",
    "\n",
    "### Stage 3 Parameter Optimization\n",
    "\n",
    "Finally, we have the parameter optimization stage and as we have already set up our optimizer using `ForceBalance` the last step\n",
    "is to define some parameter hyperparameters. These tell BespokeFit which parameters we would like to fit and allows us to\n",
    "define a prior to the parameter."
   ]
  },
  {
   "cell_type": "code",
   "execution_count": 10,
   "id": "36422a09",
   "metadata": {},
   "outputs": [],
   "source": [
    "from openff.bespokefit.schema.smirnoff import  ProperTorsionHyperparameters\n",
    "\n",
    "prior = ProperTorsionHyperparameters()\n",
    "workflow.parameter_hyperparameters = [prior]"
   ]
  },
  {
   "cell_type": "markdown",
   "id": "9bc8da1d",
   "metadata": {},
   "source": [
    "BespokeFit now knows we intend to optimize the torsion parameters to the target and with these final two settings we\n",
    "can generate SMARTS patterns specific to the molecules that pass through the workflow and to fully expand\n",
    "the torsion parameters to use all available k values."
   ]
  },
  {
   "cell_type": "code",
   "execution_count": 11,
   "id": "ae6d5d03",
   "metadata": {},
   "outputs": [],
   "source": [
    "workflow.generate_bespoke_terms = True\n",
    "workflow.expand_torsion_terms = True"
   ]
  },
  {
   "cell_type": "markdown",
   "id": "6d4b7bb3",
   "metadata": {},
   "source": [
    "All that is left to do now is to save the workflow to file for later use, this is now our general workflow template which\n",
    "we can apply to all molecules that pass into the BespokeFit pipeline. The serialized workflow is also a fantastic provenance\n",
    "store, making it easy to tell exactly what settings were used to compute the parameters in a project."
   ]
  },
  {
   "cell_type": "code",
   "execution_count": 12,
   "id": "7bee7f91",
   "metadata": {},
   "outputs": [],
   "source": [
    "# write to json\n",
    "workflow.export_factory(\"workflow.json\")\n",
    "# or yaml\n",
    "#workflow.export_factory(\"workflow.yaml\")"
   ]
  },
  {
   "cell_type": "markdown",
   "id": "43f67feb",
   "metadata": {},
   "source": [
    "## Building the Molecule Specific Schema\n",
    "\n",
    "Now we can use our general fitting schema to build a molecule specific optimization schema.\n",
    "This schema fully defines the optimization protocol that should be applied to the molecule including information\n",
    "about the reference data generation tasks which BespokeFit will automatically perform locally for us. In this\n",
    "example we will be using `BrCO`, so lets create the molecule using the `openff-toolkit`, save it to file for later and\n",
    "create a `BespokeOptimizationSchema` for it using our workflow:"
   ]
  },
  {
   "cell_type": "code",
   "execution_count": 83,
   "id": "9927fd31",
   "metadata": {},
   "outputs": [],
   "source": [
    "from openff.toolkit.topology import Molecule\n",
    "\n",
    "target_molecule = Molecule.from_smiles(\"BrCO\")\n",
    "#target_molecule = Molecule.from_smiles(\"CC1=CC(OC2=CC(C(O)=O)=CC(OC)=C2)=CC(OC)=C1\")\n",
    "target_molecule.generate_conformers(n_conformers=1)\n",
    "# write to file for later\n",
    "target_molecule.to_file(file_path=\"test.sdf\", file_format=\"sdf\")\n",
    "# make the specific schema\n",
    "schema = workflow.optimization_schema_from_molecule(molecule=target_molecule)"
   ]
  },
  {
   "cell_type": "markdown",
   "id": "d111bcbd",
   "metadata": {},
   "source": [
    "If we now inspect the schema we find two main changes, i) the input molecule has been inserted, ii) some bespoke SMARTS patterns\n",
    "have been created for the rotatable torsion identified in the molecule. These patterns and the initial force field values\n",
    "can be easily viewed via:"
   ]
  },
  {
   "cell_type": "code",
   "execution_count": 14,
   "id": "769ba025",
   "metadata": {},
   "outputs": [
    {
     "data": {
      "text/plain": [
       "{ProperTorsionSMIRKS(type='ProperTorsions', smirks='[#35H0X1x0!r+0A:1]-;!@[#6H2X4x0!r+0A:2](-;!@[#1H0X1x0!r+0A])(-;!@[#1H0X1x0!r+0A])-;!@[#8H1X2x0!r+0A:3]-;!@[#1H0X1x0!r+0A:4]', attributes={'k2', 'k4', 'k1', 'k3'}): {'k2': Quantity(value=0, unit=kilocalorie/mole),\n",
       "  'k4': Quantity(value=0, unit=kilocalorie/mole),\n",
       "  'k1': Quantity(value=0, unit=kilocalorie/mole),\n",
       "  'k3': Quantity(value=0.6985935181583, unit=kilocalorie/mole)},\n",
       " ProperTorsionSMIRKS(type='ProperTorsions', smirks='[#1H0X1x0!r+0A:1]-;!@[#6H2X4x0!r+0A:2](-;!@[#1H0X1x0!r+0A])(-;!@[#35H0X1x0!r+0A])-;!@[#8H1X2x0!r+0A:3]-;!@[#1H0X1x0!r+0A:4]', attributes={'k2', 'k4', 'k1', 'k3'}): {'k2': Quantity(value=0, unit=kilocalorie/mole),\n",
       "  'k4': Quantity(value=0, unit=kilocalorie/mole),\n",
       "  'k1': Quantity(value=0, unit=kilocalorie/mole),\n",
       "  'k3': Quantity(value=0.6985935181583, unit=kilocalorie/mole)}}"
      ]
     },
     "execution_count": 14,
     "metadata": {},
     "output_type": "execute_result"
    }
   ],
   "source": [
    "schema.initial_parameter_values"
   ]
  },
  {
   "cell_type": "markdown",
   "id": "d3d9f94b",
   "metadata": {},
   "source": [
    "You may also notice that as requested BespokeFit has expanded the k terms for each torsion parameter with each new term\n",
    "set to zero by default. The non-zero values are then taken from the base force field to form our initial parameter values.\n",
    "We can also use the `openff-toolkit` to query the molecule and identify the atoms matching these new patterns and\n",
    "understand how the parameters will be applied to the molecule by visualizing the substructures."
   ]
  },
  {
   "cell_type": "code",
   "execution_count": 15,
   "id": "c8cfc73f",
   "metadata": {},
   "outputs": [
    {
     "data": {
      "image/png": "[encoded data removed]",
      "text/plain": [
       "<IPython.core.display.Image object>"
      ]
     },
     "execution_count": 15,
     "metadata": {},
     "output_type": "execute_result"
    }
   ],
   "source": [
    "from rdkit.Chem import Draw, rdDepictor\n",
    "\n",
    "parameters = schema.parameters\n",
    "rd_mol = target_molecule.to_rdkit()\n",
    "rdDepictor.Compute2DCoords(rd_mol)\n",
    "rd_mols = []\n",
    "atoms = []\n",
    "for parameter in parameters:\n",
    "    matches = target_molecule.chemical_environment_matches(query=parameter.smirks)\n",
    "    flat_matches = [atom for match in matches for atom in match]\n",
    "    rd_mols.append(rd_mol)\n",
    "    atoms.append(flat_matches)\n",
    "\n",
    "Draw.MolsToGridImage(rd_mols, highlightAtomLists=atoms)"
   ]
  },
  {
   "cell_type": "markdown",
   "id": "03c7cf3b",
   "metadata": {},
   "source": [
    "We can see that BespokeFit has generated two bespoke SMARTS patterns, as determined by the\n",
    "symmetry of the atoms around the central bond, covering all three torsion terms.\n",
    "\n",
    "## Setting up the BespokeExecutor\n",
    "\n",
    "In the last blog post we made use of the invaluable QCFractal infrastructure to compute our target data. Since then however,\n",
    "we have been hard at work to offer a local execution pathway as an alternative reference generation method.\n",
    "Here we still use QCEngine to execute the tasks, but spin up simple [Celery](https://docs.celeryproject.org/en/latest/index.html)\n",
    "workers to perform the jobs. In fact the BespokeFit executor has been totally reworked to allow for a more flexible and scalable\n",
    "fitting solution. Each of the major stages: fragmentation, reference generation and optimization are carried out\n",
    "by dedicated workers which can be on the same local machine or distributed over multiple. Here we will be spinning up\n",
    "the `BespokeExecutor` and three workers, one for each of the stages, in a single line! We will then submit our optimization\n",
    "task via the RESTful API and let BespokeFit take care of the rest.\n",
    "\n"
   ]
  },
  {
   "cell_type": "code",
   "execution_count": 16,
   "id": "c4f42b06",
   "metadata": {},
   "outputs": [
    {
     "name": "stderr",
     "output_type": "stream",
     "text": [
      "Warning: Unable to load toolkit 'AmberTools'. \n",
      "Warning: Unable to load toolkit 'AmberTools'. \n",
      "Warning: Unable to load toolkit 'AmberTools'. \n",
      "Warning: Unable to load toolkit 'AmberTools'. \n"
     ]
    },
    {
     "data": {
      "application/vnd.jupyter.widget-view+json": {
       "model_id": "",
       "version_major": 2,
       "version_minor": 0
      },
      "text/plain": [
       "Output()"
      ]
     },
     "metadata": {},
     "output_type": "display_data"
    },
    {
     "data": {
      "text/html": [
       "<pre style=\"white-space:pre;overflow-x:auto;line-height:normal;font-family:Menlo,'DejaVu Sans Mono',consolas,'Courier New',monospace\"></pre>\n"
      ],
      "text/plain": []
     },
     "metadata": {},
     "output_type": "display_data"
    },
    {
     "data": {
      "text/html": [
       "<pre style=\"white-space:pre;overflow-x:auto;line-height:normal;font-family:Menlo,'DejaVu Sans Mono',consolas,'Courier New',monospace\">\n",
       "</pre>\n"
      ],
      "text/plain": [
       "\n"
      ]
     },
     "metadata": {},
     "output_type": "display_data"
    },
    {
     "data": {
      "text/html": [
       "<pre style=\"white-space:pre;overflow-x:auto;line-height:normal;font-family:Menlo,'DejaVu Sans Mono',consolas,'Courier New',monospace\"><span style=\"font-weight: bold\">[</span><span style=\"color: #008000; text-decoration-color: #008000\">✓</span><span style=\"font-weight: bold\">]</span> fragmentation successful\n",
       "</pre>\n"
      ],
      "text/plain": [
       "\u001b[1m[\u001b[0m\u001b[32m✓\u001b[0m\u001b[1m]\u001b[0m fragmentation successful\n"
      ]
     },
     "metadata": {},
     "output_type": "display_data"
    },
    {
     "data": {
      "application/vnd.jupyter.widget-view+json": {
       "model_id": "",
       "version_major": 2,
       "version_minor": 0
      },
      "text/plain": [
       "Output()"
      ]
     },
     "metadata": {},
     "output_type": "display_data"
    },
    {
     "data": {
      "text/html": [
       "<pre style=\"white-space:pre;overflow-x:auto;line-height:normal;font-family:Menlo,'DejaVu Sans Mono',consolas,'Courier New',monospace\"></pre>\n"
      ],
      "text/plain": []
     },
     "metadata": {},
     "output_type": "display_data"
    },
    {
     "data": {
      "text/html": [
       "<pre style=\"white-space:pre;overflow-x:auto;line-height:normal;font-family:Menlo,'DejaVu Sans Mono',consolas,'Courier New',monospace\">\n",
       "</pre>\n"
      ],
      "text/plain": [
       "\n"
      ]
     },
     "metadata": {},
     "output_type": "display_data"
    },
    {
     "data": {
      "text/html": [
       "<pre style=\"white-space:pre;overflow-x:auto;line-height:normal;font-family:Menlo,'DejaVu Sans Mono',consolas,'Courier New',monospace\"><span style=\"font-weight: bold\">[</span><span style=\"color: #008000; text-decoration-color: #008000\">✓</span><span style=\"font-weight: bold\">]</span> qc-generation successful\n",
       "</pre>\n"
      ],
      "text/plain": [
       "\u001b[1m[\u001b[0m\u001b[32m✓\u001b[0m\u001b[1m]\u001b[0m qc-generation successful\n"
      ]
     },
     "metadata": {},
     "output_type": "display_data"
    },
    {
     "data": {
      "application/vnd.jupyter.widget-view+json": {
       "model_id": "",
       "version_major": 2,
       "version_minor": 0
      },
      "text/plain": [
       "Output()"
      ]
     },
     "metadata": {},
     "output_type": "display_data"
    },
    {
     "data": {
      "text/html": [
       "<pre style=\"white-space:pre;overflow-x:auto;line-height:normal;font-family:Menlo,'DejaVu Sans Mono',consolas,'Courier New',monospace\"></pre>\n"
      ],
      "text/plain": []
     },
     "metadata": {},
     "output_type": "display_data"
    },
    {
     "data": {
      "text/html": [
       "<pre style=\"white-space:pre;overflow-x:auto;line-height:normal;font-family:Menlo,'DejaVu Sans Mono',consolas,'Courier New',monospace\">\n",
       "</pre>\n"
      ],
      "text/plain": [
       "\n"
      ]
     },
     "metadata": {},
     "output_type": "display_data"
    },
    {
     "data": {
      "text/html": [
       "<pre style=\"white-space:pre;overflow-x:auto;line-height:normal;font-family:Menlo,'DejaVu Sans Mono',consolas,'Courier New',monospace\"><span style=\"font-weight: bold\">[</span><span style=\"color: #008000; text-decoration-color: #008000\">✓</span><span style=\"font-weight: bold\">]</span> optimization successful\n",
       "</pre>\n"
      ],
      "text/plain": [
       "\u001b[1m[\u001b[0m\u001b[32m✓\u001b[0m\u001b[1m]\u001b[0m optimization successful\n"
      ]
     },
     "metadata": {},
     "output_type": "display_data"
    },
    {
     "name": "stderr",
     "output_type": "stream",
     "text": [
      "\n",
      "worker: Warm shutdown (MainProcess)\n",
      "\n",
      "worker: Warm shutdown (MainProcess)\n",
      "\n",
      "worker: Warm shutdown (MainProcess)\n"
     ]
    }
   ],
   "source": [
    "from openff.bespokefit.executor import BespokeExecutor, wait_until_complete\n",
    "import os\n",
    "\n",
    "# set keep files to true so we can view the results\n",
    "os.environ[\"BEFLOW_KEEP_FILES\"] = \"True\"\n",
    "\n",
    "# launch the executor\n",
    "with BespokeExecutor(\n",
    "        n_fragmenter_workers=1,\n",
    "        n_qc_compute_workers=1,\n",
    "        n_optimizer_workers=1) as executor:\n",
    "    # grab the task id and wait for the task to finish\n",
    "    task = executor.submit(input_schema=schema)\n",
    "    result = wait_until_complete(optimization_id=task.id)"
   ]
  },
  {
   "cell_type": "code",
   "execution_count": 23,
   "id": "738f58cb",
   "metadata": {},
   "outputs": [
    {
     "data": {
      "text/plain": [
       "CoordinatorGETResponse(self='/api/v1/tasks/13', id='13', stages=[CoordinatorGETStageStatus(type='fragmentation', status='success', error='null', results=[Link(self='/api/v1/fragmentations/ec394256-d3cb-42d3-8be5-48a7e9a58b6c', id='ec394256-d3cb-42d3-8be5-48a7e9a58b6c')]), CoordinatorGETStageStatus(type='qc-generation', status='success', error='[null]', results=[Link(self='/api/v1/qc-calcs/8addc192-1318-4623-9a3a-d910a61a53db', id='8addc192-1318-4623-9a3a-d910a61a53db')]), CoordinatorGETStageStatus(type='optimization', status='success', error='null', results=[Link(self='/api/v1/optimizations/f123a6db-cdb4-4e6c-aa2e-22c8faba390c', id='f123a6db-cdb4-4e6c-aa2e-22c8faba390c')])], results=BespokeOptimizationResults(type='bespoke', input_schema=BespokeOptimizationSchema(type='bespoke', id='f123a6db-cdb4-4e6c-aa2e-22c8faba390c', initial_force_field='<?xml version=\"1.0\" encoding=\"utf-8\"?>\\n<SMIRNOFF version=\"0.3\" aromaticity_model=\"OEAroModel_MDL\">\\n    <Author>The Open Force Field Initiative</Author>\\n    <Date>2020-10-21</Date>\\n    <Bonds version=\"0.3\" potential=\"harmonic\" fractional_bondorder_method=\"AM1-Wiberg\" fractional_bondorder_interpolation=\"linear\">\\n        <Bond smirks=\"[#6X4:1]-[#6X4:2]\" id=\"b1\" length=\"1.520980132854 * angstrom\" k=\"517.2187207483 * angstrom**-2 * mole**-1 * kilocalorie\"></Bond>\\n        <Bond smirks=\"[#6X4:1]-[#6X3:2]\" id=\"b2\" length=\"1.501037244555 * angstrom\" k=\"601.2284108955 * angstrom**-2 * mole**-1 * kilocalorie\"></Bond>\\n        <Bond smirks=\"[#6X4:1]-[#6X3:2]=[#8X1+0]\" id=\"b3\" length=\"1.521644911471 * angstrom\" k=\"663.5796689652 * angstrom**-2 * mole**-1 * kilocalorie\"></Bond>\\n        <Bond smirks=\"[#6X3:1]-[#6X3:2]\" id=\"b4\" length=\"1.452604804913 * angstrom\" k=\"541.7488836693 * angstrom**-2 * mole**-1 * kilocalorie\"></Bond>\\n        <Bond smirks=\"[#6X3:1]:[#6X3:2]\" id=\"b5\" length=\"1.390518677532 * angstrom\" k=\"689.2732730871 * angstrom**-2 * mole**-1 * kilocalorie\"></Bond>\\n        <Bond smirks=\"[#6X3:1]=[#6X3:2]\" id=\"b6\" length=\"1.376004247979 * angstrom\" k=\"785.4733197609 * angstrom**-2 * mole**-1 * kilocalorie\"></Bond>\\n        <Bond smirks=\"[#6:1]-[#7:2]\" id=\"b7\" length=\"1.461531761708 * angstrom\" k=\"716.4576464043 * angstrom**-2 * mole**-1 * kilocalorie\"></Bond>\\n        <Bond smirks=\"[#6X3:1]-[#7X3:2]\" id=\"b8\" length=\"1.390168708029 * angstrom\" k=\"768.655536364 * angstrom**-2 * mole**-1 * kilocalorie\"></Bond>\\n        <Bond smirks=\"[#6X4:1]-[#7X3:2]-[#6X3]=[#8X1+0]\" id=\"b9\" length=\"1.449346371125 * angstrom\" k=\"704.4966056244 * angstrom**-2 * mole**-1 * kilocalorie\"></Bond>\\n        <Bond smirks=\"[#6X3:1](=[#8X1+0])-[#7X3:2]\" id=\"b10\" length=\"1.375574777154 * angstrom\" k=\"958.7048267044 * angstrom**-2 * mole**-1 * kilocalorie\"></Bond>\\n        <Bond smirks=\"[#6X3:1]-[#7X2:2]\" id=\"b11\" length=\"1.38106431582 * angstrom\" k=\"708.3989749935 * angstrom**-2 * mole**-1 * kilocalorie\"></Bond>\\n        <Bond smirks=\"[#6X3:1]:[#7X2,#7X3+1:2]\" id=\"b12\" length=\"1.332172844737 * angstrom\" k=\"831.8762885839 * angstrom**-2 * mole**-1 * kilocalorie\"></Bond>\\n        <Bond smirks=\"[#6X3:1]=[#7X2,#7X3+1:2]\" id=\"b13\" length=\"1.300220697757 * angstrom\" k=\"987.2600166236 * angstrom**-2 * mole**-1 * kilocalorie\"></Bond>\\n        <Bond smirks=\"[#6:1]-[#8:2]\" id=\"b14\" length=\"1.429330393438 * angstrom\" k=\"664.3946131079 * angstrom**-2 * mole**-1 * kilocalorie\"></Bond>\\n        <Bond smirks=\"[#6X3:1]-[#8X1-1:2]\" id=\"b14a\" length=\"1.285001656711 * angstrom\" k=\"638.4370163325 * angstrom**-2 * mole**-1 * kilocalorie\"></Bond>\\n        <Bond smirks=\"[#6X4:1]-[#8X2H0:2]\" id=\"b15\" length=\"1.428928113679 * angstrom\" k=\"736.4755257787 * angstrom**-2 * mole**-1 * kilocalorie\"></Bond>\\n        <Bond smirks=\"[#6X3:1]-[#8X2:2]\" id=\"b16\" length=\"1.368612166925 * angstrom\" k=\"719.7194400131 * angstrom**-2 * mole**-1 * kilocalorie\"></Bond>\\n        <Bond smirks=\"[#6X3:1]-[#8X2H1:2]\" id=\"b17\" length=\"1.369468156503 * angstrom\" k=\"790.2138705471 * angstrom**-2 * mole**-1 * kilocalorie\"></Bond>\\n        <Bond smirks=\"[#6X3a:1]-[#8X2H0:2]\" id=\"b18\" length=\"1.369247314096 * angstrom\" k=\"827.3303999397 * angstrom**-2 * mole**-1 * kilocalorie\"></Bond>\\n        <Bond smirks=\"[#6X3:1](=[#8X1])-[#8X2H0:2]\" id=\"b19\" length=\"1.350125361867 * angstrom\" k=\"616.6889982732 * angstrom**-2 * mole**-1 * kilocalorie\"></Bond>\\n        <Bond smirks=\"[#6:1]=[#8X1+0,#8X2+1:2]\" id=\"b20\" length=\"1.228792915057 * angstrom\" k=\"1176.748901628 * angstrom**-2 * mole**-1 * kilocalorie\"></Bond>\\n        <Bond smirks=\"[#6X3:1](~[#8X1])~[#8X1:2]\" id=\"b21\" length=\"1.261437823232 * angstrom\" k=\"1157.796595057 * angstrom**-2 * mole**-1 * kilocalorie\"></Bond>\\n        <Bond smirks=\"[#6X3:1]~[#8X2+1:2]~[#6X3]\" id=\"b22\" length=\"1.360087778512 * angstrom\" k=\"1088.75931445 * angstrom**-2 * mole**-1 * kilocalorie\"></Bond>\\n        <Bond smirks=\"[#6X2:1]-[#6:2]\" id=\"b23\" length=\"1.426031948982 * angstrom\" k=\"1640.574559316 * angstrom**-2 * mole**-1 * kilocalorie\"></Bond>\\n        <Bond smirks=\"[#6X2:1]-[#6X4:2]\" id=\"b24\" length=\"1.453716802068 * angstrom\" k=\"800.0 * angstrom**-2 * mole**-1 * kilocalorie\"></Bond>\\n        <Bond smirks=\"[#6X2:1]=[#6X3:2]\" id=\"b25\" length=\"1.313916554213 * angstrom\" k=\"1161.375438886 * angstrom**-2 * mole**-1 * kilocalorie\"></Bond>\\n        <Bond smirks=\"[#6:1]#[#7:2]\" id=\"b26\" length=\"1.166493990729 * angstrom\" k=\"1622.571734028 * angstrom**-2 * mole**-1 * kilocalorie\"></Bond>\\n        <Bond smirks=\"[#6X2:1]#[#6X2:2]\" id=\"b27\" length=\"1.214267533917 * angstrom\" k=\"1000.0 * angstrom**-2 * mole**-1 * kilocalorie\"></Bond>\\n        <Bond smirks=\"[#6X2:1]-[#8X2:2]\" id=\"b28\" length=\"1.321538910206 * angstrom\" k=\"700.0497029132 * angstrom**-2 * mole**-1 * kilocalorie\"></Bond>\\n        <Bond smirks=\"[#6X2:1]-[#7:2]\" id=\"b29\" length=\"1.347314286573 * angstrom\" k=\"1033.464402026 * angstrom**-2 * mole**-1 * kilocalorie\"></Bond>\\n        <Bond smirks=\"[#6X2:1]=[#7:2]\" id=\"b30\" length=\"1.196112346392 * angstrom\" k=\"1205.62768674 * angstrom**-2 * mole**-1 * kilocalorie\"></Bond>\\n        <Bond smirks=\"[#16:1]=[#6:2]\" id=\"b31a\" length=\"1.671311106175 * angstrom\" k=\"593.8255795778 * angstrom**-2 * mole**-1 * kilocalorie\"></Bond>\\n        <Bond smirks=\"[#6X2:1]=[#16:2]\" id=\"b31\" length=\"1.580136796038 * angstrom\" k=\"971.078275835 * angstrom**-2 * mole**-1 * kilocalorie\"></Bond>\\n        <Bond smirks=\"[#7:1]-[#7:2]\" id=\"b32\" length=\"1.395820226577 * angstrom\" k=\"835.8939107268 * angstrom**-2 * mole**-1 * kilocalorie\"></Bond>\\n        <Bond smirks=\"[#7X3:1]-[#7X2:2]\" id=\"b33\" length=\"1.348040796856 * angstrom\" k=\"787.9587602802 * angstrom**-2 * mole**-1 * kilocalorie\"></Bond>\\n        <Bond smirks=\"[#7X2:1]-[#7X2:2]\" id=\"b34\" length=\"1.351789596719 * angstrom\" k=\"684.0446604673 * angstrom**-2 * mole**-1 * kilocalorie\"></Bond>\\n        <Bond smirks=\"[#7:1]:[#7:2]\" id=\"b35\" length=\"1.306827001896 * angstrom\" k=\"731.7076511835 * angstrom**-2 * mole**-1 * kilocalorie\"></Bond>\\n        <Bond smirks=\"[#7:1]=[#7:2]\" id=\"b36\" length=\"1.28836275019 * angstrom\" k=\"723.6243426279 * angstrom**-2 * mole**-1 * kilocalorie\"></Bond>\\n        <Bond smirks=\"[#7+1:1]=[#7-1:2]\" id=\"b36a\" length=\"1.216477474649 * angstrom\" k=\"765.606596983 * angstrom**-2 * mole**-1 * kilocalorie\"></Bond>\\n        <Bond smirks=\"[#7:1]#[#7:2]\" id=\"b37\" length=\"1.156918673037 * angstrom\" k=\"760.3057793033 * angstrom**-2 * mole**-1 * kilocalorie\"></Bond>\\n        <Bond smirks=\"[#7:1]-[#8X2:2]\" id=\"b38\" length=\"1.409351807267 * angstrom\" k=\"585.4468253974 * angstrom**-2 * mole**-1 * kilocalorie\"></Bond>\\n        <Bond smirks=\"[#7:1]~[#8X1:2]\" id=\"b39\" length=\"1.236596022356 * angstrom\" k=\"731.6290941822 * angstrom**-2 * mole**-1 * kilocalorie\"></Bond>\\n        <Bond smirks=\"[#8X2:1]-[#8X2:2]\" id=\"b40\" length=\"1.451203938761 * angstrom\" k=\"600.0627582923 * angstrom**-2 * mole**-1 * kilocalorie\"></Bond>\\n        <Bond smirks=\"[#16:1]-[#6:2]\" id=\"b41\" length=\"1.81 * angstrom\" k=\"474.0 * angstrom**-2 * mole**-1 * kilocalorie\"></Bond>\\n        <Bond smirks=\"[#16:1]-[#1:2]\" id=\"b42\" length=\"1.350439509509 * angstrom\" k=\"598.1961543498 * angstrom**-2 * mole**-1 * kilocalorie\"></Bond>\\n        <Bond smirks=\"[#16:1]-[#16:2]\" id=\"b43\" length=\"2.088681010671 * angstrom\" k=\"319.3489883071 * angstrom**-2 * mole**-1 * kilocalorie\"></Bond>\\n        <Bond smirks=\"[#16:1]-[#9:2]\" id=\"b44\" length=\"1.6 * angstrom\" k=\"750.0 * angstrom**-2 * mole**-1 * kilocalorie\"></Bond>\\n        <Bond smirks=\"[#16:1]-[#17:2]\" id=\"b45\" length=\"2.090689740082 * angstrom\" k=\"460.4266106166 * angstrom**-2 * mole**-1 * kilocalorie\"></Bond>\\n        <Bond smirks=\"[#16:1]-[#35:2]\" id=\"b46\" length=\"2.236089315911 * angstrom\" k=\"337.0828021823 * angstrom**-2 * mole**-1 * kilocalorie\"></Bond>\\n        <Bond smirks=\"[#16:1]-[#53:2]\" id=\"b47\" length=\"2.6 * angstrom\" k=\"150.0 * angstrom**-2 * mole**-1 * kilocalorie\"></Bond>\\n        <Bond smirks=\"[#16X2,#16X1-1,#16X3+1:1]-[#6X4:2]\" id=\"b48\" length=\"1.832604780293 * angstrom\" k=\"462.4390471119 * angstrom**-2 * mole**-1 * kilocalorie\"></Bond>\\n        <Bond smirks=\"[#16X2,#16X1-1,#16X3+1:1]-[#6X3:2]\" id=\"b49\" length=\"1.764695668665 * angstrom\" k=\"557.107757113 * angstrom**-2 * mole**-1 * kilocalorie\"></Bond>\\n        <Bond smirks=\"[#16X2:1]-[#7:2]\" id=\"b50\" length=\"1.685967252936 * angstrom\" k=\"601.0291285501 * angstrom**-2 * mole**-1 * kilocalorie\"></Bond>\\n        <Bond smirks=\"[#16X2:1]-[#8X2:2]\" id=\"b51\" length=\"1.670741273642 * angstrom\" k=\"514.4207231886 * angstrom**-2 * mole**-1 * kilocalorie\"></Bond>\\n        <Bond smirks=\"[#16X2:1]=[#8X1,#7X2:2]\" id=\"b52\" length=\"1.466630613191 * angstrom\" k=\"605.9448106876 * angstrom**-2 * mole**-1 * kilocalorie\"></Bond>\\n        <Bond smirks=\"[#16X4,#16X3!+1:1]-[#6:2]\" id=\"b53\" length=\"1.83094269297 * angstrom\" k=\"514.6069966574 * angstrom**-2 * mole**-1 * kilocalorie\"></Bond>\\n        <Bond smirks=\"[#16X4,#16X3:1]~[#7:2]\" id=\"b54\" length=\"1.745684938763 * angstrom\" k=\"594.5780213075 * angstrom**-2 * mole**-1 * kilocalorie\"></Bond>\\n        <Bond smirks=\"[#16X4,#16X3:1]-[#8X2:2]\" id=\"b55\" length=\"1.65750446814 * angstrom\" k=\"610.0430744451 * angstrom**-2 * mole**-1 * kilocalorie\"></Bond>\\n        <Bond smirks=\"[#16X4,#16X3:1]~[#8X1:2]\" id=\"b56\" length=\"1.477542175281 * angstrom\" k=\"1081.335593259 * angstrom**-2 * mole**-1 * kilocalorie\"></Bond>\\n        <Bond smirks=\"[#15:1]-[#1:2]\" id=\"b58\" length=\"1.409632139658 * angstrom\" k=\"400.1299638072 * angstrom**-2 * mole**-1 * kilocalorie\"></Bond>\\n        <Bond smirks=\"[#15:1]~[#6:2]\" id=\"b59\" length=\"1.834505699142 * angstrom\" k=\"322.3694911153 * angstrom**-2 * mole**-1 * kilocalorie\"></Bond>\\n        <Bond smirks=\"[#15:1]-[#7:2]\" id=\"b60\" length=\"1.75691942977 * angstrom\" k=\"626.4135650071 * angstrom**-2 * mole**-1 * kilocalorie\"></Bond>\\n        <Bond smirks=\"[#15:1]=[#7:2]\" id=\"b61\" length=\"1.593021554161 * angstrom\" k=\"820.4422422288 * angstrom**-2 * mole**-1 * kilocalorie\"></Bond>\\n        <Bond smirks=\"[#15:1]~[#8X2:2]\" id=\"b62\" length=\"1.617759068105 * angstrom\" k=\"512.3988511673 * angstrom**-2 * mole**-1 * kilocalorie\"></Bond>\\n        <Bond smirks=\"[#15:1]~[#8X1:2]\" id=\"b63\" length=\"1.488230653008 * angstrom\" k=\"1106.254480479 * angstrom**-2 * mole**-1 * kilocalorie\"></Bond>\\n        <Bond smirks=\"[#16:1]-[#15:2]\" id=\"b65\" length=\"2.136319123687 * angstrom\" k=\"298.0152402791 * angstrom**-2 * mole**-1 * kilocalorie\"></Bond>\\n        <Bond smirks=\"[#15:1]=[#16X1:2]\" id=\"b66\" length=\"1.98 * angstrom\" k=\"460.0 * angstrom**-2 * mole**-1 * kilocalorie\"></Bond>\\n        <Bond smirks=\"[#6:1]-[#9:2]\" id=\"b67\" length=\"1.35676207799 * angstrom\" k=\"787.4127028387 * angstrom**-2 * mole**-1 * kilocalorie\"></Bond>\\n        <Bond smirks=\"[#6X4:1]-[#9:2]\" id=\"b68\" length=\"1.3617226316 * angstrom\" k=\"674.5007516484 * angstrom**-2 * mole**-1 * kilocalorie\"></Bond>\\n        <Bond smirks=\"[#6:1]-[#17:2]\" id=\"b69\" length=\"1.741883517831 * angstrom\" k=\"414.8666889963 * angstrom**-2 * mole**-1 * kilocalorie\"></Bond>\\n        <Bond smirks=\"[#6X4:1]-[#17:2]\" id=\"b70\" length=\"1.790369734435 * angstrom\" k=\"356.5070790168 * angstrom**-2 * mole**-1 * kilocalorie\"></Bond>\\n        <Bond smirks=\"[#6:1]-[#35:2]\" id=\"b71\" length=\"1.90965418305 * angstrom\" k=\"402.7903763279 * angstrom**-2 * mole**-1 * kilocalorie\"></Bond>\\n        <Bond smirks=\"[#6X4:1]-[#35:2]\" id=\"b72\" length=\"1.97959447425 * angstrom\" k=\"366.4428580955 * angstrom**-2 * mole**-1 * kilocalorie\"></Bond>\\n        <Bond smirks=\"[#6:1]-[#53:2]\" id=\"b73\" length=\"2.290104274138 * angstrom\" k=\"361.0806584605 * angstrom**-2 * mole**-1 * kilocalorie\"></Bond>\\n        <Bond smirks=\"[#6X4:1]-[#53:2]\" id=\"b74\" length=\"2.166 * angstrom\" k=\"296.0 * angstrom**-2 * mole**-1 * kilocalorie\"></Bond>\\n        <Bond smirks=\"[#7:1]-[#9:2]\" id=\"b75\" length=\"1.416240764058 * angstrom\" k=\"317.8760684055 * angstrom**-2 * mole**-1 * kilocalorie\"></Bond>\\n        <Bond smirks=\"[#7:1]-[#17:2]\" id=\"b76\" length=\"1.802971565603 * angstrom\" k=\"299.9614086108 * angstrom**-2 * mole**-1 * kilocalorie\"></Bond>\\n        <Bond smirks=\"[#7:1]-[#35:2]\" id=\"b77\" length=\"1.964628156172 * angstrom\" k=\"197.8646423433 * angstrom**-2 * mole**-1 * kilocalorie\"></Bond>\\n        <Bond smirks=\"[#7:1]-[#53:2]\" id=\"b78\" length=\"2.1 * angstrom\" k=\"160.0 * angstrom**-2 * mole**-1 * kilocalorie\"></Bond>\\n        <Bond smirks=\"[#15:1]-[#9:2]\" id=\"b79\" length=\"1.64 * angstrom\" k=\"880.0 * angstrom**-2 * mole**-1 * kilocalorie\"></Bond>\\n        <Bond smirks=\"[#15:1]-[#17:2]\" id=\"b80\" length=\"2.048670045765 * angstrom\" k=\"329.7582652022 * angstrom**-2 * mole**-1 * kilocalorie\"></Bond>\\n        <Bond smirks=\"[#15:1]-[#35:2]\" id=\"b81\" length=\"2.239759015052 * angstrom\" k=\"234.5316006534 * angstrom**-2 * mole**-1 * kilocalorie\"></Bond>\\n        <Bond smirks=\"[#15:1]-[#53:2]\" id=\"b82\" length=\"2.6 * angstrom\" k=\"140.0 * angstrom**-2 * mole**-1 * kilocalorie\"></Bond>\\n        <Bond smirks=\"[#6X4:1]-[#1:2]\" id=\"b83\" length=\"1.093910524997 * angstrom\" k=\"754.0714751826 * angstrom**-2 * mole**-1 * kilocalorie\"></Bond>\\n        <Bond smirks=\"[#6X3:1]-[#1:2]\" id=\"b84\" length=\"1.08559714475 * angstrom\" k=\"808.490631655 * angstrom**-2 * mole**-1 * kilocalorie\"></Bond>\\n        <Bond smirks=\"[#6X2:1]-[#1:2]\" id=\"b85\" length=\"1.069754920038 * angstrom\" k=\"912.2382803119 * angstrom**-2 * mole**-1 * kilocalorie\"></Bond>\\n        <Bond smirks=\"[#7:1]-[#1:2]\" id=\"b86\" length=\"1.019165271886 * angstrom\" k=\"1013.23342171 * angstrom**-2 * mole**-1 * kilocalorie\"></Bond>\\n        <Bond smirks=\"[#8:1]-[#1:2]\" id=\"b87\" length=\"0.9713231822139 * angstrom\" k=\"1111.356329629 * angstrom**-2 * mole**-1 * kilocalorie\"></Bond>\\n    </Bonds>\\n    <Angles version=\"0.3\" potential=\"harmonic\">\\n        <Angle smirks=\"[*:1]~[#6X4:2]-[*:3]\" angle=\"113.6569396169 * degree\" k=\"99.23399412421 * mole**-1 * radian**-2 * kilocalorie\" id=\"a1\"></Angle>\\n        <Angle smirks=\"[#1:1]-[#6X4:2]-[#1:3]\" angle=\"114.294084683 * degree\" k=\"66.55229431401 * mole**-1 * radian**-2 * kilocalorie\" id=\"a2\"></Angle>\\n        <Angle smirks=\"[*;r3:1]1~;@[*;r3:2]~;@[*;r3:3]1\" angle=\"68.7768974088 * degree\" k=\"246.3550062006 * mole**-1 * radian**-2 * kilocalorie\" id=\"a3\"></Angle>\\n        <Angle smirks=\"[*;r3:1]~;@[*;r3:2]~;!@[*:3]\" angle=\"119.1676566821 * degree\" k=\"64.8195163698 * mole**-1 * radian**-2 * kilocalorie\" id=\"a4\"></Angle>\\n        <Angle smirks=\"[*:1]~;!@[*;r3:2]~;!@[*:3]\" angle=\"116.8236014207 * degree\" k=\"150.2649137811 * mole**-1 * radian**-2 * kilocalorie\" id=\"a5\"></Angle>\\n        <Angle smirks=\"[#1:1]-[*;r3:2]~;!@[*:3]\" angle=\"114.2871720717 * degree\" k=\"29.01270109077 * mole**-1 * radian**-2 * kilocalorie\" id=\"a6\"></Angle>\\n        <Angle smirks=\"[#6r4:1]-;@[#6r4:2]-;@[#6r4:3]\" angle=\"113.7538534311 * degree\" k=\"69.96659485515 * mole**-1 * radian**-2 * kilocalorie\" id=\"a7\"></Angle>\\n        <Angle smirks=\"[!#1:1]-[#6r4:2]-;!@[!#1:3]\" angle=\"116.6248777146 * degree\" k=\"161.6725328781 * mole**-1 * radian**-2 * kilocalorie\" id=\"a8\"></Angle>\\n        <Angle smirks=\"[!#1:1]-[#6r4:2]-;!@[#1:3]\" angle=\"115.86363475 * degree\" k=\"99.62540309017 * mole**-1 * radian**-2 * kilocalorie\" id=\"a9\"></Angle>\\n        <Angle smirks=\"[*:1]~[#6X3:2]~[*:3]\" angle=\"126.9451845871 * degree\" k=\"139.5224212084 * mole**-1 * radian**-2 * kilocalorie\" id=\"a10\"></Angle>\\n        <Angle smirks=\"[#1:1]-[#6X3:2]~[*:3]\" angle=\"131.2812074392 * degree\" k=\"66.08632381676 * mole**-1 * radian**-2 * kilocalorie\" id=\"a11\"></Angle>\\n        <Angle smirks=\"[#1:1]-[#6X3:2]-[#1:3]\" angle=\"132.7543469994 * degree\" k=\"51.34939042766 * mole**-1 * radian**-2 * kilocalorie\" id=\"a12\"></Angle>\\n        <Angle smirks=\"[*;r6:1]~;@[*;r5:2]~;@[*;r5;x2:3]\" angle=\"139.8741836055 * degree\" k=\"17.61284731578 * mole**-1 * radian**-2 * kilocalorie\" id=\"a13\"></Angle>\\n        <Angle smirks=\"[*:1]~;!@[*;X3;r5:2]~;@[*;r5:3]\" angle=\"131.6606428209 * degree\" k=\"90.02005228069 * mole**-1 * radian**-2 * kilocalorie\" id=\"a14\"></Angle>\\n        <Angle smirks=\"[#8X1:1]~[#6X3:2]~[#8:3]\" angle=\"128.7000354956 * degree\" k=\"409.8799740915 * mole**-1 * radian**-2 * kilocalorie\" id=\"a15\"></Angle>\\n        <Angle smirks=\"[*:1]~[#6X2:2]~[*:3]\" angle=\"180.0 * degree\" k=\"44.59529595116 * mole**-1 * radian**-2 * kilocalorie\" id=\"a16\"></Angle>\\n        <Angle smirks=\"[*:1]~[#7X2:2]~[*:3]\" angle=\"180.0 * degree\" k=\"86.50310208278 * mole**-1 * radian**-2 * kilocalorie\" id=\"a21\"></Angle>\\n        <Angle smirks=\"[*:1]-[#7X4,#7X3,#7X2-1:2]-[*:3]\" angle=\"113.1624837301 * degree\" k=\"146.3705872857 * mole**-1 * radian**-2 * kilocalorie\" id=\"a17\"></Angle>\\n        <Angle smirks=\"[#1:1]-[#7X4,#7X3,#7X2-1:2]-[*:3]\" angle=\"110.6117590576 * degree\" k=\"110.3199234663 * mole**-1 * radian**-2 * kilocalorie\" id=\"a18\"></Angle>\\n        <Angle smirks=\"[*:1]~[#7X3$(*~[#6X3,#6X2,#7X2+0]):2]~[*:3]\" angle=\"118.2043928474 * degree\" k=\"137.4216581399 * mole**-1 * radian**-2 * kilocalorie\" id=\"a19\"></Angle>\\n        <Angle smirks=\"[#1:1]-[#7X3$(*~[#6X3,#6X2,#7X2+0]):2]-[*:3]\" angle=\"115.6677094966 * degree\" k=\"97.63313493623 * mole**-1 * radian**-2 * kilocalorie\" id=\"a20\"></Angle>\\n        <Angle smirks=\"[*:1]~[#7X2+0:2]~[*:3]\" angle=\"112.2892376344 * degree\" k=\"162.2392389506 * mole**-1 * radian**-2 * kilocalorie\" id=\"a22\"></Angle>\\n        <Angle smirks=\"[*:1]~[#7X2+0:2]~[#6X2:3](~[#16X1])\" angle=\"143.6970925548 * degree\" k=\"93.68028952504 * mole**-1 * radian**-2 * kilocalorie\" id=\"a22a\"></Angle>\\n        <Angle smirks=\"[#1:1]-[#7X2+0:2]~[*:3]\" angle=\"118.5098497942 * degree\" k=\"121.1873886539 * mole**-1 * radian**-2 * kilocalorie\" id=\"a23\"></Angle>\\n        <Angle smirks=\"[#6,#7,#8:1]-[#7X3:2](~[#8X1])~[#8X1:3]\" angle=\"138.4383602014 * degree\" k=\"217.1053700158 * mole**-1 * radian**-2 * kilocalorie\" id=\"a24\"></Angle>\\n        <Angle smirks=\"[#8X1:1]~[#7X3:2]~[#8X1:3]\" angle=\"145.9732932646 * degree\" k=\"227.7406669566 * mole**-1 * radian**-2 * kilocalorie\" id=\"a25\"></Angle>\\n        <Angle smirks=\"[*:1]~[#7X2:2]~[#7X1:3]\" angle=\"180.0 * degree\" k=\"123.5328784763 * mole**-1 * radian**-2 * kilocalorie\" id=\"a26\"></Angle>\\n        <Angle smirks=\"[*:1]-[#8:2]-[*:3]\" angle=\"110.2898389197 * degree\" k=\"134.5019777341 * mole**-1 * radian**-2 * kilocalorie\" id=\"a27\"></Angle>\\n        <Angle smirks=\"[#6X3,#7:1]~;@[#8;r:2]~;@[#6X3,#7:3]\" angle=\"112.6029623351 * degree\" k=\"177.8811336382 * mole**-1 * radian**-2 * kilocalorie\" id=\"a28\"></Angle>\\n        <Angle smirks=\"[*:1]-[#8X2+1:2]=[*:3]\" angle=\"115.0964372837 * degree\" k=\"71.2688479385 * mole**-1 * radian**-2 * kilocalorie\" id=\"a29\"></Angle>\\n        <Angle smirks=\"[*:1]~[#16X4:2]~[*:3]\" angle=\"99.07927453498 * degree\" k=\"220.735782439 * mole**-1 * radian**-2 * kilocalorie\" id=\"a30\"></Angle>\\n        <Angle smirks=\"[*:1]-[#16X4,#16X3+0:2]-[*:3]\" angle=\"89.78987375036 * degree\" k=\"188.396701966 * mole**-1 * radian**-2 * kilocalorie\" id=\"a31\"></Angle>\\n        <Angle smirks=\"[*:1]~[#16X3$(*~[#8X1,#7X2]):2]~[*:3]\" angle=\"102.5027509128 * degree\" k=\"187.3606141824 * mole**-1 * radian**-2 * kilocalorie\" id=\"a32\"></Angle>\\n        <Angle smirks=\"[*:1]~[#16X2,#16X3+1:2]~[*:3]\" angle=\"99.11314415684 * degree\" k=\"125.6542377496 * mole**-1 * radian**-2 * kilocalorie\" id=\"a33\"></Angle>\\n        <Angle smirks=\"[*:1]=[#16X2:2]=[*:3]\" angle=\"180.0 * degree\" k=\"140.0 * mole**-1 * radian**-2 * kilocalorie\" id=\"a34\"></Angle>\\n        <Angle smirks=\"[*:1]=[#16X2:2]=[#8:3]\" angle=\"115.1135476736 * degree\" k=\"140.6866437418 * mole**-1 * radian**-2 * kilocalorie\" id=\"a34a\"></Angle>\\n        <Angle smirks=\"[#6X3:1]-[#16X2:2]-[#6X3:3]\" angle=\"96.37654921154 * degree\" k=\"202.6594157895 * mole**-1 * radian**-2 * kilocalorie\" id=\"a35\"></Angle>\\n        <Angle smirks=\"[#6X3:1]-[#16X2:2]-[#6X4:3]\" angle=\"96.58474431684 * degree\" k=\"112.4344817332 * mole**-1 * radian**-2 * kilocalorie\" id=\"a36\"></Angle>\\n        <Angle smirks=\"[#6X3:1]-[#16X2:2]-[#1:3]\" angle=\"96.17195362097 * degree\" k=\"122.1002817038 * mole**-1 * radian**-2 * kilocalorie\" id=\"a37\"></Angle>\\n        <Angle smirks=\"[*:1]~[#15:2]~[*:3]\" angle=\"147.2207463438 * degree\" k=\"163.2185355062 * mole**-1 * radian**-2 * kilocalorie\" id=\"a38\"></Angle>\\n    </Angles>\\n    <ProperTorsions version=\"0.3\" potential=\"k*(1+cos(periodicity*theta-phase))\" default_idivf=\"auto\" fractional_bondorder_method=\"AM1-Wiberg\" fractional_bondorder_interpolation=\"linear\">\\n        <Proper smirks=\"[*:1]-[#6X4:2]-[#6X4:3]-[*:4]\" periodicity1=\"3\" phase1=\"0.0 * degree\" id=\"t1\" k1=\"0.3713592052717 * mole**-1 * kilocalorie\" idivf1=\"1.0\"></Proper>\\n        <Proper smirks=\"[#6X4:1]-[#6X4:2]-[#6X4:3]-[#6X4:4]\" periodicity1=\"3\" periodicity2=\"2\" periodicity3=\"1\" phase1=\"0.0 * degree\" phase2=\"180.0 * degree\" phase3=\"180.0 * degree\" id=\"t2\" k1=\"0.1164348133257 * mole**-1 * kilocalorie\" k2=\"0.2491194267913 * mole**-1 * kilocalorie\" k3=\"0.295757514793 * mole**-1 * kilocalorie\" idivf1=\"1.0\" idivf2=\"1.0\" idivf3=\"1.0\"></Proper>\\n        <Proper smirks=\"[#1:1]-[#6X4:2]-[#6X4:3]-[#1:4]\" periodicity1=\"3\" phase1=\"0.0 * degree\" id=\"t3\" k1=\"0.2005394316088 * mole**-1 * kilocalorie\" idivf1=\"1.0\"></Proper>\\n        <Proper smirks=\"[#1:1]-[#6X4:2]-[#6X4:3]-[#6X4:4]\" periodicity1=\"3\" phase1=\"0.0 * degree\" id=\"t4\" k1=\"0.08414560911761 * mole**-1 * kilocalorie\" idivf1=\"1.0\"></Proper>\\n        <Proper smirks=\"[#8X2:1]-[#6X4:2]-[#6X4:3]-[#8X2:4]\" periodicity1=\"3\" periodicity2=\"2\" phase1=\"0.0 * degree\" phase2=\"0.0 * degree\" id=\"t5\" k1=\"-0.04503392303209 * mole**-1 * kilocalorie\" k2=\"0.5833400847784 * mole**-1 * kilocalorie\" idivf1=\"1.0\" idivf2=\"1.0\"></Proper>\\n        <Proper smirks=\"[#9:1]-[#6X4:2]-[#6X4:3]-[#9:4]\" periodicity1=\"3\" periodicity2=\"1\" phase1=\"0.0 * degree\" phase2=\"180.0 * degree\" id=\"t6\" k1=\"-0.01988644358668 * mole**-1 * kilocalorie\" k2=\"0.2143541237817 * mole**-1 * kilocalorie\" idivf1=\"1.0\" idivf2=\"1.0\"></Proper>\\n        <Proper smirks=\"[#17:1]-[#6X4:2]-[#6X4:3]-[#17:4]\" periodicity1=\"3\" periodicity2=\"1\" phase1=\"0.0 * degree\" phase2=\"180.0 * degree\" id=\"t7\" k1=\"0.3012975227259 * mole**-1 * kilocalorie\" k2=\"-0.5331995755095 * mole**-1 * kilocalorie\" idivf1=\"1.0\" idivf2=\"1.0\"></Proper>\\n        <Proper smirks=\"[#35:1]-[#6X4:2]-[#6X4:3]-[#35:4]\" periodicity1=\"3\" periodicity2=\"1\" phase1=\"0.0 * degree\" phase2=\"180.0 * degree\" id=\"t8\" k1=\"0.08605949279655 * mole**-1 * kilocalorie\" k2=\"-0.1562508078431 * mole**-1 * kilocalorie\" idivf1=\"1.0\" idivf2=\"1.0\"></Proper>\\n        <Proper smirks=\"[#1:1]-[#6X4:2]-[#6X4:3]-[#8X2:4]\" periodicity1=\"3\" periodicity2=\"1\" phase1=\"0.0 * degree\" phase2=\"0.0 * degree\" id=\"t9\" k1=\"0.08835141016169 * mole**-1 * kilocalorie\" k2=\"0.3217905991249 * mole**-1 * kilocalorie\" idivf1=\"1.0\" idivf2=\"1.0\"></Proper>\\n        <Proper smirks=\"[#1:1]-[#6X4:2]-[#6X4:3]-[#9:4]\" periodicity1=\"3\" periodicity2=\"1\" phase1=\"0.0 * degree\" phase2=\"0.0 * degree\" id=\"t10\" k1=\"0.09542629794995 * mole**-1 * kilocalorie\" k2=\"0.3413591002661 * mole**-1 * kilocalorie\" idivf1=\"1.0\" idivf2=\"1.0\"></Proper>\\n        <Proper smirks=\"[#1:1]-[#6X4:2]-[#6X4:3]-[#17:4]\" periodicity1=\"3\" periodicity2=\"1\" phase1=\"0.0 * degree\" phase2=\"0.0 * degree\" id=\"t11\" k1=\"0.1705032356747 * mole**-1 * kilocalorie\" k2=\"0.3854072920815 * mole**-1 * kilocalorie\" idivf1=\"1.0\" idivf2=\"1.0\"></Proper>\\n        <Proper smirks=\"[#1:1]-[#6X4:2]-[#6X4:3]-[#35:4]\" periodicity1=\"3\" periodicity2=\"1\" phase1=\"0.0 * degree\" phase2=\"0.0 * degree\" id=\"t12\" k1=\"0.2206379367259 * mole**-1 * kilocalorie\" k2=\"0.7782897573814 * mole**-1 * kilocalorie\" idivf1=\"1.0\" idivf2=\"1.0\"></Proper>\\n        <Proper smirks=\"[*:1]-[#6X4:2]-[#6X4;r3:3]-[*:4]\" periodicity1=\"1\" phase1=\"0.0 * degree\" id=\"t13\" k1=\"0.08565532425684 * mole**-1 * kilocalorie\" idivf1=\"1.0\"></Proper>\\n        <Proper smirks=\"[*:1]-[#6X4:2]-[#6X4;r3:3]-[#6X4;r3:4]\" periodicity1=\"3\" phase1=\"0.0 * degree\" id=\"t14\" k1=\"0.4577778256741 * mole**-1 * kilocalorie\" idivf1=\"1.0\"></Proper>\\n        <Proper smirks=\"[*:1]-[#6X4;r3:2]-@[#6X4;r3:3]-[*:4]\" periodicity1=\"2\" phase1=\"0.0 * degree\" id=\"t15\" k1=\"-1.254172436801 * mole**-1 * kilocalorie\" idivf1=\"1.0\"></Proper>\\n        <Proper smirks=\"[#6X4;r3:1]-[#6X4;r3:2]-[#6X4;r3:3]-[*:4]\" periodicity1=\"2\" periodicity2=\"1\" phase1=\"0.0 * degree\" phase2=\"0.0 * degree\" id=\"t16\" k1=\"3.656359841852 * mole**-1 * kilocalorie\" k2=\"3.357036752304 * mole**-1 * kilocalorie\" idivf1=\"1.0\" idivf2=\"1.0\"></Proper>\\n        <Proper smirks=\"[*:1]~[#6X3:2]-[#6X4:3]-[*:4]\" periodicity1=\"3\" phase1=\"0.0 * degree\" id=\"t17\" k1=\"-0.224455748195 * mole**-1 * kilocalorie\" idivf1=\"1.0\"></Proper>\\n        <Proper smirks=\"[*:1]-[#6X4:2]-[#6X3:3]=[*:4]\" periodicity1=\"2\" phase1=\"0.0 * degree\" id=\"t20\" k1=\"-0.4352065063207 * mole**-1 * kilocalorie\" idivf1=\"1.0\"></Proper>\\n        <Proper smirks=\"[#1:1]-[#6X4:2]-[#6X3:3]=[#8X1:4]\" periodicity1=\"1\" periodicity2=\"2\" periodicity3=\"3\" phase1=\"0.0 * degree\" phase2=\"0.0 * degree\" phase3=\"180.0 * degree\" id=\"t18\" k1=\"0.4296106913366 * mole**-1 * kilocalorie\" k2=\"0.1078877098811 * mole**-1 * kilocalorie\" k3=\"0.2065859875793 * mole**-1 * kilocalorie\" idivf1=\"1.0\" idivf2=\"1.0\" idivf3=\"1.0\"></Proper>\\n        <Proper smirks=\"[#1:1]-[#6X4:2]-[#6X3:3]=[#6X3:4]\" periodicity1=\"3\" periodicity2=\"1\" phase1=\"180.0 * degree\" phase2=\"0.0 * degree\" id=\"t19\" k1=\"0.1916339650103 * mole**-1 * kilocalorie\" k2=\"0.01819046438541 * mole**-1 * kilocalorie\" idivf1=\"1.0\" idivf2=\"1.0\"></Proper>\\n        <Proper smirks=\"[#6X3:1]-[#6X4:2]-[#6X3:3]=[#6X3:4]\" periodicity1=\"3\" periodicity2=\"2\" phase1=\"0.0 * degree\" phase2=\"180.0 * degree\" id=\"t21\" k1=\"0.03439057985772 * mole**-1 * kilocalorie\" k2=\"0.1200828613716 * mole**-1 * kilocalorie\" idivf1=\"1.0\" idivf2=\"1.0\"></Proper>\\n        <Proper smirks=\"[#7X3:1]-[#6X4:2]-[#6X3:3]-[#7X3:4]\" periodicity1=\"1\" periodicity2=\"2\" phase1=\"180.0 * degree\" phase2=\"180.0 * degree\" id=\"t22\" k1=\"-0.06160896685326 * mole**-1 * kilocalorie\" k2=\"0.698681527584 * mole**-1 * kilocalorie\" idivf1=\"1.0\" idivf2=\"1.0\"></Proper>\\n        <Proper smirks=\"[#6X4:1]-[#6X4:2]-[#6X3:3]-[#7X3:4]\" periodicity1=\"4\" periodicity2=\"2\" phase1=\"0.0 * degree\" phase2=\"0.0 * degree\" id=\"t23\" k1=\"0.1259688855747 * mole**-1 * kilocalorie\" k2=\"0.5629083708879 * mole**-1 * kilocalorie\" idivf1=\"1.0\" idivf2=\"1.0\"></Proper>\\n        <Proper smirks=\"[#16X2,#16X1-1,#16X3+1:1]-[#6X3:2]-[#6X4:3]-[#1:4]\" periodicity1=\"2\" periodicity2=\"1\" phase1=\"0.0 * degree\" phase2=\"180.0 * degree\" id=\"t24\" k1=\"-0.08473798804003 * mole**-1 * kilocalorie\" k2=\"-0.4165483710062 * mole**-1 * kilocalorie\" idivf1=\"1.0\" idivf2=\"1.0\"></Proper>\\n        <Proper smirks=\"[#16X2,#16X1-1,#16X3+1:1]-[#6X3:2]-[#6X4:3]-[#7X4,#7X3:4]\" periodicity1=\"4\" periodicity2=\"3\" periodicity3=\"2\" periodicity4=\"2\" periodicity5=\"1\" phase1=\"0.0 * degree\" phase2=\"0.0 * degree\" phase3=\"0.0 * degree\" phase4=\"270.0 * degree\" phase5=\"90.0 * degree\" id=\"t25\" k1=\"0.1901702923603 * mole**-1 * kilocalorie\" k2=\"0.2082261941806 * mole**-1 * kilocalorie\" k3=\"-0.3952154759534 * mole**-1 * kilocalorie\" k4=\"0.5869155503315 * mole**-1 * kilocalorie\" k5=\"0.7124648569549 * mole**-1 * kilocalorie\" idivf1=\"1.0\" idivf2=\"1.0\" idivf3=\"1.0\" idivf4=\"1.0\" idivf5=\"1.0\"></Proper>\\n        <Proper smirks=\"[#16X2,#16X1-1,#16X3+1:1]-[#6X3:2]-[#6X4:3]-[#7X3$(*-[#6X3,#6X2]):4]\" periodicity1=\"4\" periodicity2=\"3\" periodicity3=\"2\" periodicity4=\"2\" periodicity5=\"1\" periodicity6=\"1\" phase1=\"270.0 * degree\" phase2=\"0.0 * degree\" phase3=\"180.0 * degree\" phase4=\"270.0 * degree\" phase5=\"270.0 * degree\" phase6=\"0.0 * degree\" id=\"t26\" k1=\"0.222363449201 * mole**-1 * kilocalorie\" k2=\"0.859052538364 * mole**-1 * kilocalorie\" k3=\"0.3869914716298 * mole**-1 * kilocalorie\" k4=\"0.3368921734216 * mole**-1 * kilocalorie\" k5=\"-0.1365457707684 * mole**-1 * kilocalorie\" k6=\"-0.1974358043539 * mole**-1 * kilocalorie\" idivf1=\"1.0\" idivf2=\"1.0\" idivf3=\"1.0\" idivf4=\"1.0\" idivf5=\"1.0\" idivf6=\"1.0\"></Proper>\\n        <Proper smirks=\"[*:1]-[#6X4;r3:2]-[#6X3:3]~[*:4]\" periodicity1=\"1\" phase1=\"0.0 * degree\" id=\"t27\" k1=\"-0.08417062488718 * mole**-1 * kilocalorie\" idivf1=\"1.0\"></Proper>\\n        <Proper smirks=\"[#6X4:1]-[#6X4;r3:2]-[#6X3:3]~[#6X3:4]\" periodicity1=\"4\" periodicity2=\"2\" phase1=\"180.0 * degree\" phase2=\"180.0 * degree\" id=\"t28\" k1=\"0.1348425812651 * mole**-1 * kilocalorie\" k2=\"0.7975377249253 * mole**-1 * kilocalorie\" idivf1=\"1.0\" idivf2=\"1.0\"></Proper>\\n        <Proper smirks=\"[#1:1]-[#6X4;r3:2]-[#6X3:3]~[#6X3:4]\" periodicity1=\"4\" periodicity2=\"3\" periodicity3=\"2\" phase1=\"180.0 * degree\" phase2=\"0.0 * degree\" phase3=\"180.0 * degree\" id=\"t29\" k1=\"0.01389484634137 * mole**-1 * kilocalorie\" k2=\"-0.3261229304399 * mole**-1 * kilocalorie\" k3=\"0.2993782950921 * mole**-1 * kilocalorie\" idivf1=\"1.0\" idivf2=\"1.0\" idivf3=\"1.0\"></Proper>\\n        <Proper smirks=\"[#6X3:1]-[#6X4;r3:2]-[#6X3:3]-[#7X3:4]\" periodicity1=\"2\" periodicity2=\"1\" periodicity3=\"3\" phase1=\"0.0 * degree\" phase2=\"180.0 * degree\" phase3=\"180.0 * degree\" id=\"t30\" k1=\"1.495885436174 * mole**-1 * kilocalorie\" k2=\"0.798323214025 * mole**-1 * kilocalorie\" k3=\"0.1035170238981 * mole**-1 * kilocalorie\" idivf1=\"1.0\" idivf2=\"1.0\" idivf3=\"1.0\"></Proper>\\n        <Proper smirks=\"[#6X3:1]-[#6X4;r3:2]-[#6X3:3]=[#8X1:4]\" periodicity1=\"2\" periodicity2=\"1\" periodicity3=\"3\" phase1=\"180.0 * degree\" phase2=\"180.0 * degree\" phase3=\"180.0 * degree\" id=\"t31\" k1=\"2.833864424257 * mole**-1 * kilocalorie\" k2=\"-0.3141570565036 * mole**-1 * kilocalorie\" k3=\"0.6815226809959 * mole**-1 * kilocalorie\" idivf1=\"1.0\" idivf2=\"1.0\" idivf3=\"1.0\"></Proper>\\n        <Proper smirks=\"[#6X3:1]-[#6X4;r3:2]-[#6X3:3]~[#6X3:4]\" periodicity1=\"2\" phase1=\"180.0 * degree\" id=\"t32\" k1=\"0.5650218966924 * mole**-1 * kilocalorie\" idivf1=\"1.0\"></Proper>\\n        <Proper smirks=\"[#7X3:1]-[#6X4;r3:2]-[#6X3:3]~[#6X3:4]\" periodicity1=\"4\" periodicity2=\"2\" phase1=\"180.0 * degree\" phase2=\"180.0 * degree\" id=\"t33\" k1=\"0.1958321769116 * mole**-1 * kilocalorie\" k2=\"0.1539532052563 * mole**-1 * kilocalorie\" idivf1=\"1.0\" idivf2=\"1.0\"></Proper>\\n        <Proper smirks=\"[#6X4;r3:1]-;@[#6X4;r3:2]-[#6X3:3]~[#6X3:4]\" periodicity1=\"4\" periodicity2=\"3\" periodicity3=\"2\" phase1=\"180.0 * degree\" phase2=\"0.0 * degree\" phase3=\"180.0 * degree\" id=\"t34\" k1=\"-0.06094934397766 * mole**-1 * kilocalorie\" k2=\"-0.5576281399815 * mole**-1 * kilocalorie\" k3=\"1.082360078461 * mole**-1 * kilocalorie\" idivf1=\"1.0\" idivf2=\"1.0\" idivf3=\"1.0\"></Proper>\\n        <Proper smirks=\"[#6X4;r3:1]-;@[#6X4;r3:2]-[#6X3;r6:3]:[#6X3;r6:4]\" periodicity1=\"4\" periodicity2=\"2\" phase1=\"180.0 * degree\" phase2=\"180.0 * degree\" id=\"t35\" k1=\"0.005431067499394 * mole**-1 * kilocalorie\" k2=\"0.6111533024922 * mole**-1 * kilocalorie\" idivf1=\"1.0\" idivf2=\"1.0\"></Proper>\\n        <Proper smirks=\"[#6X4;r3:1]-;@[#6X4;r3:2]-[#6X3;r5:3]-;@[#6X3;r5:4]\" periodicity1=\"4\" periodicity2=\"3\" periodicity3=\"2\" phase1=\"180.0 * degree\" phase2=\"0.0 * degree\" phase3=\"180.0 * degree\" id=\"t36\" k1=\"-0.09536809420051 * mole**-1 * kilocalorie\" k2=\"0.2800892958044 * mole**-1 * kilocalorie\" k3=\"0.4668895256148 * mole**-1 * kilocalorie\" idivf1=\"1.0\" idivf2=\"1.0\" idivf3=\"1.0\"></Proper>\\n        <Proper smirks=\"[#6X4;r3:1]-;@[#6X4;r3:2]-[#6X3;r5:3]=;@[#6X3;r5:4]\" periodicity1=\"1\" phase1=\"180.0 * degree\" id=\"t37\" k1=\"0.287162408587 * mole**-1 * kilocalorie\" idivf1=\"1.0\"></Proper>\\n        <Proper smirks=\"[#6X4;r3:1]-;@[#6X4;r3:2]-[#6X3:3]-[#6X4:4]\" periodicity1=\"1\" phase1=\"0.0 * degree\" id=\"t38\" k1=\"0.7631330263272 * mole**-1 * kilocalorie\" idivf1=\"1.0\"></Proper>\\n        <Proper smirks=\"[#6X4;r3:1]-;@[#6X4;r3:2]-[#6X3;r6:3]:[#7X2;r6:4]\" periodicity1=\"2\" periodicity2=\"1\" periodicity3=\"3\" phase1=\"180.0 * degree\" phase2=\"180.0 * degree\" phase3=\"0.0 * degree\" id=\"t39\" k1=\"2.632548889035 * mole**-1 * kilocalorie\" k2=\"-0.178515293156 * mole**-1 * kilocalorie\" k3=\"0.9809884394778 * mole**-1 * kilocalorie\" idivf1=\"1.0\" idivf2=\"1.0\" idivf3=\"1.0\"></Proper>\\n        <Proper smirks=\"[#6X4;r3:1]-;@[#6X4;r3:2]-[#6X3:3]=[#7X2:4]\" periodicity1=\"3\" periodicity2=\"2\" periodicity3=\"1\" phase1=\"0.0 * degree\" phase2=\"180.0 * degree\" phase3=\"180.0 * degree\" id=\"t40\" k1=\"-0.3973437766056 * mole**-1 * kilocalorie\" k2=\"1.595780918938 * mole**-1 * kilocalorie\" k3=\"0.1436787426846 * mole**-1 * kilocalorie\" idivf1=\"1.0\" idivf2=\"1.0\" idivf3=\"1.0\"></Proper>\\n        <Proper smirks=\"[#6X4;r3:1]-;@[#6X4;r3:2]-[#6X3:3]-[#8X2:4]\" periodicity1=\"4\" periodicity2=\"2\" phase1=\"180.0 * degree\" phase2=\"180.0 * degree\" id=\"t41\" k1=\"-0.3349398025484 * mole**-1 * kilocalorie\" k2=\"1.465145041669 * mole**-1 * kilocalorie\" idivf1=\"1.0\" idivf2=\"1.0\"></Proper>\\n        <Proper smirks=\"[#6X4;r3:1]-;@[#6X4;r3:2]-[#6X3:3]=[#8X1:4]\" periodicity1=\"2\" phase1=\"320.0 * degree\" id=\"t42\" k1=\"-0.6316097426408 * mole**-1 * kilocalorie\" idivf1=\"1.0\"></Proper>\\n        <Proper smirks=\"[*:1]~[#6X3:2]-[#6X3:3]~[*:4]\" periodicity1=\"2\" phase1=\"180.0 * degree\" id=\"t43\" k1=\"1.048715180139 * mole**-1 * kilocalorie\" idivf1=\"1.0\"></Proper>\\n        <Proper smirks=\"[*:1]~[#6X3:2]:[#6X3:3]~[*:4]\" periodicity1=\"2\" phase1=\"180.0 * degree\" id=\"t44\" k1=\"3.739199932852 * mole**-1 * kilocalorie\" idivf1=\"1.0\"></Proper>\\n        <Proper smirks=\"[*:1]-,:[#6X3:2]=[#6X3:3]-,:[*:4]\" periodicity1=\"2\" phase1=\"180.0 * degree\" id=\"t45\" k1=\"5.202617258558 * mole**-1 * kilocalorie\" idivf1=\"1.0\"></Proper>\\n        <Proper smirks=\"[#6X4:1]-[#6X3:2]=[#6X3:3]-[#6X4:4]\" periodicity1=\"2\" periodicity2=\"1\" phase1=\"180.0 * degree\" phase2=\"180.0 * degree\" id=\"t46\" k1=\"5.490071410144 * mole**-1 * kilocalorie\" k2=\"1.882194041869 * mole**-1 * kilocalorie\" idivf1=\"1.0\" idivf2=\"1.0\"></Proper>\\n        <Proper smirks=\"[*:1]~[#6X3:2]-[#6X3$(*=[#8,#16,#7]):3]~[*:4]\" periodicity1=\"2\" phase1=\"180.0 * degree\" id=\"t47\" k1=\"1.090788079768 * mole**-1 * kilocalorie\" idivf1=\"1.0\"></Proper>\\n        <Proper smirks=\"[#6X3:1]=[#6X3:2]-[#6X3:3]=[#8X1:4]\" periodicity1=\"2\" periodicity2=\"3\" phase1=\"180.0 * degree\" phase2=\"0.0 * degree\" id=\"t48\" k1=\"0.3980018770084 * mole**-1 * kilocalorie\" k2=\"-0.3938620201049 * mole**-1 * kilocalorie\" idivf1=\"1.0\" idivf2=\"1.0\"></Proper>\\n        <Proper smirks=\"[*:1]~[#7a:2]:[#6a:3]~[*:4]\" periodicity1=\"2\" phase1=\"180.0 * degree\" id=\"t49\" k1=\"4.564735792485 * mole**-1 * kilocalorie\" idivf1=\"1.0\"></Proper>\\n        <Proper smirks=\"[*:1]-[#6X4:2]-[#7X4:3]-[*:4]\" periodicity1=\"3\" phase1=\"0.0 * degree\" id=\"t50\" k1=\"0.06697375586735 * mole**-1 * kilocalorie\" idivf1=\"1.0\"></Proper>\\n        <Proper smirks=\"[*:1]-[#6X4:2]-[#7X3:3]-[*:4]\" periodicity1=\"3\" phase1=\"0.0 * degree\" id=\"t51\" k1=\"0.3474754522767 * mole**-1 * kilocalorie\" idivf1=\"1.0\"></Proper>\\n        <Proper smirks=\"[*:1]-[#6X4:2]-[#7X3:3]-[#7X2:4]=[#6]\" periodicity1=\"3\" periodicity2=\"2\" phase1=\"0.0 * degree\" phase2=\"180.0 * degree\" id=\"t51a\" k1=\"0.4950454644418 * mole**-1 * kilocalorie\" k2=\"0.01367192897347 * mole**-1 * kilocalorie\" idivf1=\"1.0\" idivf2=\"1.0\"></Proper>\\n        <Proper smirks=\"[#1:1]-[#6X4:2]-[#7X3:3]-[#7X2:4]=[#6]\" periodicity1=\"3\" periodicity2=\"2\" phase1=\"0.0 * degree\" phase2=\"180.0 * degree\" id=\"t51ah\" k1=\"0.5278465826043 * mole**-1 * kilocalorie\" k2=\"-0.1662288208747 * mole**-1 * kilocalorie\" idivf1=\"1.0\" idivf2=\"1.0\"></Proper>\\n        <Proper smirks=\"[*:1]-[#6X4:2]-[#7X3:3]-[#7X2:4]=[#7X2,#8X1]\" periodicity1=\"3\" periodicity2=\"2\" phase1=\"0.0 * degree\" phase2=\"180.0 * degree\" id=\"t51b\" k1=\"0.2114291477967 * mole**-1 * kilocalorie\" k2=\"-0.04308992821391 * mole**-1 * kilocalorie\" idivf1=\"1.0\" idivf2=\"1.0\"></Proper>\\n        <Proper smirks=\"[#1:1]-[#6X4:2]-[#7X3:3]-[#7X2:4]=[#7X2,#8X1]\" periodicity1=\"3\" periodicity2=\"2\" phase1=\"0.0 * degree\" phase2=\"180.0 * degree\" id=\"t51bh\" k1=\"0.1306201579009 * mole**-1 * kilocalorie\" k2=\"0.01796692446999 * mole**-1 * kilocalorie\" idivf1=\"1.0\" idivf2=\"1.0\"></Proper>\\n        <Proper smirks=\"[*:1]-[#6X4:2]-[#7X3$(*@1-[*]=,:[*][*]=,:[*]@1):3]-[*:4]\" periodicity1=\"2\" phase1=\"180.0 * degree\" id=\"t51c\" k1=\"1.625096941834 * mole**-1 * kilocalorie\" idivf1=\"1.0\"></Proper>\\n        <Proper smirks=\"[#1:1]-[#6X4:2]-[#7X3$(*@1-[*]=,:[*][*]=,:[*]@1):3]-[*:4]\" periodicity1=\"2\" phase1=\"180.0 * degree\" id=\"t51ch\" k1=\"1.936185237591 * mole**-1 * kilocalorie\" idivf1=\"1.0\"></Proper>\\n        <Proper smirks=\"[#6X4:1]-[#6X4:2]-[#7X4,#7X3:3]-[#6X4:4]\" periodicity1=\"3\" periodicity2=\"2\" phase1=\"0.0 * degree\" phase2=\"180.0 * degree\" id=\"t52\" k1=\"0.2684848134547 * mole**-1 * kilocalorie\" k2=\"0.06661990693486 * mole**-1 * kilocalorie\" idivf1=\"1.0\" idivf2=\"1.0\"></Proper>\\n        <Proper smirks=\"[#1:1]-[#7X4,#7X3:2]-[#6X4;r3:3]-[*:4]\" periodicity1=\"1\" phase1=\"0.0 * degree\" id=\"t54\" k1=\"0.8144496802269 * mole**-1 * kilocalorie\" idivf1=\"1.0\"></Proper>\\n        <Proper smirks=\"[#1:1]-[#7X4,#7X3:2]-[#6X4;r3:3]-[#6X4;r3:4]\" periodicity1=\"1\" phase1=\"0.0 * degree\" id=\"t55\" k1=\"1.274891815604 * mole**-1 * kilocalorie\" idivf1=\"1.0\"></Proper>\\n        <Proper smirks=\"[!#1:1]-[#7X4,#7X3:2]-[#6X4;r3:3]-[*:4]\" periodicity1=\"3\" phase1=\"0.0 * degree\" id=\"t56\" k1=\"0.4347936008897 * mole**-1 * kilocalorie\" idivf1=\"1.0\"></Proper>\\n        <Proper smirks=\"[!#1:1]-[#7X4,#7X3:2]-[#6X4;r3:3]-[#6X4;r3:4]\" periodicity1=\"3\" phase1=\"0.0 * degree\" id=\"t57\" k1=\"1.175611586196 * mole**-1 * kilocalorie\" idivf1=\"1.0\"></Proper>\\n        <Proper smirks=\"[*:1]-[#7X4:2]-[#6X3:3]~[*:4]\" periodicity1=\"1\" phase1=\"0.0 * degree\" id=\"t58\" k1=\"-0.0002040122493537 * mole**-1 * kilocalorie\" idivf1=\"1.0\"></Proper>\\n        <Proper smirks=\"[*:1]-[#6X4:2]-[#7X3$(*~[#6X3,#6X2]):3]~[*:4]\" periodicity1=\"2\" periodicity2=\"3\" phase1=\"0.0 * degree\" phase2=\"0.0 * degree\" id=\"t59\" k1=\"0.1864829982998 * mole**-1 * kilocalorie\" k2=\"-0.04574030840006 * mole**-1 * kilocalorie\" idivf1=\"1.0\" idivf2=\"1.0\"></Proper>\\n        <Proper smirks=\"[*:1]-[#6X4:2]-[#7X3$(*~[#8X1]):3]~[#8X1:4]\" periodicity1=\"3\" phase1=\"0.0 * degree\" id=\"t60\" k1=\"0.002046174889559 * mole**-1 * kilocalorie\" idivf1=\"1.0\"></Proper>\\n        <Proper smirks=\"[#6X3:1]-[#7X3:2]-[#6X4:3]-[#6X3:4]\" periodicity1=\"2\" periodicity2=\"1\" phase1=\"180.0 * degree\" phase2=\"0.0 * degree\" id=\"t61\" k1=\"-0.3643509198012 * mole**-1 * kilocalorie\" k2=\"0.2536443182971 * mole**-1 * kilocalorie\" idivf1=\"1.0\" idivf2=\"1.0\"></Proper>\\n        <Proper smirks=\"[#6X4:1]-[#6X4:2]-[#7X3:3]-[#6X3:4]=[#8,#16,#7]\" periodicity1=\"4\" periodicity2=\"3\" periodicity3=\"2\" periodicity4=\"1\" phase1=\"180.0 * degree\" phase2=\"180.0 * degree\" phase3=\"0.0 * degree\" phase4=\"0.0 * degree\" id=\"t62\" k1=\"-0.02168701111674 * mole**-1 * kilocalorie\" k2=\"-0.1044621756342 * mole**-1 * kilocalorie\" k3=\"0.2711161176309 * mole**-1 * kilocalorie\" k4=\"-0.3521446462554 * mole**-1 * kilocalorie\" idivf1=\"1.0\" idivf2=\"1.0\" idivf3=\"1.0\" idivf4=\"1.0\"></Proper>\\n        <Proper smirks=\"[#8X2H0:1]-[#6X4:2]-[#7X3:3]-[#6X3:4]\" periodicity1=\"2\" periodicity2=\"1\" phase1=\"0.0 * degree\" phase2=\"0.0 * degree\" id=\"t63\" k1=\"0.5245816161321 * mole**-1 * kilocalorie\" k2=\"1.961130838442 * mole**-1 * kilocalorie\" idivf1=\"1.0\" idivf2=\"1.0\"></Proper>\\n        <Proper smirks=\"[#6X3:1]-[#7X3:2]-[#6X4;r3:3]-[#6X4;r3:4]\" periodicity1=\"3\" periodicity2=\"2\" periodicity3=\"1\" phase1=\"0.0 * degree\" phase2=\"0.0 * degree\" phase3=\"0.0 * degree\" id=\"t64\" k1=\"0.7959272193682 * mole**-1 * kilocalorie\" k2=\"0.006127059969553 * mole**-1 * kilocalorie\" k3=\"-0.5656735743159 * mole**-1 * kilocalorie\" idivf1=\"1.0\" idivf2=\"1.0\" idivf3=\"1.0\"></Proper>\\n        <Proper smirks=\"[*:1]~[#7X2:2]-[#6X4:3]-[*:4]\" periodicity1=\"1\" phase1=\"0.0 * degree\" id=\"t65\" k1=\"-1.382973039546 * mole**-1 * kilocalorie\" idivf1=\"1.0\"></Proper>\\n        <Proper smirks=\"[#6X3:1]=[#7X2,#7X3+1:2]-[#6X4:3]-[#1:4]\" periodicity1=\"1\" phase1=\"0.0 * degree\" id=\"t66\" k1=\"0.7563381453361 * mole**-1 * kilocalorie\" idivf1=\"1.0\"></Proper>\\n        <Proper smirks=\"[#6X3:1]=[#7X2,#7X3+1:2]-[#6X4:3]-[#6X3,#6X4:4]\" periodicity1=\"1\" phase1=\"0.0 * degree\" id=\"t67\" k1=\"0.8996585118438 * mole**-1 * kilocalorie\" idivf1=\"1.0\"></Proper>\\n        <Proper smirks=\"[*:1]~[#7X3,#7X2-1:2]-[#6X3:3]~[*:4]\" periodicity1=\"2\" phase1=\"180.0 * degree\" id=\"t68\" k1=\"0.9472948866639 * mole**-1 * kilocalorie\" idivf1=\"1.0\"></Proper>\\n        <Proper smirks=\"[*:1]~[#7X3,#7X2-1:2]-!@[#6X3:3]~[*:4]\" periodicity1=\"2\" phase1=\"180.0 * degree\" id=\"t69\" k1=\"1.624344674592 * mole**-1 * kilocalorie\" idivf1=\"1.0\"></Proper>\\n        <Proper smirks=\"[*:1]-[#7X3:2]-[#6X3$(*=[#8,#16,#7]):3]~[*:4]\" periodicity1=\"2\" periodicity2=\"1\" phase1=\"180.0 * degree\" phase2=\"0.0 * degree\" id=\"t69a\" k1=\"1.802103402795 * mole**-1 * kilocalorie\" k2=\"0.0 * mole**-1 * kilocalorie\" idivf1=\"1.0\" idivf2=\"1.0\"></Proper>\\n        <Proper smirks=\"[#1:1]-[#7X3:2]-[#6X3:3]=[#8,#16,#7:4]\" periodicity1=\"2\" periodicity2=\"1\" phase1=\"180.0 * degree\" phase2=\"0.0 * degree\" id=\"t70\" k1=\"0.7922240596015 * mole**-1 * kilocalorie\" k2=\"0.6680623344831 * mole**-1 * kilocalorie\" idivf1=\"1.0\" idivf2=\"1.0\"></Proper>\\n        <Proper smirks=\"[*:1]-[#7X3:2]-!@[#6X3:3](=[#8,#16,#7:4])-[#6,#1]\" periodicity1=\"2\" periodicity2=\"1\" phase1=\"180.0 * degree\" phase2=\"0.0 * degree\" id=\"t70b\" k1=\"3.254401877325 * mole**-1 * kilocalorie\" k2=\"0.0 * mole**-1 * kilocalorie\" idivf1=\"1.0\" idivf2=\"1.0\"></Proper>\\n        <Proper smirks=\"[#1:1]-[#7X3:2]-!@[#6X3:3](=[#8,#16,#7:4])-[#6,#1]\" periodicity1=\"2\" periodicity2=\"1\" phase1=\"180.0 * degree\" phase2=\"0.0 * degree\" id=\"t70c\" k1=\"1.899515630682 * mole**-1 * kilocalorie\" k2=\"0.732059073281 * mole**-1 * kilocalorie\" idivf1=\"1.0\" idivf2=\"1.0\"></Proper>\\n        <Proper smirks=\"[*:1]-[#7X3:2]-!@[#6X3:3](=[#8,#16,#7:4])-[#7X3]\" periodicity1=\"2\" periodicity2=\"1\" phase1=\"180.0 * degree\" phase2=\"0.0 * degree\" id=\"t70d\" k1=\"1.078186318198 * mole**-1 * kilocalorie\" k2=\"0.0 * mole**-1 * kilocalorie\" idivf1=\"1.0\" idivf2=\"1.0\"></Proper>\\n        <Proper smirks=\"[*:1]-[#7X3;r5:2]-@[#6X3;r5:3]~[*:4]\" periodicity1=\"2\" phase1=\"180.0 * degree\" id=\"t71\" k1=\"1.006288530202 * mole**-1 * kilocalorie\" idivf1=\"1.0\"></Proper>\\n        <Proper smirks=\"[#8X1:1]~[#7X3:2]~[#6X3:3]~[*:4]\" periodicity1=\"2\" phase1=\"180.0 * degree\" id=\"t72\" k1=\"0.7349319586215 * mole**-1 * kilocalorie\" idivf1=\"1.0\"></Proper>\\n        <Proper smirks=\"[*:1]=[#7X2,#7X3+1:2]-[#6X3:3]-[*:4]\" periodicity1=\"2\" phase1=\"180.0 * degree\" id=\"t73\" k1=\"1.506807396847 * mole**-1 * kilocalorie\" idivf1=\"1.0\"></Proper>\\n        <Proper smirks=\"[*:1]=[#7X2,#7X3+1:2]-[#6X3:3]=,:[*:4]\" periodicity1=\"2\" phase1=\"180.0 * degree\" id=\"t74\" k1=\"1.579299041234 * mole**-1 * kilocalorie\" idivf1=\"1.0\"></Proper>\\n        <Proper smirks=\"[*:1]~[#7X2,#7X3$(*~[#8X1]):2]:[#6X3:3]~[*:4]\" periodicity1=\"2\" phase1=\"180.0 * degree\" id=\"t75\" k1=\"4.019141673748 * mole**-1 * kilocalorie\" idivf1=\"1.0\"></Proper>\\n        <Proper smirks=\"[#6X3:1]:[#7X2:2]:[#6X3:3]:[#6X3:4]\" periodicity1=\"2\" phase1=\"180.0 * degree\" id=\"t76\" k1=\"5.628604921456 * mole**-1 * kilocalorie\" idivf1=\"1.0\"></Proper>\\n        <Proper smirks=\"[*:1]-,:[#6X3:2]=[#7X2:3]-[*:4]\" periodicity1=\"2\" phase1=\"180.0 * degree\" id=\"t77\" k1=\"6.809049014167 * mole**-1 * kilocalorie\" idivf1=\"1.0\"></Proper>\\n        <Proper smirks=\"[*:1]-[#7X3+1:2]=,:[#6X3:3]-,:[*:4]\" periodicity1=\"2\" phase1=\"180.0 * degree\" id=\"t78\" k1=\"3.337310191161 * mole**-1 * kilocalorie\" idivf1=\"1.0\"></Proper>\\n        <Proper smirks=\"[#16X4,#16X3+0:1]-[#7X2:2]=[#6X3:3]-[#7X3:4]\" periodicity1=\"2\" phase1=\"180.0 * degree\" id=\"t79\" k1=\"6.640454350481 * mole**-1 * kilocalorie\" idivf1=\"1.0\"></Proper>\\n        <Proper smirks=\"[#16X4,#16X3+0:1]-[#7X2:2]=[#6X3:3]-[#16X2,#16X3+1:4]\" periodicity1=\"2\" phase1=\"180.0 * degree\" id=\"t80\" k1=\"6.405311926088 * mole**-1 * kilocalorie\" idivf1=\"1.0\"></Proper>\\n        <Proper smirks=\"[#7X2:1]~[#7X2:2]-[#6X3:3]~[#6X3:4]\" periodicity1=\"2\" phase1=\"180.0 * degree\" id=\"t81\" k1=\"2.14476583394 * mole**-1 * kilocalorie\" idivf1=\"1.0\"></Proper>\\n        <Proper smirks=\"[#7X2:1]~[#7X2:2]-[#6X4:3]-[#6X3:4]\" periodicity1=\"2\" phase1=\"0.0 * degree\" id=\"t82\" k1=\"0.1464855277345 * mole**-1 * kilocalorie\" idivf1=\"1.0\"></Proper>\\n        <Proper smirks=\"[#7X2:1]~[#7X2:2]-[#6X4:3]~[#1:4]\" periodicity1=\"2\" phase1=\"0.0 * degree\" id=\"t83\" k1=\"0.3387652529278 * mole**-1 * kilocalorie\" idivf1=\"1.0\"></Proper>\\n        <Proper smirks=\"[*:1]-[#6X4:2]-[#8X2:3]-[#1:4]\" periodicity1=\"3\" phase1=\"0.0 * degree\" id=\"t84\" k1=\"0.6985935181583 * mole**-1 * kilocalorie\" idivf1=\"3.0\"></Proper>\\n        <Proper smirks=\"[#6X4:1]-[#6X4:2]-[#8X2H1:3]-[#1:4]\" periodicity1=\"3\" periodicity2=\"1\" phase1=\"0.0 * degree\" phase2=\"0.0 * degree\" id=\"t85\" k1=\"0.6209853520639 * mole**-1 * kilocalorie\" k2=\"0.02444193827735 * mole**-1 * kilocalorie\" idivf1=\"1.0\" idivf2=\"1.0\"></Proper>\\n        <Proper smirks=\"[*:1]-[#6X4:2]-[#8X2H0:3]-[*:4]\" periodicity1=\"3\" phase1=\"0.0 * degree\" id=\"t86\" k1=\"-0.1559345915417 * mole**-1 * kilocalorie\" idivf1=\"3.0\"></Proper>\\n        <Proper smirks=\"[#6X4:1]-[#6X4:2]-[#8X2H0:3]-[#6X4:4]\" periodicity1=\"3\" periodicity2=\"2\" phase1=\"0.0 * degree\" phase2=\"180.0 * degree\" id=\"t87\" k1=\"0.2190920219179 * mole**-1 * kilocalorie\" k2=\"0.0168144966447 * mole**-1 * kilocalorie\" idivf1=\"1.0\" idivf2=\"1.0\"></Proper>\\n        <Proper smirks=\"[#6X4:1]-[#6X4:2]-[#8X2:3]-[#6X3:4]\" periodicity1=\"3\" periodicity2=\"1\" phase1=\"0.0 * degree\" phase2=\"180.0 * degree\" id=\"t88\" k1=\"0.2935423065053 * mole**-1 * kilocalorie\" k2=\"0.5936929277299 * mole**-1 * kilocalorie\" idivf1=\"1.0\" idivf2=\"1.0\"></Proper>\\n        <Proper smirks=\"[#6X4:1]-[#8X2:2]-[#6X4:3]-[#8X2:4]\" periodicity1=\"3\" periodicity2=\"2\" periodicity3=\"1\" phase1=\"0.0 * degree\" phase2=\"180.0 * degree\" phase3=\"180.0 * degree\" id=\"t89\" k1=\"0.3886494723617 * mole**-1 * kilocalorie\" k2=\"0.256767135836 * mole**-1 * kilocalorie\" k3=\"1.319621430449 * mole**-1 * kilocalorie\" idivf1=\"1.0\" idivf2=\"1.0\" idivf3=\"1.0\"></Proper>\\n        <Proper smirks=\"[#6X4:1]-[#8X2:2]-[#6X4:3]-[#7X3:4]\" periodicity1=\"3\" periodicity2=\"2\" phase1=\"0.0 * degree\" phase2=\"0.0 * degree\" id=\"t90\" k1=\"0.5018649283047 * mole**-1 * kilocalorie\" k2=\"0.6283112080204 * mole**-1 * kilocalorie\" idivf1=\"1.0\" idivf2=\"1.0\"></Proper>\\n        <Proper smirks=\"[#6X3:1]-[#8X2:2]-[#6X4;r3:3]-@[#6X4;r3:4]\" periodicity1=\"1\" phase1=\"0.0 * degree\" id=\"t91\" k1=\"-0.3881443226137 * mole**-1 * kilocalorie\" idivf1=\"1.0\"></Proper>\\n        <Proper smirks=\"[#6X3:1]-[#8X2:2]-[#6X4;r3:3]-[#1:4]\" periodicity1=\"1\" phase1=\"0.0 * degree\" id=\"t92\" k1=\"0.2496382491307 * mole**-1 * kilocalorie\" idivf1=\"1.0\"></Proper>\\n        <Proper smirks=\"[#1:1]-[#8X2:2]-[#6X4;r3:3]-[#1:4]\" periodicity1=\"3\" periodicity2=\"2\" periodicity3=\"1\" phase1=\"0.0 * degree\" phase2=\"0.0 * degree\" phase3=\"0.0 * degree\" id=\"t93\" k1=\"0.4587912910726 * mole**-1 * kilocalorie\" k2=\"0.3401510260409 * mole**-1 * kilocalorie\" k3=\"0.7119290472544 * mole**-1 * kilocalorie\" idivf1=\"1.0\" idivf2=\"1.0\" idivf3=\"1.0\"></Proper>\\n        <Proper smirks=\"[#1:1]-[#8X2:2]-[#6X4;r3:3]-[#6X4:4]\" periodicity1=\"3\" periodicity2=\"2\" periodicity3=\"1\" phase1=\"0.0 * degree\" phase2=\"0.0 * degree\" phase3=\"0.0 * degree\" id=\"t94\" k1=\"0.3357947754701 * mole**-1 * kilocalorie\" k2=\"0.1145990005576 * mole**-1 * kilocalorie\" k3=\"0.6562847506201 * mole**-1 * kilocalorie\" idivf1=\"1.0\" idivf2=\"1.0\" idivf3=\"1.0\"></Proper>\\n        <Proper smirks=\"[#1:1]-[#8X2:2]-[#6X4;r3:3]-[#6X4;r3:4]\" periodicity1=\"3\" periodicity2=\"2\" periodicity3=\"1\" phase1=\"0.0 * degree\" phase2=\"0.0 * degree\" phase3=\"0.0 * degree\" id=\"t95\" k1=\"0.4378553132738 * mole**-1 * kilocalorie\" k2=\"0.1302518579407 * mole**-1 * kilocalorie\" k3=\"0.6980670831106 * mole**-1 * kilocalorie\" idivf1=\"1.0\" idivf2=\"1.0\" idivf3=\"1.0\"></Proper>\\n        <Proper smirks=\"[*:1]~[#6X3:2]-[#8X2:3]-[*:4]\" periodicity1=\"2\" phase1=\"180.0 * degree\" id=\"t96\" k1=\"1.346955794203 * mole**-1 * kilocalorie\" idivf1=\"1.0\"></Proper>\\n        <Proper smirks=\"[*:1]~[#6X3:2]-[#8X2:3]-[#1:4]\" periodicity1=\"2\" phase1=\"180.0 * degree\" id=\"t97\" k1=\"0.8827571963174 * mole**-1 * kilocalorie\" idivf1=\"1.0\"></Proper>\\n        <Proper smirks=\"[*:1]~[#6X3:2](=[#8,#16,#7])-[#8X2H0:3]-[*:4]\" periodicity1=\"2\" phase1=\"180.0 * degree\" id=\"t98\" k1=\"2.342603001725 * mole**-1 * kilocalorie\" idivf1=\"1.0\"></Proper>\\n        <Proper smirks=\"[*:1]~[#6X3:2](=[#8,#16,#7])-[#8:3]-[#1:4]\" periodicity1=\"2\" phase1=\"180.0 * degree\" id=\"t99\" k1=\"2.529549774939 * mole**-1 * kilocalorie\" idivf1=\"1.0\"></Proper>\\n        <Proper smirks=\"[#1:1]-[#8X2:2]-[#6X3:3]=[#8X1:4]\" periodicity1=\"2\" periodicity2=\"1\" phase1=\"180.0 * degree\" phase2=\"0.0 * degree\" id=\"t100\" k1=\"2.23244140273 * mole**-1 * kilocalorie\" k2=\"1.2372604498 * mole**-1 * kilocalorie\" idivf1=\"1.0\" idivf2=\"1.0\"></Proper>\\n        <Proper smirks=\"[#8,#16,#7:1]=[#6X3:2]-[#8X2H0:3]-[#6X4:4]\" periodicity1=\"2\" periodicity2=\"1\" phase1=\"180.0 * degree\" phase2=\"180.0 * degree\" id=\"t101\" k1=\"2.470224124864 * mole**-1 * kilocalorie\" k2=\"0.2537326473858 * mole**-1 * kilocalorie\" idivf1=\"1.0\" idivf2=\"1.0\"></Proper>\\n        <Proper smirks=\"[*:1]-[#8X2:2]@[#6X3:3]~[*:4]\" periodicity1=\"2\" phase1=\"180.0 * degree\" id=\"t102\" k1=\"2.08725945168 * mole**-1 * kilocalorie\" idivf1=\"1.0\"></Proper>\\n        <Proper smirks=\"[*:1]-[#8X2+1:2]=[#6X3:3]-[*:4]\" periodicity1=\"2\" phase1=\"180.0 * degree\" id=\"t103\" k1=\"3.955744032936 * mole**-1 * kilocalorie\" idivf1=\"1.0\"></Proper>\\n        <Proper smirks=\"[*:1]=[#8X2+1:2]-[#6:3]~[*:4]\" periodicity1=\"2\" phase1=\"180.0 * degree\" id=\"t104\" k1=\"0.2232017738603 * mole**-1 * kilocalorie\" idivf1=\"1.0\"></Proper>\\n        <Proper smirks=\"[*:1]~[#16:2]=,:[#6:3]~[*:4]\" periodicity1=\"2\" phase1=\"180.0 * degree\" id=\"t105\" k1=\"4.551283984149 * mole**-1 * kilocalorie\" idivf1=\"1.0\"></Proper>\\n        <Proper smirks=\"[*:1]-[#16X2,#16X3+1:2]-[#6:3]~[*:4]\" periodicity1=\"2\" phase1=\"180.0 * degree\" id=\"t106\" k1=\"0.443370767056 * mole**-1 * kilocalorie\" idivf1=\"1.0\"></Proper>\\n        <Proper smirks=\"[*:1]-[#16X2,#16X3+1:2]-[#6:3]-[#1:4]\" periodicity1=\"3\" phase1=\"0.0 * degree\" id=\"t107\" k1=\"0.2740373969579 * mole**-1 * kilocalorie\" idivf1=\"1.0\"></Proper>\\n        <Proper smirks=\"[#6X3:1]-@[#16X2,#16X1-1,#16X3+1:2]-@[#6X3,#7X2;r5:3]=@[#6,#7;r5:4]\" periodicity1=\"2\" phase1=\"180.0 * degree\" id=\"t108\" k1=\"2.956729423453 * mole**-1 * kilocalorie\" idivf1=\"1.0\"></Proper>\\n        <Proper smirks=\"[*:1]~[#16X4,#16X3!+1:2]-[#6X4:3]-[*:4]\" periodicity1=\"3\" phase1=\"0.0 * degree\" id=\"t109\" k1=\"0.03501004882363 * mole**-1 * kilocalorie\" idivf1=\"1.0\"></Proper>\\n        <Proper smirks=\"[#6X4:1]-[#16X4,#16X3+0:2]-[#6X4:3]-[#1:4]\" periodicity1=\"1\" phase1=\"0.0 * degree\" id=\"t110\" k1=\"0.1668988727699 * mole**-1 * kilocalorie\" idivf1=\"1.0\"></Proper>\\n        <Proper smirks=\"[#6X4:1]-[#16X4,#16X3+0:2]-[#6X4:3]~[#6X4:4]\" periodicity1=\"3\" phase1=\"0.0 * degree\" id=\"t111\" k1=\"0.2654682507235 * mole**-1 * kilocalorie\" idivf1=\"1.0\"></Proper>\\n        <Proper smirks=\"[*:1]~[#16X4,#16X3+0:2]-[#6X3:3]~[*:4]\" periodicity1=\"2\" phase1=\"180.0 * degree\" id=\"t112\" k1=\"0.5224377872008 * mole**-1 * kilocalorie\" idivf1=\"1.0\"></Proper>\\n        <Proper smirks=\"[#6:1]-[#16X4,#16X3+0:2]-[#6X3:3]~[*:4]\" periodicity1=\"1\" phase1=\"0.0 * degree\" id=\"t113\" k1=\"0.7036705436165 * mole**-1 * kilocalorie\" idivf1=\"1.0\"></Proper>\\n        <Proper smirks=\"[*:1]~[#15:2]-[#6:3]-[*:4]\" periodicity1=\"1\" phase1=\"0.0 * degree\" id=\"t114\" k1=\"0.001470050841157 * mole**-1 * kilocalorie\" idivf1=\"1.0\"></Proper>\\n        <Proper smirks=\"[*:1]~[#15:2]-[#6X3:3]~[*:4]\" periodicity1=\"1\" phase1=\"0.0 * degree\" id=\"t115\" k1=\"1.001318303664 * mole**-1 * kilocalorie\" idivf1=\"1.0\"></Proper>\\n        <Proper smirks=\"[*:1]-[#8:2]-[#8:3]-[*:4]\" periodicity1=\"1\" phase1=\"0.0 * degree\" id=\"t116\" k1=\"0.457973137376 * mole**-1 * kilocalorie\" idivf1=\"1.0\"></Proper>\\n        <Proper smirks=\"[*:1]-[#8:2]-[#8H1:3]-[*:4]\" periodicity1=\"2\" phase1=\"0.0 * degree\" id=\"t117\" k1=\"0.4009661110735 * mole**-1 * kilocalorie\" idivf1=\"1.0\"></Proper>\\n        <Proper smirks=\"[*:1]~[#8X2:2]-[#7:3]~[*:4]\" periodicity1=\"1\" phase1=\"0.0 * degree\" id=\"t118\" k1=\"1.062913481501 * mole**-1 * kilocalorie\" idivf1=\"1.0\"></Proper>\\n        <Proper smirks=\"[*:1]-[#8X2r5:2]-;@[#7X3r5:3]~[*:4]\" periodicity1=\"1\" phase1=\"0.0 * degree\" id=\"t119\" k1=\"0.8894364040494 * mole**-1 * kilocalorie\" idivf1=\"1.0\"></Proper>\\n        <Proper smirks=\"[*:1]-[#8X2r5:2]-;@[#7X2r5:3]~[*:4]\" periodicity1=\"1\" phase1=\"0.0 * degree\" id=\"t120\" k1=\"-0.1915723759986 * mole**-1 * kilocalorie\" idivf1=\"1.0\"></Proper>\\n        <Proper smirks=\"[*:1]-[#7X4,#7X3:2]-[#7X4,#7X3:3]-[*:4]\" periodicity1=\"3\" phase1=\"0.0 * degree\" id=\"t121\" k1=\"0.7763105759181 * mole**-1 * kilocalorie\" idivf1=\"1.0\"></Proper>\\n        <Proper smirks=\"[#1:1]-[#7X4,#7X3:2]-[#7X4,#7X3:3]-[#1:4]\" periodicity1=\"3\" periodicity2=\"2\" periodicity3=\"1\" phase1=\"0.0 * degree\" phase2=\"0.0 * degree\" phase3=\"0.0 * degree\" id=\"t122\" k1=\"0.3917343745784 * mole**-1 * kilocalorie\" k2=\"0.9467782973395 * mole**-1 * kilocalorie\" k3=\"0.2726597146827 * mole**-1 * kilocalorie\" idivf1=\"1.0\" idivf2=\"1.0\" idivf3=\"1.0\"></Proper>\\n        <Proper smirks=\"[#6X4:1]-[#7X4,#7X3:2]-[#7X4,#7X3:3]-[#1:4]\" periodicity1=\"3\" periodicity2=\"2\" periodicity3=\"1\" phase1=\"0.0 * degree\" phase2=\"0.0 * degree\" phase3=\"0.0 * degree\" id=\"t123\" k1=\"0.774151252041 * mole**-1 * kilocalorie\" k2=\"1.087509576657 * mole**-1 * kilocalorie\" k3=\"1.518874939494 * mole**-1 * kilocalorie\" idivf1=\"1.0\" idivf2=\"1.0\" idivf3=\"1.0\"></Proper>\\n        <Proper smirks=\"[#6X4:1]-[#7X4,#7X3:2]-[#7X4,#7X3:3]-[#6X4:4]\" periodicity1=\"3\" periodicity2=\"2\" periodicity3=\"1\" phase1=\"0.0 * degree\" phase2=\"0.0 * degree\" phase3=\"0.0 * degree\" id=\"t124\" k1=\"0.6761465733405 * mole**-1 * kilocalorie\" k2=\"1.653011589151 * mole**-1 * kilocalorie\" k3=\"1.713184811193 * mole**-1 * kilocalorie\" idivf1=\"1.0\" idivf2=\"1.0\" idivf3=\"1.0\"></Proper>\\n        <Proper smirks=\"[*:1]-[#7X4,#7X3:2]-[#7X3$(*~[#6X3,#6X2]):3]~[*:4]\" periodicity1=\"1\" phase1=\"0.0 * degree\" id=\"t125\" k1=\"0.0207623372754 * mole**-1 * kilocalorie\" idivf1=\"1.0\"></Proper>\\n        <Proper smirks=\"[*:1]-[#7X3$(*-[#6X3,#6X2]):2]-[#7X3$(*-[#6X3,#6X2]):3]-[*:4]\" periodicity1=\"1\" phase1=\"0.0 * degree\" id=\"t126\" k1=\"0.02021088501612 * mole**-1 * kilocalorie\" idivf1=\"1.0\"></Proper>\\n        <Proper smirks=\"[*:1]-[#7X3$(*-[#6X3,#6X2])r5:2]-@[#7X3$(*-[#6X3,#6X2])r5:3]~[*:4]\" periodicity1=\"2\" phase1=\"180.0 * degree\" id=\"t127\" k1=\"-0.5511477176828 * mole**-1 * kilocalorie\" idivf1=\"1.0\"></Proper>\\n        <Proper smirks=\"[*:1]@[#7X2:2]@[#7X2:3]@[#7X2,#6X3:4]\" periodicity1=\"1\" phase1=\"180.0 * degree\" id=\"t128a\" k1=\"0.2324481901172 * mole**-1 * kilocalorie\" idivf1=\"1.0\"></Proper>\\n        <Proper smirks=\"[*:1]~[#7X2:2]-[#7X3:3]~[*:4]\" periodicity1=\"3\" periodicity2=\"2\" phase1=\"0.0 * degree\" phase2=\"180.0 * degree\" id=\"t128\" k1=\"-0.09510851427019 * mole**-1 * kilocalorie\" k2=\"1.554435554256 * mole**-1 * kilocalorie\" idivf1=\"1.0\" idivf2=\"1.0\"></Proper>\\n        <Proper smirks=\"[*:1]=[#7X2:2]-[#7X2:3]=[*:4]\" periodicity1=\"2\" phase1=\"180.0 * degree\" id=\"t129\" k1=\"2.256547498569 * mole**-1 * kilocalorie\" idivf1=\"1.0\"></Proper>\\n        <Proper smirks=\"[*:1]~[#7X2:2]=,:[#7X2:3]~[*:4]\" periodicity1=\"2\" phase1=\"180.0 * degree\" id=\"t130\" k1=\"6.881627637778 * mole**-1 * kilocalorie\" idivf1=\"1.0\"></Proper>\\n        <Proper smirks=\"[*:1]~[#7X3+1:2]=,:[#7X2:3]~[*:4]\" periodicity1=\"2\" phase1=\"180.0 * degree\" id=\"t131\" k1=\"3.242705355404 * mole**-1 * kilocalorie\" idivf1=\"1.0\"></Proper>\\n        <Proper smirks=\"[*:1]-[#16X2,#16X3+1:2]-[!#6:3]~[*:4]\" periodicity1=\"2\" phase1=\"180.0 * degree\" id=\"t133\" k1=\"0.1282778850294 * mole**-1 * kilocalorie\" idivf1=\"1.0\"></Proper>\\n        <Proper smirks=\"[*:1]~[#16X4,#16X3+0:2]-[#7:3]~[*:4]\" periodicity1=\"1\" phase1=\"0.0 * degree\" id=\"t134\" k1=\"1.911914610011 * mole**-1 * kilocalorie\" idivf1=\"1.0\"></Proper>\\n        <Proper smirks=\"[#6X4:1]-[#16X4,#16X3+0:2]-[#7X4,#7X3:3]-[#1:4]\" periodicity1=\"1\" phase1=\"0.0 * degree\" id=\"t135\" k1=\"-0.05185152426794 * mole**-1 * kilocalorie\" idivf1=\"1.0\"></Proper>\\n        <Proper smirks=\"[#6X3:1]-[#16X4,#16X3+0:2]-[#7X4,#7X3:3]-[#1:4]\" periodicity1=\"3\" phase1=\"0.0 * degree\" id=\"t136\" k1=\"0.289423144071 * mole**-1 * kilocalorie\" idivf1=\"1.0\"></Proper>\\n        <Proper smirks=\"[#6X4:1]-[#16X4,#16X3+0:2]-[#7X4,#7X3:3]-[#6X4:4]\" periodicity1=\"1\" periodicity2=\"3\" phase1=\"0.0 * degree\" phase2=\"0.0 * degree\" id=\"t137\" k1=\"1.191277587846 * mole**-1 * kilocalorie\" k2=\"0.163283049999 * mole**-1 * kilocalorie\" idivf1=\"1.0\" idivf2=\"1.0\"></Proper>\\n        <Proper smirks=\"[#6X3:1]-[#16X4,#16X3+0:2]-[#7X4,#7X3:3]-[#6X4:4]\" periodicity1=\"3\" periodicity2=\"2\" periodicity3=\"1\" phase1=\"0.0 * degree\" phase2=\"0.0 * degree\" phase3=\"0.0 * degree\" id=\"t138\" k1=\"-0.008906462313985 * mole**-1 * kilocalorie\" k2=\"0.09140875740191 * mole**-1 * kilocalorie\" k3=\"1.275640981693 * mole**-1 * kilocalorie\" idivf1=\"1.0\" idivf2=\"1.0\" idivf3=\"1.0\"></Proper>\\n        <Proper smirks=\"[#8X1:1]~[#16X4,#16X3+0:2]-[#7X4,#7X3:3]-[#1:4]\" periodicity1=\"1\" periodicity2=\"3\" phase1=\"180.0 * degree\" phase2=\"0.0 * degree\" id=\"t139\" k1=\"-1.264725227353 * mole**-1 * kilocalorie\" k2=\"0.1750392987987 * mole**-1 * kilocalorie\" idivf1=\"1.0\" idivf2=\"1.0\"></Proper>\\n        <Proper smirks=\"[#8X1:1]~[#16X4,#16X3+0:2]-[#7X4,#7X3:3]-[#6X4:4]\" periodicity1=\"3\" periodicity2=\"2\" periodicity3=\"1\" phase1=\"0.0 * degree\" phase2=\"180.0 * degree\" phase3=\"0.0 * degree\" id=\"t140\" k1=\"0.3647165834298 * mole**-1 * kilocalorie\" k2=\"0.9682144392815 * mole**-1 * kilocalorie\" k3=\"2.108793081373 * mole**-1 * kilocalorie\" idivf1=\"1.0\" idivf2=\"1.0\" idivf3=\"1.0\"></Proper>\\n        <Proper smirks=\"[#6X3:1]-[#16X4,#16X3+0:2]-[#7X3:3]-[#6X3:4]\" periodicity1=\"3\" periodicity2=\"2\" periodicity3=\"1\" phase1=\"0.0 * degree\" phase2=\"0.0 * degree\" phase3=\"0.0 * degree\" id=\"t141\" k1=\"0.6676527644016 * mole**-1 * kilocalorie\" k2=\"0.4554941721975 * mole**-1 * kilocalorie\" k3=\"0.1638493609503 * mole**-1 * kilocalorie\" idivf1=\"1.0\" idivf2=\"1.0\" idivf3=\"1.0\"></Proper>\\n        <Proper smirks=\"[#6X4:1]-[#16X4,#16X3+0:2]-[#7X3:3]-[#6X3:4]\" periodicity1=\"3\" periodicity2=\"2\" phase1=\"90.0 * degree\" phase2=\"0.0 * degree\" id=\"t142\" k1=\"-0.5115798651529 * mole**-1 * kilocalorie\" k2=\"0.3513554219098 * mole**-1 * kilocalorie\" idivf1=\"1.0\" idivf2=\"1.0\"></Proper>\\n        <Proper smirks=\"[#8X1:1]~[#16X4,#16X3+0:2]-[#7X3:3]-[#6X3:4]\" periodicity1=\"1\" phase1=\"0.0 * degree\" id=\"t143\" k1=\"0.5204853446121 * mole**-1 * kilocalorie\" idivf1=\"1.0\"></Proper>\\n        <Proper smirks=\"[#8X1:1]~[#16X4,#16X3+0:2]-[#7X3:3]-[#7X2:4]\" periodicity1=\"1\" phase1=\"0.0 * degree\" id=\"t144\" k1=\"0.082636589537 * mole**-1 * kilocalorie\" idivf1=\"1.0\"></Proper>\\n        <Proper smirks=\"[*:1]~[#16X4,#16X3+0:2]=,:[#7X2:3]-,:[*:4]\" periodicity1=\"1\" phase1=\"0.0 * degree\" id=\"t145\" k1=\"0.5686755047811 * mole**-1 * kilocalorie\" idivf1=\"1.0\"></Proper>\\n        <Proper smirks=\"[#6X4:1]-[#16X4,#16X3+0:2]-[#7X2:3]~[#6X3:4]\" periodicity1=\"6\" periodicity2=\"5\" periodicity3=\"4\" periodicity4=\"3\" periodicity5=\"2\" periodicity6=\"1\" phase1=\"0.0 * degree\" phase2=\"0.0 * degree\" phase3=\"0.0 * degree\" phase4=\"0.0 * degree\" phase5=\"180.0 * degree\" phase6=\"0.0 * degree\" id=\"t146\" k1=\"-0.04293656207661 * mole**-1 * kilocalorie\" k2=\"0.05452276164746 * mole**-1 * kilocalorie\" k3=\"-0.006702001785213 * mole**-1 * kilocalorie\" k4=\"0.6025395053532 * mole**-1 * kilocalorie\" k5=\"1.148430499942 * mole**-1 * kilocalorie\" k6=\"0.8640302155923 * mole**-1 * kilocalorie\" idivf1=\"1.0\" idivf2=\"1.0\" idivf3=\"1.0\" idivf4=\"1.0\" idivf5=\"1.0\" idivf6=\"1.0\"></Proper>\\n        <Proper smirks=\"[#8X1:1]~[#16X4,#16X3+0:2]-[#7X2:3]~[#6X3:4]\" periodicity1=\"6\" periodicity2=\"5\" periodicity3=\"4\" periodicity4=\"2\" periodicity5=\"3\" periodicity6=\"1\" phase1=\"0.0 * degree\" phase2=\"0.0 * degree\" phase3=\"180.0 * degree\" phase4=\"180.0 * degree\" phase5=\"180.0 * degree\" phase6=\"0.0 * degree\" id=\"t147\" k1=\"0.635317599106 * mole**-1 * kilocalorie\" k2=\"-0.04078737475445 * mole**-1 * kilocalorie\" k3=\"0.5871078119327 * mole**-1 * kilocalorie\" k4=\"1.001778916402 * mole**-1 * kilocalorie\" k5=\"1.071646616274 * mole**-1 * kilocalorie\" k6=\"1.868726476464 * mole**-1 * kilocalorie\" idivf1=\"1.0\" idivf2=\"1.0\" idivf3=\"1.0\" idivf4=\"1.0\" idivf5=\"1.0\" idivf6=\"1.0\"></Proper>\\n        <Proper smirks=\"[*:1]~[#16X4,#16X3+0:2]-[#8X2:3]-[*:4]\" periodicity1=\"1\" phase1=\"0.0 * degree\" id=\"t148\" k1=\"0.09929852497968 * mole**-1 * kilocalorie\" idivf1=\"1.0\"></Proper>\\n        <Proper smirks=\"[*:1]-[#16X2,#16X3+1:2]-[#16X2,#16X3+1:3]-[*:4]\" periodicity1=\"2\" periodicity2=\"3\" phase1=\"0.0 * degree\" phase2=\"0.0 * degree\" id=\"t149\" k1=\"3.550844303916 * mole**-1 * kilocalorie\" k2=\"0.5462691169337 * mole**-1 * kilocalorie\" idivf1=\"1.0\" idivf2=\"1.0\"></Proper>\\n        <Proper smirks=\"[*:1]-[#8X2:2]-[#15:3]~[*:4]\" periodicity1=\"3\" phase1=\"0.0 * degree\" id=\"t150\" k1=\"0.5946925269495 * mole**-1 * kilocalorie\" idivf1=\"1.0\"></Proper>\\n        <Proper smirks=\"[#8X2:1]-[#15:2]-[#8X2:3]-[#6X4:4]\" periodicity1=\"3\" periodicity2=\"2\" phase1=\"0.0 * degree\" phase2=\"0.0 * degree\" id=\"t151\" k1=\"-0.6871617879539 * mole**-1 * kilocalorie\" k2=\"-0.7967740980432 * mole**-1 * kilocalorie\" idivf1=\"1.0\" idivf2=\"1.0\"></Proper>\\n        <Proper smirks=\"[*:1]~[#7X3:2]-[#15:3]~[*:4]\" periodicity1=\"2\" phase1=\"180.0 * degree\" id=\"t152\" k1=\"2.060743589157 * mole**-1 * kilocalorie\" idivf1=\"1.0\"></Proper>\\n        <Proper smirks=\"[*:1]-[#7:2]-[#15:3]=[*:4]\" periodicity1=\"2\" periodicity2=\"3\" phase1=\"180.0 * degree\" phase2=\"0.0 * degree\" id=\"t154\" k1=\"2.976194549128 * mole**-1 * kilocalorie\" k2=\"0.7309891402502 * mole**-1 * kilocalorie\" idivf1=\"1.0\" idivf2=\"1.0\"></Proper>\\n        <Proper smirks=\"[#6X3:1]-[#7:2]-[#15:3]=[*:4]\" periodicity1=\"1\" phase1=\"0.0 * degree\" id=\"t155\" k1=\"-0.476489155799 * mole**-1 * kilocalorie\" idivf1=\"1.0\"></Proper>\\n        <Proper smirks=\"[*:1]~[#7:2]=[#15:3]~[*:4]\" periodicity1=\"3\" phase1=\"0.0 * degree\" id=\"t155b\" k1=\"-0.9477893203365 * mole**-1 * kilocalorie\" idivf1=\"1.0\"></Proper>\\n        <Proper smirks=\"[*:1]-[*:2]#[*:3]-[*:4]\" periodicity1=\"1\" phase1=\"0.0 * degree\" id=\"t156\" k1=\"0.0 * mole**-1 * kilocalorie\" idivf1=\"1.0\"></Proper>\\n        <Proper smirks=\"[*:1]~[*:2]-[*:3]#[*:4]\" periodicity1=\"1\" phase1=\"0.0 * degree\" id=\"t157\" k1=\"0.0 * mole**-1 * kilocalorie\" idivf1=\"1.0\"></Proper>\\n        <Proper smirks=\"[*:1]~[*:2]=[#6,#7,#16,#15;X2:3]=[*:4]\" periodicity1=\"1\" phase1=\"0.0 * degree\" id=\"t158\" k1=\"0.0 * mole**-1 * kilocalorie\" idivf1=\"1.0\"></Proper>\\n        <Proper smirks=\"[#35H0X1x0!r+0A:1]-;!@[#6H2X4x0!r+0A:2](-;!@[#1H0X1x0!r+0A])(-;!@[#1H0X1x0!r+0A])-;!@[#8H1X2x0!r+0A:3]-;!@[#1H0X1x0!r+0A:4]\" periodicity1=\"1\" periodicity2=\"2\" periodicity3=\"3\" periodicity4=\"4\" phase1=\"0 * degree\" phase2=\"180 * degree\" phase3=\"0 * degree\" phase4=\"180 * degree\" id=\"t169\" k1=\"0 * mole**-1 * kilocalorie\" k2=\"0 * mole**-1 * kilocalorie\" k3=\"0.6985935181583 * mole**-1 * kilocalorie\" k4=\"0 * mole**-1 * kilocalorie\" idivf1=\"1.0\" idivf2=\"1.0\" idivf3=\"1.0\" idivf4=\"1.0\"></Proper>\\n        <Proper smirks=\"[#1H0X1x0!r+0A:1]-;!@[#6H2X4x0!r+0A:2](-;!@[#1H0X1x0!r+0A])(-;!@[#35H0X1x0!r+0A])-;!@[#8H1X2x0!r+0A:3]-;!@[#1H0X1x0!r+0A:4]\" periodicity1=\"1\" periodicity2=\"2\" periodicity3=\"3\" periodicity4=\"4\" phase1=\"0 * degree\" phase2=\"180 * degree\" phase3=\"0 * degree\" phase4=\"180 * degree\" id=\"t170\" k1=\"0 * mole**-1 * kilocalorie\" k2=\"0 * mole**-1 * kilocalorie\" k3=\"0.6985935181583 * mole**-1 * kilocalorie\" k4=\"0 * mole**-1 * kilocalorie\" idivf1=\"1.0\" idivf2=\"1.0\" idivf3=\"1.0\" idivf4=\"1.0\"></Proper>\\n    </ProperTorsions>\\n    <ImproperTorsions version=\"0.3\" potential=\"k*(1+cos(periodicity*theta-phase))\" default_idivf=\"auto\">\\n        <Improper smirks=\"[*:1]~[#6X3:2](~[*:3])~[*:4]\" periodicity1=\"2\" phase1=\"180.0 * degree\" k1=\"1.1 * mole**-1 * kilocalorie\" id=\"i1\"></Improper>\\n        <Improper smirks=\"[*:1]~[#6X3:2](~[#8X1:3])~[#8:4]\" periodicity1=\"2\" phase1=\"180.0 * degree\" k1=\"10.5 * mole**-1 * kilocalorie\" id=\"i2\"></Improper>\\n        <Improper smirks=\"[*:1]~[#7X3$(*~[#15,#16](!-[*])):2](~[*:3])~[*:4]\" periodicity1=\"2\" phase1=\"180.0 * degree\" k1=\"1.1 * mole**-1 * kilocalorie\" id=\"i2a\"></Improper>\\n        <Improper smirks=\"[*:1]~[#7X3$(*~[#6X3]):2](~[*:3])~[*:4]\" periodicity1=\"2\" phase1=\"180.0 * degree\" k1=\"1.0 * mole**-1 * kilocalorie\" id=\"i3\"></Improper>\\n        <Improper smirks=\"[*:1]~[#7X3$(*~[#7X2]):2](~[*:3])~[*:4]\" periodicity1=\"2\" phase1=\"180.0 * degree\" k1=\"1.1 * mole**-1 * kilocalorie\" id=\"i3a\"></Improper>\\n        <Improper smirks=\"[*:1]~[#7X3$(*@1-[*]=,:[*][*]=,:[*]@1):2](~[*:3])~[*:4]\" periodicity1=\"2\" phase1=\"180.0 * degree\" k1=\"10.5 * mole**-1 * kilocalorie\" id=\"i3b\"></Improper>\\n        <Improper smirks=\"[*:1]~[#6X3:2](=[#7X2,#7X3+1:3])~[#7:4]\" periodicity1=\"2\" phase1=\"180.0 * degree\" k1=\"10.5 * mole**-1 * kilocalorie\" id=\"i4\"></Improper>\\n    </ImproperTorsions>\\n    <vdW version=\"0.3\" potential=\"Lennard-Jones-12-6\" combining_rules=\"Lorentz-Berthelot\" scale12=\"0.0\" scale13=\"0.0\" scale14=\"0.5\" scale15=\"1.0\" cutoff=\"9.0 * angstrom\" switch_width=\"1.0 * angstrom\" method=\"cutoff\">\\n        <Atom smirks=\"[#1:1]\" epsilon=\"0.0157 * mole**-1 * kilocalorie\" id=\"n1\" rmin_half=\"0.6 * angstrom\"></Atom>\\n        <Atom smirks=\"[#1:1]-[#6X4]\" epsilon=\"0.0157 * mole**-1 * kilocalorie\" id=\"n2\" rmin_half=\"1.487 * angstrom\"></Atom>\\n        <Atom smirks=\"[#1:1]-[#6X4]-[#7,#8,#9,#16,#17,#35]\" epsilon=\"0.0157 * mole**-1 * kilocalorie\" id=\"n3\" rmin_half=\"1.387 * angstrom\"></Atom>\\n        <Atom smirks=\"[#1:1]-[#6X4](-[#7,#8,#9,#16,#17,#35])-[#7,#8,#9,#16,#17,#35]\" epsilon=\"0.0157 * mole**-1 * kilocalorie\" id=\"n4\" rmin_half=\"1.287 * angstrom\"></Atom>\\n        <Atom smirks=\"[#1:1]-[#6X4](-[#7,#8,#9,#16,#17,#35])(-[#7,#8,#9,#16,#17,#35])-[#7,#8,#9,#16,#17,#35]\" epsilon=\"0.0157 * mole**-1 * kilocalorie\" id=\"n5\" rmin_half=\"1.187 * angstrom\"></Atom>\\n        <Atom smirks=\"[#1:1]-[#6X4]~[*+1,*+2]\" epsilon=\"0.0157 * mole**-1 * kilocalorie\" id=\"n6\" rmin_half=\"1.1 * angstrom\"></Atom>\\n        <Atom smirks=\"[#1:1]-[#6X3]\" epsilon=\"0.015 * mole**-1 * kilocalorie\" id=\"n7\" rmin_half=\"1.459 * angstrom\"></Atom>\\n        <Atom smirks=\"[#1:1]-[#6X3]~[#7,#8,#9,#16,#17,#35]\" epsilon=\"0.015 * mole**-1 * kilocalorie\" id=\"n8\" rmin_half=\"1.409 * angstrom\"></Atom>\\n        <Atom smirks=\"[#1:1]-[#6X3](~[#7,#8,#9,#16,#17,#35])~[#7,#8,#9,#16,#17,#35]\" epsilon=\"0.015 * mole**-1 * kilocalorie\" id=\"n9\" rmin_half=\"1.359 * angstrom\"></Atom>\\n        <Atom smirks=\"[#1:1]-[#6X2]\" epsilon=\"0.015 * mole**-1 * kilocalorie\" id=\"n10\" rmin_half=\"1.459 * angstrom\"></Atom>\\n        <Atom smirks=\"[#1:1]-[#7]\" epsilon=\"0.0157 * mole**-1 * kilocalorie\" id=\"n11\" rmin_half=\"0.6 * angstrom\"></Atom>\\n        <Atom smirks=\"[#1:1]-[#8]\" epsilon=\"5.27e-05 * mole**-1 * kilocalorie\" id=\"n12\" rmin_half=\"0.3 * angstrom\"></Atom>\\n        <Atom smirks=\"[#1:1]-[#16]\" epsilon=\"0.0157 * mole**-1 * kilocalorie\" id=\"n13\" rmin_half=\"0.6 * angstrom\"></Atom>\\n        <Atom smirks=\"[#6:1]\" epsilon=\"0.086 * mole**-1 * kilocalorie\" id=\"n14\" rmin_half=\"1.908 * angstrom\"></Atom>\\n        <Atom smirks=\"[#6X2:1]\" epsilon=\"0.21 * mole**-1 * kilocalorie\" id=\"n15\" rmin_half=\"1.908 * angstrom\"></Atom>\\n        <Atom smirks=\"[#6X4:1]\" epsilon=\"0.1094 * mole**-1 * kilocalorie\" id=\"n16\" rmin_half=\"1.908 * angstrom\"></Atom>\\n        <Atom smirks=\"[#8:1]\" epsilon=\"0.21 * mole**-1 * kilocalorie\" id=\"n17\" rmin_half=\"1.6612 * angstrom\"></Atom>\\n        <Atom smirks=\"[#8X2H0+0:1]\" epsilon=\"0.17 * mole**-1 * kilocalorie\" id=\"n18\" rmin_half=\"1.6837 * angstrom\"></Atom>\\n        <Atom smirks=\"[#8X2H1+0:1]\" epsilon=\"0.2104 * mole**-1 * kilocalorie\" id=\"n19\" rmin_half=\"1.721 * angstrom\"></Atom>\\n        <Atom smirks=\"[#7:1]\" epsilon=\"0.17 * mole**-1 * kilocalorie\" id=\"n20\" rmin_half=\"1.824 * angstrom\"></Atom>\\n        <Atom smirks=\"[#16:1]\" epsilon=\"0.25 * mole**-1 * kilocalorie\" id=\"n21\" rmin_half=\"2.0 * angstrom\"></Atom>\\n        <Atom smirks=\"[#15:1]\" epsilon=\"0.2 * mole**-1 * kilocalorie\" id=\"n22\" rmin_half=\"2.1 * angstrom\"></Atom>\\n        <Atom smirks=\"[#9:1]\" epsilon=\"0.061 * mole**-1 * kilocalorie\" id=\"n23\" rmin_half=\"1.75 * angstrom\"></Atom>\\n        <Atom smirks=\"[#17:1]\" epsilon=\"0.265 * mole**-1 * kilocalorie\" id=\"n24\" rmin_half=\"1.948 * angstrom\"></Atom>\\n        <Atom smirks=\"[#35:1]\" epsilon=\"0.32 * mole**-1 * kilocalorie\" id=\"n25\" rmin_half=\"2.22 * angstrom\"></Atom>\\n        <Atom smirks=\"[#53:1]\" epsilon=\"0.4 * mole**-1 * kilocalorie\" id=\"n26\" rmin_half=\"2.35 * angstrom\"></Atom>\\n        <Atom smirks=\"[#3+1:1]\" epsilon=\"0.0279896 * mole**-1 * kilocalorie\" id=\"n27\" rmin_half=\"1.025 * angstrom\"></Atom>\\n        <Atom smirks=\"[#11+1:1]\" epsilon=\"0.0874393 * mole**-1 * kilocalorie\" id=\"n28\" rmin_half=\"1.369 * angstrom\"></Atom>\\n        <Atom smirks=\"[#19+1:1]\" epsilon=\"0.1936829 * mole**-1 * kilocalorie\" id=\"n29\" rmin_half=\"1.705 * angstrom\"></Atom>\\n        <Atom smirks=\"[#37+1:1]\" epsilon=\"0.3278219 * mole**-1 * kilocalorie\" id=\"n30\" rmin_half=\"1.813 * angstrom\"></Atom>\\n        <Atom smirks=\"[#55+1:1]\" epsilon=\"0.4065394 * mole**-1 * kilocalorie\" id=\"n31\" rmin_half=\"1.976 * angstrom\"></Atom>\\n        <Atom smirks=\"[#9X0-1:1]\" epsilon=\"0.003364 * mole**-1 * kilocalorie\" id=\"n32\" rmin_half=\"2.303 * angstrom\"></Atom>\\n        <Atom smirks=\"[#17X0-1:1]\" epsilon=\"0.035591 * mole**-1 * kilocalorie\" id=\"n33\" rmin_half=\"2.513 * angstrom\"></Atom>\\n        <Atom smirks=\"[#35X0-1:1]\" epsilon=\"0.0586554 * mole**-1 * kilocalorie\" id=\"n34\" rmin_half=\"2.608 * angstrom\"></Atom>\\n        <Atom smirks=\"[#53X0-1:1]\" epsilon=\"0.0536816 * mole**-1 * kilocalorie\" id=\"n35\" rmin_half=\"2.86 * angstrom\"></Atom>\\n    </vdW>\\n    <Electrostatics version=\"0.3\" scale12=\"0.0\" scale13=\"0.0\" scale14=\"0.8333333333\" scale15=\"1.0\" cutoff=\"9.0 * angstrom\" switch_width=\"0.0 * angstrom\" method=\"PME\"></Electrostatics>\\n    <LibraryCharges version=\"0.3\">\\n        <LibraryCharge smirks=\"[#3+1:1]\" charge1=\"1.0 * elementary_charge\" name=\"Li+\"></LibraryCharge>\\n        <LibraryCharge smirks=\"[#11+1:1]\" charge1=\"1.0 * elementary_charge\" name=\"Na+\"></LibraryCharge>\\n        <LibraryCharge smirks=\"[#19+1:1]\" charge1=\"1.0 * elementary_charge\" name=\"K+\"></LibraryCharge>\\n        <LibraryCharge smirks=\"[#37+1:1]\" charge1=\"1.0 * elementary_charge\" name=\"Rb+\"></LibraryCharge>\\n        <LibraryCharge smirks=\"[#55+1:1]\" charge1=\"1.0 * elementary_charge\" name=\"Cs+\"></LibraryCharge>\\n        <LibraryCharge smirks=\"[#9X0-1:1]\" charge1=\"-1.0 * elementary_charge\" name=\"F-\"></LibraryCharge>\\n        <LibraryCharge smirks=\"[#17X0-1:1]\" charge1=\"-1.0 * elementary_charge\" name=\"Cl-\"></LibraryCharge>\\n        <LibraryCharge smirks=\"[#35X0-1:1]\" charge1=\"-1.0 * elementary_charge\" name=\"Br-\"></LibraryCharge>\\n        <LibraryCharge smirks=\"[#53X0-1:1]\" charge1=\"-1.0 * elementary_charge\" name=\"I-\"></LibraryCharge>\\n    </LibraryCharges>\\n    <ToolkitAM1BCC version=\"0.3\"></ToolkitAM1BCC>\\n</SMIRNOFF>', optimizer=ForceBalanceSchema(type='ForceBalance', max_iterations=10, job_type='optimize', penalty_type='L1', step_convergence_threshold=0.01, objective_convergence_threshold=0.01, gradient_convergence_threshold=0.01, n_criteria=2, eigenvalue_lower_bound=0.01, finite_difference_h=0.01, penalty_additive=1.0, initial_trust_radius=-0.25, minimum_trust_radius=0.05, error_tolerance=1.0, adaptive_factor=0.2, adaptive_damping=1.0, normalize_weights=False, extras={}), parameters=[ProperTorsionSMIRKS(type='ProperTorsions', smirks='[#35H0X1x0!r+0A:1]-;!@[#6H2X4x0!r+0A:2](-;!@[#1H0X1x0!r+0A])(-;!@[#1H0X1x0!r+0A])-;!@[#8H1X2x0!r+0A:3]-;!@[#1H0X1x0!r+0A:4]', attributes={'k2', 'k4', 'k1', 'k3'}), ProperTorsionSMIRKS(type='ProperTorsions', smirks='[#1H0X1x0!r+0A:1]-;!@[#6H2X4x0!r+0A:2](-;!@[#1H0X1x0!r+0A])(-;!@[#35H0X1x0!r+0A])-;!@[#8H1X2x0!r+0A:3]-;!@[#1H0X1x0!r+0A:4]', attributes={'k2', 'k4', 'k1', 'k3'})], parameter_hyperparameters=[ProperTorsionHyperparameters(type='ProperTorsions', priors={'k': 6.0})], targets=[TorsionProfileTargetSchema(weight=1.0, reference_data=LocalQCData[TorsionDriveResult](type='local', qc_records=[TorsionDriveResult(schema_name='qcschema_torsion_drive_output', schema_version=1, keywords=TDKeywords(dihedrals=[(5, 1, 3, 4)], grid_spacing=[15], dihedral_ranges=None, energy_decrease_thresh=None, energy_upper_limit=None), extras={'canonical_isomeric_explicit_hydrogen_mapped_smiles': '[H:1][C:2]([H:3])([O:4][H:5])[Br:6]'}, input_specification=QCInputSpecification(schema_name='qcschema_input', schema_version=1, driver=<DriverEnum.gradient: 'gradient'>, model=Model(method='gfn2xtb', basis=None), keywords={}, extras={}), initial_molecule=Molecule(name='BrCH3O', formula='BrCH3O', hash='1830d35'), optimization_spec=OptimizationSpecification(schema_name='qcschema_optimization_specification', schema_version=1, procedure='geometric', keywords={'coordsys': 'dlc', 'enforce': 0.1, 'epsilon': 0.0, 'reset': True, 'qccnv': True, 'molcnv': False, 'check': 0, 'trust': 0.1, 'tmax': 0.3, 'maxiter': 300, 'convergence_set': 'GAU', 'program': 'xtb'}, protocols=OptimizationProtocols(trajectory=<TrajectoryProtocolEnum.all: 'all'>)), provenance=Provenance(creator='TorsionDrive', version='v1.1.0', routine='torsiondrive.td_api.next_jobs_from_state', cpu='Intel(R) Core(TM) i7-7700HQ CPU @ 2.80GHz', hostname='Danielles-MacBook-Pro-2.local', username='daniellebergaziin', wall_time=16.37980008125305, qcengine_version='v0.20.1'), final_energies={'60': -11.806544105776846, '45': -11.805383026217976, '75': -11.806513182437547, '30': -11.803533215827747, '90': -11.805269481744727, '15': -11.801854208120135, '105': -11.803222444779903, '0': -11.801179390065498, '120': -11.801050606282537, '-15': -11.801854208092516, '135': -11.799397848831042, '-30': -11.803533212908254, '150': -11.798523990258472, '-45': -11.805383011740995, '165': -11.79823985213202, '-60': -11.806544059228141, '180': -11.798198842090505, '-165': -11.798239851961197, '-75': -11.806513183349304, '-150': -11.798523988684023, '-90': -11.80526948143412, '-135': -11.799397853800082, '-105': -11.803222445470515, '-120': -11.80105060799149}, final_molecules={'60': Molecule(name='BrCH3O', formula='BrCH3O', hash='b0cc9a5'), '45': Molecule(name='BrCH3O', formula='BrCH3O', hash='63f67c2'), '75': Molecule(name='BrCH3O', formula='BrCH3O', hash='ad4e328'), '30': Molecule(name='BrCH3O', formula='BrCH3O', hash='c7d869f'), '90': Molecule(name='BrCH3O', formula='BrCH3O', hash='f7db284'), '15': Molecule(name='BrCH3O', formula='BrCH3O', hash='dd540dd'), '105': Molecule(name='BrCH3O', formula='BrCH3O', hash='581c34d'), '0': Molecule(name='BrCH3O', formula='BrCH3O', hash='4830da0'), '120': Molecule(name='BrCH3O', formula='BrCH3O', hash='b2952ee'), '-15': Molecule(name='BrCH3O', formula='BrCH3O', hash='82dce36'), '135': Molecule(name='BrCH3O', formula='BrCH3O', hash='8f601c6'), '-30': Molecule(name='BrCH3O', formula='BrCH3O', hash='bbab91e'), '150': Molecule(name='BrCH3O', formula='BrCH3O', hash='a282de2'), '-45': Molecule(name='BrCH3O', formula='BrCH3O', hash='e31c810'), '165': Molecule(name='BrCH3O', formula='BrCH3O', hash='aca0b81'), '-60': Molecule(name='BrCH3O', formula='BrCH3O', hash='e739620'), '180': Molecule(name='BrCH3O', formula='BrCH3O', hash='4846259'), '-165': Molecule(name='BrCH3O', formula='BrCH3O', hash='5f005f3'), '-75': Molecule(name='BrCH3O', formula='BrCH3O', hash='14052a0'), '-150': Molecule(name='BrCH3O', formula='BrCH3O', hash='c5c8a70'), '-90': Molecule(name='BrCH3O', formula='BrCH3O', hash='9d06983'), '-135': Molecule(name='BrCH3O', formula='BrCH3O', hash='c908f9f'), '-105': Molecule(name='BrCH3O', formula='BrCH3O', hash='e868f63'), '-120': Molecule(name='BrCH3O', formula='BrCH3O', hash='71b77a5')}, optimization_history={}, stdout=None, stderr=None, success=True, error=None)]), extras={}, type='TorsionProfile', attenuate_weights=True, energy_denominator=1.0, energy_cutoff=10.0)], smiles='[H:1][C:2]([H:3])([O:4][H:5])[Br:6]', fragmentation_engine=WBOFragmenter(functional_groups={'hydrazine': '[NX3:1][NX3:2]', 'hydrazone': '[NX3:1][NX2:2]', 'nitric_oxide': '[N:1]-[O:2]', 'amide': '[#7:1][#6:2](=[#8:3])', 'amide_n': '[#7:1][#6:2](-[O-:3])', 'amide_2': '[NX3:1][CX3:2](=[OX1:3])[NX3:4]', 'aldehyde': '[CX3H1:1](=[O:2])[#6:3]', 'sulfoxide_1': '[#16X3:1]=[OX1:2]', 'sulfoxide_2': '[#16X3+:1][OX1-:2]', 'sulfonyl': '[#16X4:1](=[OX1:2])=[OX1:3]', 'sulfinic_acid': '[#16X3:1](=[OX1:2])[OX2H,OX1H0-:3]', 'sulfinamide': '[#16X4:1](=[OX1:2])(=[OX1:3])([NX3R0:4])', 'sulfonic_acid': '[#16X4:1](=[OX1:2])(=[OX1:3])[OX2H,OX1H0-:4]', 'phosphine_oxide': '[PX4:1](=[OX1:2])([#6:3])([#6:4])([#6:5])', 'phosphonate': '[P:1](=[OX1:2])([OX2H,OX1-:3])([OX2H,OX1-:4])', 'phosphate': '[PX4:1](=[OX1:2])([#8:3])([#8:4])([#8:5])', 'carboxylic_acid': '[CX3:1](=[O:2])[OX1H0-,OX2H1:3]', 'nitro_1': '[NX3+:1](=[O:2])[O-:3]', 'nitro_2': '[NX3:1](=[O:2])=[O:3]', 'ester': '[CX3:1](=[O:2])[OX2H0:3]', 'tri_halide': '[#6:1]([F,Cl,I,Br:2])([F,Cl,I,Br:3])([F,Cl,I,Br:4])'}, scheme='WBO', wbo_options=WBOOptions(method='am1-wiberg-elf10', max_conformers=800, rms_threshold=1.0), threshold=0.03, heuristic='path_length', keep_non_rotor_ring_substituents=False)), provenance={'forcebalance': 'v1.9.2', 'openff.toolkit': '0.10.1', 'openeye': '2021.1.1'}, status='success', error=None, refit_force_field='<?xml version=\"1.0\" encoding=\"utf-8\"?>\\n<SMIRNOFF version=\"0.3\" aromaticity_model=\"OEAroModel_MDL\">\\n    <Author>The Open Force Field Initiative</Author>\\n    <Date>2020-10-21</Date>\\n    <Bonds version=\"0.3\" potential=\"harmonic\" fractional_bondorder_method=\"AM1-Wiberg\" fractional_bondorder_interpolation=\"linear\">\\n        <Bond smirks=\"[#6X4:1]-[#6X4:2]\" id=\"b1\" length=\"1.520980132854 * angstrom\" k=\"517.2187207483 * angstrom**-2 * mole**-1 * kilocalorie\"></Bond>\\n        <Bond smirks=\"[#6X4:1]-[#6X3:2]\" id=\"b2\" length=\"1.501037244555 * angstrom\" k=\"601.2284108955 * angstrom**-2 * mole**-1 * kilocalorie\"></Bond>\\n        <Bond smirks=\"[#6X4:1]-[#6X3:2]=[#8X1+0]\" id=\"b3\" length=\"1.521644911471 * angstrom\" k=\"663.5796689652 * angstrom**-2 * mole**-1 * kilocalorie\"></Bond>\\n        <Bond smirks=\"[#6X3:1]-[#6X3:2]\" id=\"b4\" length=\"1.452604804913 * angstrom\" k=\"541.7488836693 * angstrom**-2 * mole**-1 * kilocalorie\"></Bond>\\n        <Bond smirks=\"[#6X3:1]:[#6X3:2]\" id=\"b5\" length=\"1.390518677532 * angstrom\" k=\"689.2732730871 * angstrom**-2 * mole**-1 * kilocalorie\"></Bond>\\n        <Bond smirks=\"[#6X3:1]=[#6X3:2]\" id=\"b6\" length=\"1.376004247979 * angstrom\" k=\"785.4733197609 * angstrom**-2 * mole**-1 * kilocalorie\"></Bond>\\n        <Bond smirks=\"[#6:1]-[#7:2]\" id=\"b7\" length=\"1.461531761708 * angstrom\" k=\"716.4576464043 * angstrom**-2 * mole**-1 * kilocalorie\"></Bond>\\n        <Bond smirks=\"[#6X3:1]-[#7X3:2]\" id=\"b8\" length=\"1.390168708029 * angstrom\" k=\"768.655536364 * angstrom**-2 * mole**-1 * kilocalorie\"></Bond>\\n        <Bond smirks=\"[#6X4:1]-[#7X3:2]-[#6X3]=[#8X1+0]\" id=\"b9\" length=\"1.449346371125 * angstrom\" k=\"704.4966056244 * angstrom**-2 * mole**-1 * kilocalorie\"></Bond>\\n        <Bond smirks=\"[#6X3:1](=[#8X1+0])-[#7X3:2]\" id=\"b10\" length=\"1.375574777154 * angstrom\" k=\"958.7048267044 * angstrom**-2 * mole**-1 * kilocalorie\"></Bond>\\n        <Bond smirks=\"[#6X3:1]-[#7X2:2]\" id=\"b11\" length=\"1.38106431582 * angstrom\" k=\"708.3989749935 * angstrom**-2 * mole**-1 * kilocalorie\"></Bond>\\n        <Bond smirks=\"[#6X3:1]:[#7X2,#7X3+1:2]\" id=\"b12\" length=\"1.332172844737 * angstrom\" k=\"831.8762885839 * angstrom**-2 * mole**-1 * kilocalorie\"></Bond>\\n        <Bond smirks=\"[#6X3:1]=[#7X2,#7X3+1:2]\" id=\"b13\" length=\"1.300220697757 * angstrom\" k=\"987.2600166236 * angstrom**-2 * mole**-1 * kilocalorie\"></Bond>\\n        <Bond smirks=\"[#6:1]-[#8:2]\" id=\"b14\" length=\"1.429330393438 * angstrom\" k=\"664.3946131079 * angstrom**-2 * mole**-1 * kilocalorie\"></Bond>\\n        <Bond smirks=\"[#6X3:1]-[#8X1-1:2]\" id=\"b14a\" length=\"1.285001656711 * angstrom\" k=\"638.4370163325 * angstrom**-2 * mole**-1 * kilocalorie\"></Bond>\\n        <Bond smirks=\"[#6X4:1]-[#8X2H0:2]\" id=\"b15\" length=\"1.428928113679 * angstrom\" k=\"736.4755257787 * angstrom**-2 * mole**-1 * kilocalorie\"></Bond>\\n        <Bond smirks=\"[#6X3:1]-[#8X2:2]\" id=\"b16\" length=\"1.368612166925 * angstrom\" k=\"719.7194400131 * angstrom**-2 * mole**-1 * kilocalorie\"></Bond>\\n        <Bond smirks=\"[#6X3:1]-[#8X2H1:2]\" id=\"b17\" length=\"1.369468156503 * angstrom\" k=\"790.2138705471 * angstrom**-2 * mole**-1 * kilocalorie\"></Bond>\\n        <Bond smirks=\"[#6X3a:1]-[#8X2H0:2]\" id=\"b18\" length=\"1.369247314096 * angstrom\" k=\"827.3303999397 * angstrom**-2 * mole**-1 * kilocalorie\"></Bond>\\n        <Bond smirks=\"[#6X3:1](=[#8X1])-[#8X2H0:2]\" id=\"b19\" length=\"1.350125361867 * angstrom\" k=\"616.6889982732 * angstrom**-2 * mole**-1 * kilocalorie\"></Bond>\\n        <Bond smirks=\"[#6:1]=[#8X1+0,#8X2+1:2]\" id=\"b20\" length=\"1.228792915057 * angstrom\" k=\"1176.748901628 * angstrom**-2 * mole**-1 * kilocalorie\"></Bond>\\n        <Bond smirks=\"[#6X3:1](~[#8X1])~[#8X1:2]\" id=\"b21\" length=\"1.261437823232 * angstrom\" k=\"1157.796595057 * angstrom**-2 * mole**-1 * kilocalorie\"></Bond>\\n        <Bond smirks=\"[#6X3:1]~[#8X2+1:2]~[#6X3]\" id=\"b22\" length=\"1.360087778512 * angstrom\" k=\"1088.75931445 * angstrom**-2 * mole**-1 * kilocalorie\"></Bond>\\n        <Bond smirks=\"[#6X2:1]-[#6:2]\" id=\"b23\" length=\"1.426031948982 * angstrom\" k=\"1640.574559316 * angstrom**-2 * mole**-1 * kilocalorie\"></Bond>\\n        <Bond smirks=\"[#6X2:1]-[#6X4:2]\" id=\"b24\" length=\"1.453716802068 * angstrom\" k=\"800.0 * angstrom**-2 * mole**-1 * kilocalorie\"></Bond>\\n        <Bond smirks=\"[#6X2:1]=[#6X3:2]\" id=\"b25\" length=\"1.313916554213 * angstrom\" k=\"1161.375438886 * angstrom**-2 * mole**-1 * kilocalorie\"></Bond>\\n        <Bond smirks=\"[#6:1]#[#7:2]\" id=\"b26\" length=\"1.166493990729 * angstrom\" k=\"1622.571734028 * angstrom**-2 * mole**-1 * kilocalorie\"></Bond>\\n        <Bond smirks=\"[#6X2:1]#[#6X2:2]\" id=\"b27\" length=\"1.214267533917 * angstrom\" k=\"1000.0 * angstrom**-2 * mole**-1 * kilocalorie\"></Bond>\\n        <Bond smirks=\"[#6X2:1]-[#8X2:2]\" id=\"b28\" length=\"1.321538910206 * angstrom\" k=\"700.0497029132 * angstrom**-2 * mole**-1 * kilocalorie\"></Bond>\\n        <Bond smirks=\"[#6X2:1]-[#7:2]\" id=\"b29\" length=\"1.347314286573 * angstrom\" k=\"1033.464402026 * angstrom**-2 * mole**-1 * kilocalorie\"></Bond>\\n        <Bond smirks=\"[#6X2:1]=[#7:2]\" id=\"b30\" length=\"1.196112346392 * angstrom\" k=\"1205.62768674 * angstrom**-2 * mole**-1 * kilocalorie\"></Bond>\\n        <Bond smirks=\"[#16:1]=[#6:2]\" id=\"b31a\" length=\"1.671311106175 * angstrom\" k=\"593.8255795778 * angstrom**-2 * mole**-1 * kilocalorie\"></Bond>\\n        <Bond smirks=\"[#6X2:1]=[#16:2]\" id=\"b31\" length=\"1.580136796038 * angstrom\" k=\"971.078275835 * angstrom**-2 * mole**-1 * kilocalorie\"></Bond>\\n        <Bond smirks=\"[#7:1]-[#7:2]\" id=\"b32\" length=\"1.395820226577 * angstrom\" k=\"835.8939107268 * angstrom**-2 * mole**-1 * kilocalorie\"></Bond>\\n        <Bond smirks=\"[#7X3:1]-[#7X2:2]\" id=\"b33\" length=\"1.348040796856 * angstrom\" k=\"787.9587602802 * angstrom**-2 * mole**-1 * kilocalorie\"></Bond>\\n        <Bond smirks=\"[#7X2:1]-[#7X2:2]\" id=\"b34\" length=\"1.351789596719 * angstrom\" k=\"684.0446604673 * angstrom**-2 * mole**-1 * kilocalorie\"></Bond>\\n        <Bond smirks=\"[#7:1]:[#7:2]\" id=\"b35\" length=\"1.306827001896 * angstrom\" k=\"731.7076511835 * angstrom**-2 * mole**-1 * kilocalorie\"></Bond>\\n        <Bond smirks=\"[#7:1]=[#7:2]\" id=\"b36\" length=\"1.28836275019 * angstrom\" k=\"723.6243426279 * angstrom**-2 * mole**-1 * kilocalorie\"></Bond>\\n        <Bond smirks=\"[#7+1:1]=[#7-1:2]\" id=\"b36a\" length=\"1.216477474649 * angstrom\" k=\"765.606596983 * angstrom**-2 * mole**-1 * kilocalorie\"></Bond>\\n        <Bond smirks=\"[#7:1]#[#7:2]\" id=\"b37\" length=\"1.156918673037 * angstrom\" k=\"760.3057793033 * angstrom**-2 * mole**-1 * kilocalorie\"></Bond>\\n        <Bond smirks=\"[#7:1]-[#8X2:2]\" id=\"b38\" length=\"1.409351807267 * angstrom\" k=\"585.4468253974 * angstrom**-2 * mole**-1 * kilocalorie\"></Bond>\\n        <Bond smirks=\"[#7:1]~[#8X1:2]\" id=\"b39\" length=\"1.236596022356 * angstrom\" k=\"731.6290941822 * angstrom**-2 * mole**-1 * kilocalorie\"></Bond>\\n        <Bond smirks=\"[#8X2:1]-[#8X2:2]\" id=\"b40\" length=\"1.451203938761 * angstrom\" k=\"600.0627582923 * angstrom**-2 * mole**-1 * kilocalorie\"></Bond>\\n        <Bond smirks=\"[#16:1]-[#6:2]\" id=\"b41\" length=\"1.81 * angstrom\" k=\"474.0 * angstrom**-2 * mole**-1 * kilocalorie\"></Bond>\\n        <Bond smirks=\"[#16:1]-[#1:2]\" id=\"b42\" length=\"1.350439509509 * angstrom\" k=\"598.1961543498 * angstrom**-2 * mole**-1 * kilocalorie\"></Bond>\\n        <Bond smirks=\"[#16:1]-[#16:2]\" id=\"b43\" length=\"2.088681010671 * angstrom\" k=\"319.3489883071 * angstrom**-2 * mole**-1 * kilocalorie\"></Bond>\\n        <Bond smirks=\"[#16:1]-[#9:2]\" id=\"b44\" length=\"1.6 * angstrom\" k=\"750.0 * angstrom**-2 * mole**-1 * kilocalorie\"></Bond>\\n        <Bond smirks=\"[#16:1]-[#17:2]\" id=\"b45\" length=\"2.090689740082 * angstrom\" k=\"460.4266106166 * angstrom**-2 * mole**-1 * kilocalorie\"></Bond>\\n        <Bond smirks=\"[#16:1]-[#35:2]\" id=\"b46\" length=\"2.236089315911 * angstrom\" k=\"337.0828021823 * angstrom**-2 * mole**-1 * kilocalorie\"></Bond>\\n        <Bond smirks=\"[#16:1]-[#53:2]\" id=\"b47\" length=\"2.6 * angstrom\" k=\"150.0 * angstrom**-2 * mole**-1 * kilocalorie\"></Bond>\\n        <Bond smirks=\"[#16X2,#16X1-1,#16X3+1:1]-[#6X4:2]\" id=\"b48\" length=\"1.832604780293 * angstrom\" k=\"462.4390471119 * angstrom**-2 * mole**-1 * kilocalorie\"></Bond>\\n        <Bond smirks=\"[#16X2,#16X1-1,#16X3+1:1]-[#6X3:2]\" id=\"b49\" length=\"1.764695668665 * angstrom\" k=\"557.107757113 * angstrom**-2 * mole**-1 * kilocalorie\"></Bond>\\n        <Bond smirks=\"[#16X2:1]-[#7:2]\" id=\"b50\" length=\"1.685967252936 * angstrom\" k=\"601.0291285501 * angstrom**-2 * mole**-1 * kilocalorie\"></Bond>\\n        <Bond smirks=\"[#16X2:1]-[#8X2:2]\" id=\"b51\" length=\"1.670741273642 * angstrom\" k=\"514.4207231886 * angstrom**-2 * mole**-1 * kilocalorie\"></Bond>\\n        <Bond smirks=\"[#16X2:1]=[#8X1,#7X2:2]\" id=\"b52\" length=\"1.466630613191 * angstrom\" k=\"605.9448106876 * angstrom**-2 * mole**-1 * kilocalorie\"></Bond>\\n        <Bond smirks=\"[#16X4,#16X3!+1:1]-[#6:2]\" id=\"b53\" length=\"1.83094269297 * angstrom\" k=\"514.6069966574 * angstrom**-2 * mole**-1 * kilocalorie\"></Bond>\\n        <Bond smirks=\"[#16X4,#16X3:1]~[#7:2]\" id=\"b54\" length=\"1.745684938763 * angstrom\" k=\"594.5780213075 * angstrom**-2 * mole**-1 * kilocalorie\"></Bond>\\n        <Bond smirks=\"[#16X4,#16X3:1]-[#8X2:2]\" id=\"b55\" length=\"1.65750446814 * angstrom\" k=\"610.0430744451 * angstrom**-2 * mole**-1 * kilocalorie\"></Bond>\\n        <Bond smirks=\"[#16X4,#16X3:1]~[#8X1:2]\" id=\"b56\" length=\"1.477542175281 * angstrom\" k=\"1081.335593259 * angstrom**-2 * mole**-1 * kilocalorie\"></Bond>\\n        <Bond smirks=\"[#15:1]-[#1:2]\" id=\"b58\" length=\"1.409632139658 * angstrom\" k=\"400.1299638072 * angstrom**-2 * mole**-1 * kilocalorie\"></Bond>\\n        <Bond smirks=\"[#15:1]~[#6:2]\" id=\"b59\" length=\"1.834505699142 * angstrom\" k=\"322.3694911153 * angstrom**-2 * mole**-1 * kilocalorie\"></Bond>\\n        <Bond smirks=\"[#15:1]-[#7:2]\" id=\"b60\" length=\"1.75691942977 * angstrom\" k=\"626.4135650071 * angstrom**-2 * mole**-1 * kilocalorie\"></Bond>\\n        <Bond smirks=\"[#15:1]=[#7:2]\" id=\"b61\" length=\"1.593021554161 * angstrom\" k=\"820.4422422288 * angstrom**-2 * mole**-1 * kilocalorie\"></Bond>\\n        <Bond smirks=\"[#15:1]~[#8X2:2]\" id=\"b62\" length=\"1.617759068105 * angstrom\" k=\"512.3988511673 * angstrom**-2 * mole**-1 * kilocalorie\"></Bond>\\n        <Bond smirks=\"[#15:1]~[#8X1:2]\" id=\"b63\" length=\"1.488230653008 * angstrom\" k=\"1106.254480479 * angstrom**-2 * mole**-1 * kilocalorie\"></Bond>\\n        <Bond smirks=\"[#16:1]-[#15:2]\" id=\"b65\" length=\"2.136319123687 * angstrom\" k=\"298.0152402791 * angstrom**-2 * mole**-1 * kilocalorie\"></Bond>\\n        <Bond smirks=\"[#15:1]=[#16X1:2]\" id=\"b66\" length=\"1.98 * angstrom\" k=\"460.0 * angstrom**-2 * mole**-1 * kilocalorie\"></Bond>\\n        <Bond smirks=\"[#6:1]-[#9:2]\" id=\"b67\" length=\"1.35676207799 * angstrom\" k=\"787.4127028387 * angstrom**-2 * mole**-1 * kilocalorie\"></Bond>\\n        <Bond smirks=\"[#6X4:1]-[#9:2]\" id=\"b68\" length=\"1.3617226316 * angstrom\" k=\"674.5007516484 * angstrom**-2 * mole**-1 * kilocalorie\"></Bond>\\n        <Bond smirks=\"[#6:1]-[#17:2]\" id=\"b69\" length=\"1.741883517831 * angstrom\" k=\"414.8666889963 * angstrom**-2 * mole**-1 * kilocalorie\"></Bond>\\n        <Bond smirks=\"[#6X4:1]-[#17:2]\" id=\"b70\" length=\"1.790369734435 * angstrom\" k=\"356.5070790168 * angstrom**-2 * mole**-1 * kilocalorie\"></Bond>\\n        <Bond smirks=\"[#6:1]-[#35:2]\" id=\"b71\" length=\"1.90965418305 * angstrom\" k=\"402.7903763279 * angstrom**-2 * mole**-1 * kilocalorie\"></Bond>\\n        <Bond smirks=\"[#6X4:1]-[#35:2]\" id=\"b72\" length=\"1.97959447425 * angstrom\" k=\"366.4428580955 * angstrom**-2 * mole**-1 * kilocalorie\"></Bond>\\n        <Bond smirks=\"[#6:1]-[#53:2]\" id=\"b73\" length=\"2.290104274138 * angstrom\" k=\"361.0806584605 * angstrom**-2 * mole**-1 * kilocalorie\"></Bond>\\n        <Bond smirks=\"[#6X4:1]-[#53:2]\" id=\"b74\" length=\"2.166 * angstrom\" k=\"296.0 * angstrom**-2 * mole**-1 * kilocalorie\"></Bond>\\n        <Bond smirks=\"[#7:1]-[#9:2]\" id=\"b75\" length=\"1.416240764058 * angstrom\" k=\"317.8760684055 * angstrom**-2 * mole**-1 * kilocalorie\"></Bond>\\n        <Bond smirks=\"[#7:1]-[#17:2]\" id=\"b76\" length=\"1.802971565603 * angstrom\" k=\"299.9614086108 * angstrom**-2 * mole**-1 * kilocalorie\"></Bond>\\n        <Bond smirks=\"[#7:1]-[#35:2]\" id=\"b77\" length=\"1.964628156172 * angstrom\" k=\"197.8646423433 * angstrom**-2 * mole**-1 * kilocalorie\"></Bond>\\n        <Bond smirks=\"[#7:1]-[#53:2]\" id=\"b78\" length=\"2.1 * angstrom\" k=\"160.0 * angstrom**-2 * mole**-1 * kilocalorie\"></Bond>\\n        <Bond smirks=\"[#15:1]-[#9:2]\" id=\"b79\" length=\"1.64 * angstrom\" k=\"880.0 * angstrom**-2 * mole**-1 * kilocalorie\"></Bond>\\n        <Bond smirks=\"[#15:1]-[#17:2]\" id=\"b80\" length=\"2.048670045765 * angstrom\" k=\"329.7582652022 * angstrom**-2 * mole**-1 * kilocalorie\"></Bond>\\n        <Bond smirks=\"[#15:1]-[#35:2]\" id=\"b81\" length=\"2.239759015052 * angstrom\" k=\"234.5316006534 * angstrom**-2 * mole**-1 * kilocalorie\"></Bond>\\n        <Bond smirks=\"[#15:1]-[#53:2]\" id=\"b82\" length=\"2.6 * angstrom\" k=\"140.0 * angstrom**-2 * mole**-1 * kilocalorie\"></Bond>\\n        <Bond smirks=\"[#6X4:1]-[#1:2]\" id=\"b83\" length=\"1.093910524997 * angstrom\" k=\"754.0714751826 * angstrom**-2 * mole**-1 * kilocalorie\"></Bond>\\n        <Bond smirks=\"[#6X3:1]-[#1:2]\" id=\"b84\" length=\"1.08559714475 * angstrom\" k=\"808.490631655 * angstrom**-2 * mole**-1 * kilocalorie\"></Bond>\\n        <Bond smirks=\"[#6X2:1]-[#1:2]\" id=\"b85\" length=\"1.069754920038 * angstrom\" k=\"912.2382803119 * angstrom**-2 * mole**-1 * kilocalorie\"></Bond>\\n        <Bond smirks=\"[#7:1]-[#1:2]\" id=\"b86\" length=\"1.019165271886 * angstrom\" k=\"1013.23342171 * angstrom**-2 * mole**-1 * kilocalorie\"></Bond>\\n        <Bond smirks=\"[#8:1]-[#1:2]\" id=\"b87\" length=\"0.9713231822139 * angstrom\" k=\"1111.356329629 * angstrom**-2 * mole**-1 * kilocalorie\"></Bond>\\n    </Bonds>\\n    <Angles version=\"0.3\" potential=\"harmonic\">\\n        <Angle smirks=\"[*:1]~[#6X4:2]-[*:3]\" angle=\"113.6569396169 * degree\" k=\"99.23399412421 * mole**-1 * radian**-2 * kilocalorie\" id=\"a1\"></Angle>\\n        <Angle smirks=\"[#1:1]-[#6X4:2]-[#1:3]\" angle=\"114.294084683 * degree\" k=\"66.55229431401 * mole**-1 * radian**-2 * kilocalorie\" id=\"a2\"></Angle>\\n        <Angle smirks=\"[*;r3:1]1~;@[*;r3:2]~;@[*;r3:3]1\" angle=\"68.7768974088 * degree\" k=\"246.3550062006 * mole**-1 * radian**-2 * kilocalorie\" id=\"a3\"></Angle>\\n        <Angle smirks=\"[*;r3:1]~;@[*;r3:2]~;!@[*:3]\" angle=\"119.1676566821 * degree\" k=\"64.8195163698 * mole**-1 * radian**-2 * kilocalorie\" id=\"a4\"></Angle>\\n        <Angle smirks=\"[*:1]~;!@[*;r3:2]~;!@[*:3]\" angle=\"116.8236014207 * degree\" k=\"150.2649137811 * mole**-1 * radian**-2 * kilocalorie\" id=\"a5\"></Angle>\\n        <Angle smirks=\"[#1:1]-[*;r3:2]~;!@[*:3]\" angle=\"114.2871720717 * degree\" k=\"29.01270109077 * mole**-1 * radian**-2 * kilocalorie\" id=\"a6\"></Angle>\\n        <Angle smirks=\"[#6r4:1]-;@[#6r4:2]-;@[#6r4:3]\" angle=\"113.7538534311 * degree\" k=\"69.96659485515 * mole**-1 * radian**-2 * kilocalorie\" id=\"a7\"></Angle>\\n        <Angle smirks=\"[!#1:1]-[#6r4:2]-;!@[!#1:3]\" angle=\"116.6248777146 * degree\" k=\"161.6725328781 * mole**-1 * radian**-2 * kilocalorie\" id=\"a8\"></Angle>\\n        <Angle smirks=\"[!#1:1]-[#6r4:2]-;!@[#1:3]\" angle=\"115.86363475 * degree\" k=\"99.62540309017 * mole**-1 * radian**-2 * kilocalorie\" id=\"a9\"></Angle>\\n        <Angle smirks=\"[*:1]~[#6X3:2]~[*:3]\" angle=\"126.9451845871 * degree\" k=\"139.5224212084 * mole**-1 * radian**-2 * kilocalorie\" id=\"a10\"></Angle>\\n        <Angle smirks=\"[#1:1]-[#6X3:2]~[*:3]\" angle=\"131.2812074392 * degree\" k=\"66.08632381676 * mole**-1 * radian**-2 * kilocalorie\" id=\"a11\"></Angle>\\n        <Angle smirks=\"[#1:1]-[#6X3:2]-[#1:3]\" angle=\"132.7543469994 * degree\" k=\"51.34939042766 * mole**-1 * radian**-2 * kilocalorie\" id=\"a12\"></Angle>\\n        <Angle smirks=\"[*;r6:1]~;@[*;r5:2]~;@[*;r5;x2:3]\" angle=\"139.8741836055 * degree\" k=\"17.61284731578 * mole**-1 * radian**-2 * kilocalorie\" id=\"a13\"></Angle>\\n        <Angle smirks=\"[*:1]~;!@[*;X3;r5:2]~;@[*;r5:3]\" angle=\"131.6606428209 * degree\" k=\"90.02005228069 * mole**-1 * radian**-2 * kilocalorie\" id=\"a14\"></Angle>\\n        <Angle smirks=\"[#8X1:1]~[#6X3:2]~[#8:3]\" angle=\"128.7000354956 * degree\" k=\"409.8799740915 * mole**-1 * radian**-2 * kilocalorie\" id=\"a15\"></Angle>\\n        <Angle smirks=\"[*:1]~[#6X2:2]~[*:3]\" angle=\"180.0 * degree\" k=\"44.59529595116 * mole**-1 * radian**-2 * kilocalorie\" id=\"a16\"></Angle>\\n        <Angle smirks=\"[*:1]~[#7X2:2]~[*:3]\" angle=\"180.0 * degree\" k=\"86.50310208278 * mole**-1 * radian**-2 * kilocalorie\" id=\"a21\"></Angle>\\n        <Angle smirks=\"[*:1]-[#7X4,#7X3,#7X2-1:2]-[*:3]\" angle=\"113.1624837301 * degree\" k=\"146.3705872857 * mole**-1 * radian**-2 * kilocalorie\" id=\"a17\"></Angle>\\n        <Angle smirks=\"[#1:1]-[#7X4,#7X3,#7X2-1:2]-[*:3]\" angle=\"110.6117590576 * degree\" k=\"110.3199234663 * mole**-1 * radian**-2 * kilocalorie\" id=\"a18\"></Angle>\\n        <Angle smirks=\"[*:1]~[#7X3$(*~[#6X3,#6X2,#7X2+0]):2]~[*:3]\" angle=\"118.2043928474 * degree\" k=\"137.4216581399 * mole**-1 * radian**-2 * kilocalorie\" id=\"a19\"></Angle>\\n        <Angle smirks=\"[#1:1]-[#7X3$(*~[#6X3,#6X2,#7X2+0]):2]-[*:3]\" angle=\"115.6677094966 * degree\" k=\"97.63313493623 * mole**-1 * radian**-2 * kilocalorie\" id=\"a20\"></Angle>\\n        <Angle smirks=\"[*:1]~[#7X2+0:2]~[*:3]\" angle=\"112.2892376344 * degree\" k=\"162.2392389506 * mole**-1 * radian**-2 * kilocalorie\" id=\"a22\"></Angle>\\n        <Angle smirks=\"[*:1]~[#7X2+0:2]~[#6X2:3](~[#16X1])\" angle=\"143.6970925548 * degree\" k=\"93.68028952504 * mole**-1 * radian**-2 * kilocalorie\" id=\"a22a\"></Angle>\\n        <Angle smirks=\"[#1:1]-[#7X2+0:2]~[*:3]\" angle=\"118.5098497942 * degree\" k=\"121.1873886539 * mole**-1 * radian**-2 * kilocalorie\" id=\"a23\"></Angle>\\n        <Angle smirks=\"[#6,#7,#8:1]-[#7X3:2](~[#8X1])~[#8X1:3]\" angle=\"138.4383602014 * degree\" k=\"217.1053700158 * mole**-1 * radian**-2 * kilocalorie\" id=\"a24\"></Angle>\\n        <Angle smirks=\"[#8X1:1]~[#7X3:2]~[#8X1:3]\" angle=\"145.9732932646 * degree\" k=\"227.7406669566 * mole**-1 * radian**-2 * kilocalorie\" id=\"a25\"></Angle>\\n        <Angle smirks=\"[*:1]~[#7X2:2]~[#7X1:3]\" angle=\"180.0 * degree\" k=\"123.5328784763 * mole**-1 * radian**-2 * kilocalorie\" id=\"a26\"></Angle>\\n        <Angle smirks=\"[*:1]-[#8:2]-[*:3]\" angle=\"110.2898389197 * degree\" k=\"134.5019777341 * mole**-1 * radian**-2 * kilocalorie\" id=\"a27\"></Angle>\\n        <Angle smirks=\"[#6X3,#7:1]~;@[#8;r:2]~;@[#6X3,#7:3]\" angle=\"112.6029623351 * degree\" k=\"177.8811336382 * mole**-1 * radian**-2 * kilocalorie\" id=\"a28\"></Angle>\\n        <Angle smirks=\"[*:1]-[#8X2+1:2]=[*:3]\" angle=\"115.0964372837 * degree\" k=\"71.2688479385 * mole**-1 * radian**-2 * kilocalorie\" id=\"a29\"></Angle>\\n        <Angle smirks=\"[*:1]~[#16X4:2]~[*:3]\" angle=\"99.07927453498 * degree\" k=\"220.735782439 * mole**-1 * radian**-2 * kilocalorie\" id=\"a30\"></Angle>\\n        <Angle smirks=\"[*:1]-[#16X4,#16X3+0:2]-[*:3]\" angle=\"89.78987375036 * degree\" k=\"188.396701966 * mole**-1 * radian**-2 * kilocalorie\" id=\"a31\"></Angle>\\n        <Angle smirks=\"[*:1]~[#16X3$(*~[#8X1,#7X2]):2]~[*:3]\" angle=\"102.5027509128 * degree\" k=\"187.3606141824 * mole**-1 * radian**-2 * kilocalorie\" id=\"a32\"></Angle>\\n        <Angle smirks=\"[*:1]~[#16X2,#16X3+1:2]~[*:3]\" angle=\"99.11314415684 * degree\" k=\"125.6542377496 * mole**-1 * radian**-2 * kilocalorie\" id=\"a33\"></Angle>\\n        <Angle smirks=\"[*:1]=[#16X2:2]=[*:3]\" angle=\"180.0 * degree\" k=\"140.0 * mole**-1 * radian**-2 * kilocalorie\" id=\"a34\"></Angle>\\n        <Angle smirks=\"[*:1]=[#16X2:2]=[#8:3]\" angle=\"115.1135476736 * degree\" k=\"140.6866437418 * mole**-1 * radian**-2 * kilocalorie\" id=\"a34a\"></Angle>\\n        <Angle smirks=\"[#6X3:1]-[#16X2:2]-[#6X3:3]\" angle=\"96.37654921154 * degree\" k=\"202.6594157895 * mole**-1 * radian**-2 * kilocalorie\" id=\"a35\"></Angle>\\n        <Angle smirks=\"[#6X3:1]-[#16X2:2]-[#6X4:3]\" angle=\"96.58474431684 * degree\" k=\"112.4344817332 * mole**-1 * radian**-2 * kilocalorie\" id=\"a36\"></Angle>\\n        <Angle smirks=\"[#6X3:1]-[#16X2:2]-[#1:3]\" angle=\"96.17195362097 * degree\" k=\"122.1002817038 * mole**-1 * radian**-2 * kilocalorie\" id=\"a37\"></Angle>\\n        <Angle smirks=\"[*:1]~[#15:2]~[*:3]\" angle=\"147.2207463438 * degree\" k=\"163.2185355062 * mole**-1 * radian**-2 * kilocalorie\" id=\"a38\"></Angle>\\n    </Angles>\\n    <ProperTorsions version=\"0.3\" potential=\"k*(1+cos(periodicity*theta-phase))\" default_idivf=\"auto\" fractional_bondorder_method=\"AM1-Wiberg\" fractional_bondorder_interpolation=\"linear\">\\n        <Proper smirks=\"[*:1]-[#6X4:2]-[#6X4:3]-[*:4]\" periodicity1=\"3\" phase1=\"0.0 * degree\" id=\"t1\" k1=\"0.3713592052717 * mole**-1 * kilocalorie\" idivf1=\"1.0\"></Proper>\\n        <Proper smirks=\"[#6X4:1]-[#6X4:2]-[#6X4:3]-[#6X4:4]\" periodicity1=\"3\" periodicity2=\"2\" periodicity3=\"1\" phase1=\"0.0 * degree\" phase2=\"180.0 * degree\" phase3=\"180.0 * degree\" id=\"t2\" k1=\"0.1164348133257 * mole**-1 * kilocalorie\" k2=\"0.2491194267913 * mole**-1 * kilocalorie\" k3=\"0.295757514793 * mole**-1 * kilocalorie\" idivf1=\"1.0\" idivf2=\"1.0\" idivf3=\"1.0\"></Proper>\\n        <Proper smirks=\"[#1:1]-[#6X4:2]-[#6X4:3]-[#1:4]\" periodicity1=\"3\" phase1=\"0.0 * degree\" id=\"t3\" k1=\"0.2005394316088 * mole**-1 * kilocalorie\" idivf1=\"1.0\"></Proper>\\n        <Proper smirks=\"[#1:1]-[#6X4:2]-[#6X4:3]-[#6X4:4]\" periodicity1=\"3\" phase1=\"0.0 * degree\" id=\"t4\" k1=\"0.08414560911761 * mole**-1 * kilocalorie\" idivf1=\"1.0\"></Proper>\\n        <Proper smirks=\"[#8X2:1]-[#6X4:2]-[#6X4:3]-[#8X2:4]\" periodicity1=\"3\" periodicity2=\"2\" phase1=\"0.0 * degree\" phase2=\"0.0 * degree\" id=\"t5\" k1=\"-0.04503392303209 * mole**-1 * kilocalorie\" k2=\"0.5833400847784 * mole**-1 * kilocalorie\" idivf1=\"1.0\" idivf2=\"1.0\"></Proper>\\n        <Proper smirks=\"[#9:1]-[#6X4:2]-[#6X4:3]-[#9:4]\" periodicity1=\"3\" periodicity2=\"1\" phase1=\"0.0 * degree\" phase2=\"180.0 * degree\" id=\"t6\" k1=\"-0.01988644358668 * mole**-1 * kilocalorie\" k2=\"0.2143541237817 * mole**-1 * kilocalorie\" idivf1=\"1.0\" idivf2=\"1.0\"></Proper>\\n        <Proper smirks=\"[#17:1]-[#6X4:2]-[#6X4:3]-[#17:4]\" periodicity1=\"3\" periodicity2=\"1\" phase1=\"0.0 * degree\" phase2=\"180.0 * degree\" id=\"t7\" k1=\"0.3012975227259 * mole**-1 * kilocalorie\" k2=\"-0.5331995755095 * mole**-1 * kilocalorie\" idivf1=\"1.0\" idivf2=\"1.0\"></Proper>\\n        <Proper smirks=\"[#35:1]-[#6X4:2]-[#6X4:3]-[#35:4]\" periodicity1=\"3\" periodicity2=\"1\" phase1=\"0.0 * degree\" phase2=\"180.0 * degree\" id=\"t8\" k1=\"0.08605949279655 * mole**-1 * kilocalorie\" k2=\"-0.1562508078431 * mole**-1 * kilocalorie\" idivf1=\"1.0\" idivf2=\"1.0\"></Proper>\\n        <Proper smirks=\"[#1:1]-[#6X4:2]-[#6X4:3]-[#8X2:4]\" periodicity1=\"3\" periodicity2=\"1\" phase1=\"0.0 * degree\" phase2=\"0.0 * degree\" id=\"t9\" k1=\"0.08835141016169 * mole**-1 * kilocalorie\" k2=\"0.3217905991249 * mole**-1 * kilocalorie\" idivf1=\"1.0\" idivf2=\"1.0\"></Proper>\\n        <Proper smirks=\"[#1:1]-[#6X4:2]-[#6X4:3]-[#9:4]\" periodicity1=\"3\" periodicity2=\"1\" phase1=\"0.0 * degree\" phase2=\"0.0 * degree\" id=\"t10\" k1=\"0.09542629794995 * mole**-1 * kilocalorie\" k2=\"0.3413591002661 * mole**-1 * kilocalorie\" idivf1=\"1.0\" idivf2=\"1.0\"></Proper>\\n        <Proper smirks=\"[#1:1]-[#6X4:2]-[#6X4:3]-[#17:4]\" periodicity1=\"3\" periodicity2=\"1\" phase1=\"0.0 * degree\" phase2=\"0.0 * degree\" id=\"t11\" k1=\"0.1705032356747 * mole**-1 * kilocalorie\" k2=\"0.3854072920815 * mole**-1 * kilocalorie\" idivf1=\"1.0\" idivf2=\"1.0\"></Proper>\\n        <Proper smirks=\"[#1:1]-[#6X4:2]-[#6X4:3]-[#35:4]\" periodicity1=\"3\" periodicity2=\"1\" phase1=\"0.0 * degree\" phase2=\"0.0 * degree\" id=\"t12\" k1=\"0.2206379367259 * mole**-1 * kilocalorie\" k2=\"0.7782897573814 * mole**-1 * kilocalorie\" idivf1=\"1.0\" idivf2=\"1.0\"></Proper>\\n        <Proper smirks=\"[*:1]-[#6X4:2]-[#6X4;r3:3]-[*:4]\" periodicity1=\"1\" phase1=\"0.0 * degree\" id=\"t13\" k1=\"0.08565532425684 * mole**-1 * kilocalorie\" idivf1=\"1.0\"></Proper>\\n        <Proper smirks=\"[*:1]-[#6X4:2]-[#6X4;r3:3]-[#6X4;r3:4]\" periodicity1=\"3\" phase1=\"0.0 * degree\" id=\"t14\" k1=\"0.4577778256741 * mole**-1 * kilocalorie\" idivf1=\"1.0\"></Proper>\\n        <Proper smirks=\"[*:1]-[#6X4;r3:2]-@[#6X4;r3:3]-[*:4]\" periodicity1=\"2\" phase1=\"0.0 * degree\" id=\"t15\" k1=\"-1.254172436801 * mole**-1 * kilocalorie\" idivf1=\"1.0\"></Proper>\\n        <Proper smirks=\"[#6X4;r3:1]-[#6X4;r3:2]-[#6X4;r3:3]-[*:4]\" periodicity1=\"2\" periodicity2=\"1\" phase1=\"0.0 * degree\" phase2=\"0.0 * degree\" id=\"t16\" k1=\"3.656359841852 * mole**-1 * kilocalorie\" k2=\"3.357036752304 * mole**-1 * kilocalorie\" idivf1=\"1.0\" idivf2=\"1.0\"></Proper>\\n        <Proper smirks=\"[*:1]~[#6X3:2]-[#6X4:3]-[*:4]\" periodicity1=\"3\" phase1=\"0.0 * degree\" id=\"t17\" k1=\"-0.224455748195 * mole**-1 * kilocalorie\" idivf1=\"1.0\"></Proper>\\n        <Proper smirks=\"[*:1]-[#6X4:2]-[#6X3:3]=[*:4]\" periodicity1=\"2\" phase1=\"0.0 * degree\" id=\"t20\" k1=\"-0.4352065063207 * mole**-1 * kilocalorie\" idivf1=\"1.0\"></Proper>\\n        <Proper smirks=\"[#1:1]-[#6X4:2]-[#6X3:3]=[#8X1:4]\" periodicity1=\"1\" periodicity2=\"2\" periodicity3=\"3\" phase1=\"0.0 * degree\" phase2=\"0.0 * degree\" phase3=\"180.0 * degree\" id=\"t18\" k1=\"0.4296106913366 * mole**-1 * kilocalorie\" k2=\"0.1078877098811 * mole**-1 * kilocalorie\" k3=\"0.2065859875793 * mole**-1 * kilocalorie\" idivf1=\"1.0\" idivf2=\"1.0\" idivf3=\"1.0\"></Proper>\\n        <Proper smirks=\"[#1:1]-[#6X4:2]-[#6X3:3]=[#6X3:4]\" periodicity1=\"3\" periodicity2=\"1\" phase1=\"180.0 * degree\" phase2=\"0.0 * degree\" id=\"t19\" k1=\"0.1916339650103 * mole**-1 * kilocalorie\" k2=\"0.01819046438541 * mole**-1 * kilocalorie\" idivf1=\"1.0\" idivf2=\"1.0\"></Proper>\\n        <Proper smirks=\"[#6X3:1]-[#6X4:2]-[#6X3:3]=[#6X3:4]\" periodicity1=\"3\" periodicity2=\"2\" phase1=\"0.0 * degree\" phase2=\"180.0 * degree\" id=\"t21\" k1=\"0.03439057985772 * mole**-1 * kilocalorie\" k2=\"0.1200828613716 * mole**-1 * kilocalorie\" idivf1=\"1.0\" idivf2=\"1.0\"></Proper>\\n        <Proper smirks=\"[#7X3:1]-[#6X4:2]-[#6X3:3]-[#7X3:4]\" periodicity1=\"1\" periodicity2=\"2\" phase1=\"180.0 * degree\" phase2=\"180.0 * degree\" id=\"t22\" k1=\"-0.06160896685326 * mole**-1 * kilocalorie\" k2=\"0.698681527584 * mole**-1 * kilocalorie\" idivf1=\"1.0\" idivf2=\"1.0\"></Proper>\\n        <Proper smirks=\"[#6X4:1]-[#6X4:2]-[#6X3:3]-[#7X3:4]\" periodicity1=\"4\" periodicity2=\"2\" phase1=\"0.0 * degree\" phase2=\"0.0 * degree\" id=\"t23\" k1=\"0.1259688855747 * mole**-1 * kilocalorie\" k2=\"0.5629083708879 * mole**-1 * kilocalorie\" idivf1=\"1.0\" idivf2=\"1.0\"></Proper>\\n        <Proper smirks=\"[#16X2,#16X1-1,#16X3+1:1]-[#6X3:2]-[#6X4:3]-[#1:4]\" periodicity1=\"2\" periodicity2=\"1\" phase1=\"0.0 * degree\" phase2=\"180.0 * degree\" id=\"t24\" k1=\"-0.08473798804003 * mole**-1 * kilocalorie\" k2=\"-0.4165483710062 * mole**-1 * kilocalorie\" idivf1=\"1.0\" idivf2=\"1.0\"></Proper>\\n        <Proper smirks=\"[#16X2,#16X1-1,#16X3+1:1]-[#6X3:2]-[#6X4:3]-[#7X4,#7X3:4]\" periodicity1=\"4\" periodicity2=\"3\" periodicity3=\"2\" periodicity4=\"2\" periodicity5=\"1\" phase1=\"0.0 * degree\" phase2=\"0.0 * degree\" phase3=\"0.0 * degree\" phase4=\"270.0 * degree\" phase5=\"90.0 * degree\" id=\"t25\" k1=\"0.1901702923603 * mole**-1 * kilocalorie\" k2=\"0.2082261941806 * mole**-1 * kilocalorie\" k3=\"-0.3952154759534 * mole**-1 * kilocalorie\" k4=\"0.5869155503315 * mole**-1 * kilocalorie\" k5=\"0.7124648569549 * mole**-1 * kilocalorie\" idivf1=\"1.0\" idivf2=\"1.0\" idivf3=\"1.0\" idivf4=\"1.0\" idivf5=\"1.0\"></Proper>\\n        <Proper smirks=\"[#16X2,#16X1-1,#16X3+1:1]-[#6X3:2]-[#6X4:3]-[#7X3$(*-[#6X3,#6X2]):4]\" periodicity1=\"4\" periodicity2=\"3\" periodicity3=\"2\" periodicity4=\"2\" periodicity5=\"1\" periodicity6=\"1\" phase1=\"270.0 * degree\" phase2=\"0.0 * degree\" phase3=\"180.0 * degree\" phase4=\"270.0 * degree\" phase5=\"270.0 * degree\" phase6=\"0.0 * degree\" id=\"t26\" k1=\"0.222363449201 * mole**-1 * kilocalorie\" k2=\"0.859052538364 * mole**-1 * kilocalorie\" k3=\"0.3869914716298 * mole**-1 * kilocalorie\" k4=\"0.3368921734216 * mole**-1 * kilocalorie\" k5=\"-0.1365457707684 * mole**-1 * kilocalorie\" k6=\"-0.1974358043539 * mole**-1 * kilocalorie\" idivf1=\"1.0\" idivf2=\"1.0\" idivf3=\"1.0\" idivf4=\"1.0\" idivf5=\"1.0\" idivf6=\"1.0\"></Proper>\\n        <Proper smirks=\"[*:1]-[#6X4;r3:2]-[#6X3:3]~[*:4]\" periodicity1=\"1\" phase1=\"0.0 * degree\" id=\"t27\" k1=\"-0.08417062488718 * mole**-1 * kilocalorie\" idivf1=\"1.0\"></Proper>\\n        <Proper smirks=\"[#6X4:1]-[#6X4;r3:2]-[#6X3:3]~[#6X3:4]\" periodicity1=\"4\" periodicity2=\"2\" phase1=\"180.0 * degree\" phase2=\"180.0 * degree\" id=\"t28\" k1=\"0.1348425812651 * mole**-1 * kilocalorie\" k2=\"0.7975377249253 * mole**-1 * kilocalorie\" idivf1=\"1.0\" idivf2=\"1.0\"></Proper>\\n        <Proper smirks=\"[#1:1]-[#6X4;r3:2]-[#6X3:3]~[#6X3:4]\" periodicity1=\"4\" periodicity2=\"3\" periodicity3=\"2\" phase1=\"180.0 * degree\" phase2=\"0.0 * degree\" phase3=\"180.0 * degree\" id=\"t29\" k1=\"0.01389484634137 * mole**-1 * kilocalorie\" k2=\"-0.3261229304399 * mole**-1 * kilocalorie\" k3=\"0.2993782950921 * mole**-1 * kilocalorie\" idivf1=\"1.0\" idivf2=\"1.0\" idivf3=\"1.0\"></Proper>\\n        <Proper smirks=\"[#6X3:1]-[#6X4;r3:2]-[#6X3:3]-[#7X3:4]\" periodicity1=\"2\" periodicity2=\"1\" periodicity3=\"3\" phase1=\"0.0 * degree\" phase2=\"180.0 * degree\" phase3=\"180.0 * degree\" id=\"t30\" k1=\"1.495885436174 * mole**-1 * kilocalorie\" k2=\"0.798323214025 * mole**-1 * kilocalorie\" k3=\"0.1035170238981 * mole**-1 * kilocalorie\" idivf1=\"1.0\" idivf2=\"1.0\" idivf3=\"1.0\"></Proper>\\n        <Proper smirks=\"[#6X3:1]-[#6X4;r3:2]-[#6X3:3]=[#8X1:4]\" periodicity1=\"2\" periodicity2=\"1\" periodicity3=\"3\" phase1=\"180.0 * degree\" phase2=\"180.0 * degree\" phase3=\"180.0 * degree\" id=\"t31\" k1=\"2.833864424257 * mole**-1 * kilocalorie\" k2=\"-0.3141570565036 * mole**-1 * kilocalorie\" k3=\"0.6815226809959 * mole**-1 * kilocalorie\" idivf1=\"1.0\" idivf2=\"1.0\" idivf3=\"1.0\"></Proper>\\n        <Proper smirks=\"[#6X3:1]-[#6X4;r3:2]-[#6X3:3]~[#6X3:4]\" periodicity1=\"2\" phase1=\"180.0 * degree\" id=\"t32\" k1=\"0.5650218966924 * mole**-1 * kilocalorie\" idivf1=\"1.0\"></Proper>\\n        <Proper smirks=\"[#7X3:1]-[#6X4;r3:2]-[#6X3:3]~[#6X3:4]\" periodicity1=\"4\" periodicity2=\"2\" phase1=\"180.0 * degree\" phase2=\"180.0 * degree\" id=\"t33\" k1=\"0.1958321769116 * mole**-1 * kilocalorie\" k2=\"0.1539532052563 * mole**-1 * kilocalorie\" idivf1=\"1.0\" idivf2=\"1.0\"></Proper>\\n        <Proper smirks=\"[#6X4;r3:1]-;@[#6X4;r3:2]-[#6X3:3]~[#6X3:4]\" periodicity1=\"4\" periodicity2=\"3\" periodicity3=\"2\" phase1=\"180.0 * degree\" phase2=\"0.0 * degree\" phase3=\"180.0 * degree\" id=\"t34\" k1=\"-0.06094934397766 * mole**-1 * kilocalorie\" k2=\"-0.5576281399815 * mole**-1 * kilocalorie\" k3=\"1.082360078461 * mole**-1 * kilocalorie\" idivf1=\"1.0\" idivf2=\"1.0\" idivf3=\"1.0\"></Proper>\\n        <Proper smirks=\"[#6X4;r3:1]-;@[#6X4;r3:2]-[#6X3;r6:3]:[#6X3;r6:4]\" periodicity1=\"4\" periodicity2=\"2\" phase1=\"180.0 * degree\" phase2=\"180.0 * degree\" id=\"t35\" k1=\"0.005431067499394 * mole**-1 * kilocalorie\" k2=\"0.6111533024922 * mole**-1 * kilocalorie\" idivf1=\"1.0\" idivf2=\"1.0\"></Proper>\\n        <Proper smirks=\"[#6X4;r3:1]-;@[#6X4;r3:2]-[#6X3;r5:3]-;@[#6X3;r5:4]\" periodicity1=\"4\" periodicity2=\"3\" periodicity3=\"2\" phase1=\"180.0 * degree\" phase2=\"0.0 * degree\" phase3=\"180.0 * degree\" id=\"t36\" k1=\"-0.09536809420051 * mole**-1 * kilocalorie\" k2=\"0.2800892958044 * mole**-1 * kilocalorie\" k3=\"0.4668895256148 * mole**-1 * kilocalorie\" idivf1=\"1.0\" idivf2=\"1.0\" idivf3=\"1.0\"></Proper>\\n        <Proper smirks=\"[#6X4;r3:1]-;@[#6X4;r3:2]-[#6X3;r5:3]=;@[#6X3;r5:4]\" periodicity1=\"1\" phase1=\"180.0 * degree\" id=\"t37\" k1=\"0.287162408587 * mole**-1 * kilocalorie\" idivf1=\"1.0\"></Proper>\\n        <Proper smirks=\"[#6X4;r3:1]-;@[#6X4;r3:2]-[#6X3:3]-[#6X4:4]\" periodicity1=\"1\" phase1=\"0.0 * degree\" id=\"t38\" k1=\"0.7631330263272 * mole**-1 * kilocalorie\" idivf1=\"1.0\"></Proper>\\n        <Proper smirks=\"[#6X4;r3:1]-;@[#6X4;r3:2]-[#6X3;r6:3]:[#7X2;r6:4]\" periodicity1=\"2\" periodicity2=\"1\" periodicity3=\"3\" phase1=\"180.0 * degree\" phase2=\"180.0 * degree\" phase3=\"0.0 * degree\" id=\"t39\" k1=\"2.632548889035 * mole**-1 * kilocalorie\" k2=\"-0.178515293156 * mole**-1 * kilocalorie\" k3=\"0.9809884394778 * mole**-1 * kilocalorie\" idivf1=\"1.0\" idivf2=\"1.0\" idivf3=\"1.0\"></Proper>\\n        <Proper smirks=\"[#6X4;r3:1]-;@[#6X4;r3:2]-[#6X3:3]=[#7X2:4]\" periodicity1=\"3\" periodicity2=\"2\" periodicity3=\"1\" phase1=\"0.0 * degree\" phase2=\"180.0 * degree\" phase3=\"180.0 * degree\" id=\"t40\" k1=\"-0.3973437766056 * mole**-1 * kilocalorie\" k2=\"1.595780918938 * mole**-1 * kilocalorie\" k3=\"0.1436787426846 * mole**-1 * kilocalorie\" idivf1=\"1.0\" idivf2=\"1.0\" idivf3=\"1.0\"></Proper>\\n        <Proper smirks=\"[#6X4;r3:1]-;@[#6X4;r3:2]-[#6X3:3]-[#8X2:4]\" periodicity1=\"4\" periodicity2=\"2\" phase1=\"180.0 * degree\" phase2=\"180.0 * degree\" id=\"t41\" k1=\"-0.3349398025484 * mole**-1 * kilocalorie\" k2=\"1.465145041669 * mole**-1 * kilocalorie\" idivf1=\"1.0\" idivf2=\"1.0\"></Proper>\\n        <Proper smirks=\"[#6X4;r3:1]-;@[#6X4;r3:2]-[#6X3:3]=[#8X1:4]\" periodicity1=\"2\" phase1=\"320.0 * degree\" id=\"t42\" k1=\"-0.6316097426408 * mole**-1 * kilocalorie\" idivf1=\"1.0\"></Proper>\\n        <Proper smirks=\"[*:1]~[#6X3:2]-[#6X3:3]~[*:4]\" periodicity1=\"2\" phase1=\"180.0 * degree\" id=\"t43\" k1=\"1.048715180139 * mole**-1 * kilocalorie\" idivf1=\"1.0\"></Proper>\\n        <Proper smirks=\"[*:1]~[#6X3:2]:[#6X3:3]~[*:4]\" periodicity1=\"2\" phase1=\"180.0 * degree\" id=\"t44\" k1=\"3.739199932852 * mole**-1 * kilocalorie\" idivf1=\"1.0\"></Proper>\\n        <Proper smirks=\"[*:1]-,:[#6X3:2]=[#6X3:3]-,:[*:4]\" periodicity1=\"2\" phase1=\"180.0 * degree\" id=\"t45\" k1=\"5.202617258558 * mole**-1 * kilocalorie\" idivf1=\"1.0\"></Proper>\\n        <Proper smirks=\"[#6X4:1]-[#6X3:2]=[#6X3:3]-[#6X4:4]\" periodicity1=\"2\" periodicity2=\"1\" phase1=\"180.0 * degree\" phase2=\"180.0 * degree\" id=\"t46\" k1=\"5.490071410144 * mole**-1 * kilocalorie\" k2=\"1.882194041869 * mole**-1 * kilocalorie\" idivf1=\"1.0\" idivf2=\"1.0\"></Proper>\\n        <Proper smirks=\"[*:1]~[#6X3:2]-[#6X3$(*=[#8,#16,#7]):3]~[*:4]\" periodicity1=\"2\" phase1=\"180.0 * degree\" id=\"t47\" k1=\"1.090788079768 * mole**-1 * kilocalorie\" idivf1=\"1.0\"></Proper>\\n        <Proper smirks=\"[#6X3:1]=[#6X3:2]-[#6X3:3]=[#8X1:4]\" periodicity1=\"2\" periodicity2=\"3\" phase1=\"180.0 * degree\" phase2=\"0.0 * degree\" id=\"t48\" k1=\"0.3980018770084 * mole**-1 * kilocalorie\" k2=\"-0.3938620201049 * mole**-1 * kilocalorie\" idivf1=\"1.0\" idivf2=\"1.0\"></Proper>\\n        <Proper smirks=\"[*:1]~[#7a:2]:[#6a:3]~[*:4]\" periodicity1=\"2\" phase1=\"180.0 * degree\" id=\"t49\" k1=\"4.564735792485 * mole**-1 * kilocalorie\" idivf1=\"1.0\"></Proper>\\n        <Proper smirks=\"[*:1]-[#6X4:2]-[#7X4:3]-[*:4]\" periodicity1=\"3\" phase1=\"0.0 * degree\" id=\"t50\" k1=\"0.06697375586735 * mole**-1 * kilocalorie\" idivf1=\"1.0\"></Proper>\\n        <Proper smirks=\"[*:1]-[#6X4:2]-[#7X3:3]-[*:4]\" periodicity1=\"3\" phase1=\"0.0 * degree\" id=\"t51\" k1=\"0.3474754522767 * mole**-1 * kilocalorie\" idivf1=\"1.0\"></Proper>\\n        <Proper smirks=\"[*:1]-[#6X4:2]-[#7X3:3]-[#7X2:4]=[#6]\" periodicity1=\"3\" periodicity2=\"2\" phase1=\"0.0 * degree\" phase2=\"180.0 * degree\" id=\"t51a\" k1=\"0.4950454644418 * mole**-1 * kilocalorie\" k2=\"0.01367192897347 * mole**-1 * kilocalorie\" idivf1=\"1.0\" idivf2=\"1.0\"></Proper>\\n        <Proper smirks=\"[#1:1]-[#6X4:2]-[#7X3:3]-[#7X2:4]=[#6]\" periodicity1=\"3\" periodicity2=\"2\" phase1=\"0.0 * degree\" phase2=\"180.0 * degree\" id=\"t51ah\" k1=\"0.5278465826043 * mole**-1 * kilocalorie\" k2=\"-0.1662288208747 * mole**-1 * kilocalorie\" idivf1=\"1.0\" idivf2=\"1.0\"></Proper>\\n        <Proper smirks=\"[*:1]-[#6X4:2]-[#7X3:3]-[#7X2:4]=[#7X2,#8X1]\" periodicity1=\"3\" periodicity2=\"2\" phase1=\"0.0 * degree\" phase2=\"180.0 * degree\" id=\"t51b\" k1=\"0.2114291477967 * mole**-1 * kilocalorie\" k2=\"-0.04308992821391 * mole**-1 * kilocalorie\" idivf1=\"1.0\" idivf2=\"1.0\"></Proper>\\n        <Proper smirks=\"[#1:1]-[#6X4:2]-[#7X3:3]-[#7X2:4]=[#7X2,#8X1]\" periodicity1=\"3\" periodicity2=\"2\" phase1=\"0.0 * degree\" phase2=\"180.0 * degree\" id=\"t51bh\" k1=\"0.1306201579009 * mole**-1 * kilocalorie\" k2=\"0.01796692446999 * mole**-1 * kilocalorie\" idivf1=\"1.0\" idivf2=\"1.0\"></Proper>\\n        <Proper smirks=\"[*:1]-[#6X4:2]-[#7X3$(*@1-[*]=,:[*][*]=,:[*]@1):3]-[*:4]\" periodicity1=\"2\" phase1=\"180.0 * degree\" id=\"t51c\" k1=\"1.625096941834 * mole**-1 * kilocalorie\" idivf1=\"1.0\"></Proper>\\n        <Proper smirks=\"[#1:1]-[#6X4:2]-[#7X3$(*@1-[*]=,:[*][*]=,:[*]@1):3]-[*:4]\" periodicity1=\"2\" phase1=\"180.0 * degree\" id=\"t51ch\" k1=\"1.936185237591 * mole**-1 * kilocalorie\" idivf1=\"1.0\"></Proper>\\n        <Proper smirks=\"[#6X4:1]-[#6X4:2]-[#7X4,#7X3:3]-[#6X4:4]\" periodicity1=\"3\" periodicity2=\"2\" phase1=\"0.0 * degree\" phase2=\"180.0 * degree\" id=\"t52\" k1=\"0.2684848134547 * mole**-1 * kilocalorie\" k2=\"0.06661990693486 * mole**-1 * kilocalorie\" idivf1=\"1.0\" idivf2=\"1.0\"></Proper>\\n        <Proper smirks=\"[#1:1]-[#7X4,#7X3:2]-[#6X4;r3:3]-[*:4]\" periodicity1=\"1\" phase1=\"0.0 * degree\" id=\"t54\" k1=\"0.8144496802269 * mole**-1 * kilocalorie\" idivf1=\"1.0\"></Proper>\\n        <Proper smirks=\"[#1:1]-[#7X4,#7X3:2]-[#6X4;r3:3]-[#6X4;r3:4]\" periodicity1=\"1\" phase1=\"0.0 * degree\" id=\"t55\" k1=\"1.274891815604 * mole**-1 * kilocalorie\" idivf1=\"1.0\"></Proper>\\n        <Proper smirks=\"[!#1:1]-[#7X4,#7X3:2]-[#6X4;r3:3]-[*:4]\" periodicity1=\"3\" phase1=\"0.0 * degree\" id=\"t56\" k1=\"0.4347936008897 * mole**-1 * kilocalorie\" idivf1=\"1.0\"></Proper>\\n        <Proper smirks=\"[!#1:1]-[#7X4,#7X3:2]-[#6X4;r3:3]-[#6X4;r3:4]\" periodicity1=\"3\" phase1=\"0.0 * degree\" id=\"t57\" k1=\"1.175611586196 * mole**-1 * kilocalorie\" idivf1=\"1.0\"></Proper>\\n        <Proper smirks=\"[*:1]-[#7X4:2]-[#6X3:3]~[*:4]\" periodicity1=\"1\" phase1=\"0.0 * degree\" id=\"t58\" k1=\"-0.0002040122493537 * mole**-1 * kilocalorie\" idivf1=\"1.0\"></Proper>\\n        <Proper smirks=\"[*:1]-[#6X4:2]-[#7X3$(*~[#6X3,#6X2]):3]~[*:4]\" periodicity1=\"2\" periodicity2=\"3\" phase1=\"0.0 * degree\" phase2=\"0.0 * degree\" id=\"t59\" k1=\"0.1864829982998 * mole**-1 * kilocalorie\" k2=\"-0.04574030840006 * mole**-1 * kilocalorie\" idivf1=\"1.0\" idivf2=\"1.0\"></Proper>\\n        <Proper smirks=\"[*:1]-[#6X4:2]-[#7X3$(*~[#8X1]):3]~[#8X1:4]\" periodicity1=\"3\" phase1=\"0.0 * degree\" id=\"t60\" k1=\"0.002046174889559 * mole**-1 * kilocalorie\" idivf1=\"1.0\"></Proper>\\n        <Proper smirks=\"[#6X3:1]-[#7X3:2]-[#6X4:3]-[#6X3:4]\" periodicity1=\"2\" periodicity2=\"1\" phase1=\"180.0 * degree\" phase2=\"0.0 * degree\" id=\"t61\" k1=\"-0.3643509198012 * mole**-1 * kilocalorie\" k2=\"0.2536443182971 * mole**-1 * kilocalorie\" idivf1=\"1.0\" idivf2=\"1.0\"></Proper>\\n        <Proper smirks=\"[#6X4:1]-[#6X4:2]-[#7X3:3]-[#6X3:4]=[#8,#16,#7]\" periodicity1=\"4\" periodicity2=\"3\" periodicity3=\"2\" periodicity4=\"1\" phase1=\"180.0 * degree\" phase2=\"180.0 * degree\" phase3=\"0.0 * degree\" phase4=\"0.0 * degree\" id=\"t62\" k1=\"-0.02168701111674 * mole**-1 * kilocalorie\" k2=\"-0.1044621756342 * mole**-1 * kilocalorie\" k3=\"0.2711161176309 * mole**-1 * kilocalorie\" k4=\"-0.3521446462554 * mole**-1 * kilocalorie\" idivf1=\"1.0\" idivf2=\"1.0\" idivf3=\"1.0\" idivf4=\"1.0\"></Proper>\\n        <Proper smirks=\"[#8X2H0:1]-[#6X4:2]-[#7X3:3]-[#6X3:4]\" periodicity1=\"2\" periodicity2=\"1\" phase1=\"0.0 * degree\" phase2=\"0.0 * degree\" id=\"t63\" k1=\"0.5245816161321 * mole**-1 * kilocalorie\" k2=\"1.961130838442 * mole**-1 * kilocalorie\" idivf1=\"1.0\" idivf2=\"1.0\"></Proper>\\n        <Proper smirks=\"[#6X3:1]-[#7X3:2]-[#6X4;r3:3]-[#6X4;r3:4]\" periodicity1=\"3\" periodicity2=\"2\" periodicity3=\"1\" phase1=\"0.0 * degree\" phase2=\"0.0 * degree\" phase3=\"0.0 * degree\" id=\"t64\" k1=\"0.7959272193682 * mole**-1 * kilocalorie\" k2=\"0.006127059969553 * mole**-1 * kilocalorie\" k3=\"-0.5656735743159 * mole**-1 * kilocalorie\" idivf1=\"1.0\" idivf2=\"1.0\" idivf3=\"1.0\"></Proper>\\n        <Proper smirks=\"[*:1]~[#7X2:2]-[#6X4:3]-[*:4]\" periodicity1=\"1\" phase1=\"0.0 * degree\" id=\"t65\" k1=\"-1.382973039546 * mole**-1 * kilocalorie\" idivf1=\"1.0\"></Proper>\\n        <Proper smirks=\"[#6X3:1]=[#7X2,#7X3+1:2]-[#6X4:3]-[#1:4]\" periodicity1=\"1\" phase1=\"0.0 * degree\" id=\"t66\" k1=\"0.7563381453361 * mole**-1 * kilocalorie\" idivf1=\"1.0\"></Proper>\\n        <Proper smirks=\"[#6X3:1]=[#7X2,#7X3+1:2]-[#6X4:3]-[#6X3,#6X4:4]\" periodicity1=\"1\" phase1=\"0.0 * degree\" id=\"t67\" k1=\"0.8996585118438 * mole**-1 * kilocalorie\" idivf1=\"1.0\"></Proper>\\n        <Proper smirks=\"[*:1]~[#7X3,#7X2-1:2]-[#6X3:3]~[*:4]\" periodicity1=\"2\" phase1=\"180.0 * degree\" id=\"t68\" k1=\"0.9472948866639 * mole**-1 * kilocalorie\" idivf1=\"1.0\"></Proper>\\n        <Proper smirks=\"[*:1]~[#7X3,#7X2-1:2]-!@[#6X3:3]~[*:4]\" periodicity1=\"2\" phase1=\"180.0 * degree\" id=\"t69\" k1=\"1.624344674592 * mole**-1 * kilocalorie\" idivf1=\"1.0\"></Proper>\\n        <Proper smirks=\"[*:1]-[#7X3:2]-[#6X3$(*=[#8,#16,#7]):3]~[*:4]\" periodicity1=\"2\" periodicity2=\"1\" phase1=\"180.0 * degree\" phase2=\"0.0 * degree\" id=\"t69a\" k1=\"1.802103402795 * mole**-1 * kilocalorie\" k2=\"0.0 * mole**-1 * kilocalorie\" idivf1=\"1.0\" idivf2=\"1.0\"></Proper>\\n        <Proper smirks=\"[#1:1]-[#7X3:2]-[#6X3:3]=[#8,#16,#7:4]\" periodicity1=\"2\" periodicity2=\"1\" phase1=\"180.0 * degree\" phase2=\"0.0 * degree\" id=\"t70\" k1=\"0.7922240596015 * mole**-1 * kilocalorie\" k2=\"0.6680623344831 * mole**-1 * kilocalorie\" idivf1=\"1.0\" idivf2=\"1.0\"></Proper>\\n        <Proper smirks=\"[*:1]-[#7X3:2]-!@[#6X3:3](=[#8,#16,#7:4])-[#6,#1]\" periodicity1=\"2\" periodicity2=\"1\" phase1=\"180.0 * degree\" phase2=\"0.0 * degree\" id=\"t70b\" k1=\"3.254401877325 * mole**-1 * kilocalorie\" k2=\"0.0 * mole**-1 * kilocalorie\" idivf1=\"1.0\" idivf2=\"1.0\"></Proper>\\n        <Proper smirks=\"[#1:1]-[#7X3:2]-!@[#6X3:3](=[#8,#16,#7:4])-[#6,#1]\" periodicity1=\"2\" periodicity2=\"1\" phase1=\"180.0 * degree\" phase2=\"0.0 * degree\" id=\"t70c\" k1=\"1.899515630682 * mole**-1 * kilocalorie\" k2=\"0.732059073281 * mole**-1 * kilocalorie\" idivf1=\"1.0\" idivf2=\"1.0\"></Proper>\\n        <Proper smirks=\"[*:1]-[#7X3:2]-!@[#6X3:3](=[#8,#16,#7:4])-[#7X3]\" periodicity1=\"2\" periodicity2=\"1\" phase1=\"180.0 * degree\" phase2=\"0.0 * degree\" id=\"t70d\" k1=\"1.078186318198 * mole**-1 * kilocalorie\" k2=\"0.0 * mole**-1 * kilocalorie\" idivf1=\"1.0\" idivf2=\"1.0\"></Proper>\\n        <Proper smirks=\"[*:1]-[#7X3;r5:2]-@[#6X3;r5:3]~[*:4]\" periodicity1=\"2\" phase1=\"180.0 * degree\" id=\"t71\" k1=\"1.006288530202 * mole**-1 * kilocalorie\" idivf1=\"1.0\"></Proper>\\n        <Proper smirks=\"[#8X1:1]~[#7X3:2]~[#6X3:3]~[*:4]\" periodicity1=\"2\" phase1=\"180.0 * degree\" id=\"t72\" k1=\"0.7349319586215 * mole**-1 * kilocalorie\" idivf1=\"1.0\"></Proper>\\n        <Proper smirks=\"[*:1]=[#7X2,#7X3+1:2]-[#6X3:3]-[*:4]\" periodicity1=\"2\" phase1=\"180.0 * degree\" id=\"t73\" k1=\"1.506807396847 * mole**-1 * kilocalorie\" idivf1=\"1.0\"></Proper>\\n        <Proper smirks=\"[*:1]=[#7X2,#7X3+1:2]-[#6X3:3]=,:[*:4]\" periodicity1=\"2\" phase1=\"180.0 * degree\" id=\"t74\" k1=\"1.579299041234 * mole**-1 * kilocalorie\" idivf1=\"1.0\"></Proper>\\n        <Proper smirks=\"[*:1]~[#7X2,#7X3$(*~[#8X1]):2]:[#6X3:3]~[*:4]\" periodicity1=\"2\" phase1=\"180.0 * degree\" id=\"t75\" k1=\"4.019141673748 * mole**-1 * kilocalorie\" idivf1=\"1.0\"></Proper>\\n        <Proper smirks=\"[#6X3:1]:[#7X2:2]:[#6X3:3]:[#6X3:4]\" periodicity1=\"2\" phase1=\"180.0 * degree\" id=\"t76\" k1=\"5.628604921456 * mole**-1 * kilocalorie\" idivf1=\"1.0\"></Proper>\\n        <Proper smirks=\"[*:1]-,:[#6X3:2]=[#7X2:3]-[*:4]\" periodicity1=\"2\" phase1=\"180.0 * degree\" id=\"t77\" k1=\"6.809049014167 * mole**-1 * kilocalorie\" idivf1=\"1.0\"></Proper>\\n        <Proper smirks=\"[*:1]-[#7X3+1:2]=,:[#6X3:3]-,:[*:4]\" periodicity1=\"2\" phase1=\"180.0 * degree\" id=\"t78\" k1=\"3.337310191161 * mole**-1 * kilocalorie\" idivf1=\"1.0\"></Proper>\\n        <Proper smirks=\"[#16X4,#16X3+0:1]-[#7X2:2]=[#6X3:3]-[#7X3:4]\" periodicity1=\"2\" phase1=\"180.0 * degree\" id=\"t79\" k1=\"6.640454350481 * mole**-1 * kilocalorie\" idivf1=\"1.0\"></Proper>\\n        <Proper smirks=\"[#16X4,#16X3+0:1]-[#7X2:2]=[#6X3:3]-[#16X2,#16X3+1:4]\" periodicity1=\"2\" phase1=\"180.0 * degree\" id=\"t80\" k1=\"6.405311926088 * mole**-1 * kilocalorie\" idivf1=\"1.0\"></Proper>\\n        <Proper smirks=\"[#7X2:1]~[#7X2:2]-[#6X3:3]~[#6X3:4]\" periodicity1=\"2\" phase1=\"180.0 * degree\" id=\"t81\" k1=\"2.14476583394 * mole**-1 * kilocalorie\" idivf1=\"1.0\"></Proper>\\n        <Proper smirks=\"[#7X2:1]~[#7X2:2]-[#6X4:3]-[#6X3:4]\" periodicity1=\"2\" phase1=\"0.0 * degree\" id=\"t82\" k1=\"0.1464855277345 * mole**-1 * kilocalorie\" idivf1=\"1.0\"></Proper>\\n        <Proper smirks=\"[#7X2:1]~[#7X2:2]-[#6X4:3]~[#1:4]\" periodicity1=\"2\" phase1=\"0.0 * degree\" id=\"t83\" k1=\"0.3387652529278 * mole**-1 * kilocalorie\" idivf1=\"1.0\"></Proper>\\n        <Proper smirks=\"[*:1]-[#6X4:2]-[#8X2:3]-[#1:4]\" periodicity1=\"3\" phase1=\"0.0 * degree\" id=\"t84\" k1=\"0.6985935181583 * mole**-1 * kilocalorie\" idivf1=\"3.0\"></Proper>\\n        <Proper smirks=\"[#6X4:1]-[#6X4:2]-[#8X2H1:3]-[#1:4]\" periodicity1=\"3\" periodicity2=\"1\" phase1=\"0.0 * degree\" phase2=\"0.0 * degree\" id=\"t85\" k1=\"0.6209853520639 * mole**-1 * kilocalorie\" k2=\"0.02444193827735 * mole**-1 * kilocalorie\" idivf1=\"1.0\" idivf2=\"1.0\"></Proper>\\n        <Proper smirks=\"[*:1]-[#6X4:2]-[#8X2H0:3]-[*:4]\" periodicity1=\"3\" phase1=\"0.0 * degree\" id=\"t86\" k1=\"-0.1559345915417 * mole**-1 * kilocalorie\" idivf1=\"3.0\"></Proper>\\n        <Proper smirks=\"[#6X4:1]-[#6X4:2]-[#8X2H0:3]-[#6X4:4]\" periodicity1=\"3\" periodicity2=\"2\" phase1=\"0.0 * degree\" phase2=\"180.0 * degree\" id=\"t87\" k1=\"0.2190920219179 * mole**-1 * kilocalorie\" k2=\"0.0168144966447 * mole**-1 * kilocalorie\" idivf1=\"1.0\" idivf2=\"1.0\"></Proper>\\n        <Proper smirks=\"[#6X4:1]-[#6X4:2]-[#8X2:3]-[#6X3:4]\" periodicity1=\"3\" periodicity2=\"1\" phase1=\"0.0 * degree\" phase2=\"180.0 * degree\" id=\"t88\" k1=\"0.2935423065053 * mole**-1 * kilocalorie\" k2=\"0.5936929277299 * mole**-1 * kilocalorie\" idivf1=\"1.0\" idivf2=\"1.0\"></Proper>\\n        <Proper smirks=\"[#6X4:1]-[#8X2:2]-[#6X4:3]-[#8X2:4]\" periodicity1=\"3\" periodicity2=\"2\" periodicity3=\"1\" phase1=\"0.0 * degree\" phase2=\"180.0 * degree\" phase3=\"180.0 * degree\" id=\"t89\" k1=\"0.3886494723617 * mole**-1 * kilocalorie\" k2=\"0.256767135836 * mole**-1 * kilocalorie\" k3=\"1.319621430449 * mole**-1 * kilocalorie\" idivf1=\"1.0\" idivf2=\"1.0\" idivf3=\"1.0\"></Proper>\\n        <Proper smirks=\"[#6X4:1]-[#8X2:2]-[#6X4:3]-[#7X3:4]\" periodicity1=\"3\" periodicity2=\"2\" phase1=\"0.0 * degree\" phase2=\"0.0 * degree\" id=\"t90\" k1=\"0.5018649283047 * mole**-1 * kilocalorie\" k2=\"0.6283112080204 * mole**-1 * kilocalorie\" idivf1=\"1.0\" idivf2=\"1.0\"></Proper>\\n        <Proper smirks=\"[#6X3:1]-[#8X2:2]-[#6X4;r3:3]-@[#6X4;r3:4]\" periodicity1=\"1\" phase1=\"0.0 * degree\" id=\"t91\" k1=\"-0.3881443226137 * mole**-1 * kilocalorie\" idivf1=\"1.0\"></Proper>\\n        <Proper smirks=\"[#6X3:1]-[#8X2:2]-[#6X4;r3:3]-[#1:4]\" periodicity1=\"1\" phase1=\"0.0 * degree\" id=\"t92\" k1=\"0.2496382491307 * mole**-1 * kilocalorie\" idivf1=\"1.0\"></Proper>\\n        <Proper smirks=\"[#1:1]-[#8X2:2]-[#6X4;r3:3]-[#1:4]\" periodicity1=\"3\" periodicity2=\"2\" periodicity3=\"1\" phase1=\"0.0 * degree\" phase2=\"0.0 * degree\" phase3=\"0.0 * degree\" id=\"t93\" k1=\"0.4587912910726 * mole**-1 * kilocalorie\" k2=\"0.3401510260409 * mole**-1 * kilocalorie\" k3=\"0.7119290472544 * mole**-1 * kilocalorie\" idivf1=\"1.0\" idivf2=\"1.0\" idivf3=\"1.0\"></Proper>\\n        <Proper smirks=\"[#1:1]-[#8X2:2]-[#6X4;r3:3]-[#6X4:4]\" periodicity1=\"3\" periodicity2=\"2\" periodicity3=\"1\" phase1=\"0.0 * degree\" phase2=\"0.0 * degree\" phase3=\"0.0 * degree\" id=\"t94\" k1=\"0.3357947754701 * mole**-1 * kilocalorie\" k2=\"0.1145990005576 * mole**-1 * kilocalorie\" k3=\"0.6562847506201 * mole**-1 * kilocalorie\" idivf1=\"1.0\" idivf2=\"1.0\" idivf3=\"1.0\"></Proper>\\n        <Proper smirks=\"[#1:1]-[#8X2:2]-[#6X4;r3:3]-[#6X4;r3:4]\" periodicity1=\"3\" periodicity2=\"2\" periodicity3=\"1\" phase1=\"0.0 * degree\" phase2=\"0.0 * degree\" phase3=\"0.0 * degree\" id=\"t95\" k1=\"0.4378553132738 * mole**-1 * kilocalorie\" k2=\"0.1302518579407 * mole**-1 * kilocalorie\" k3=\"0.6980670831106 * mole**-1 * kilocalorie\" idivf1=\"1.0\" idivf2=\"1.0\" idivf3=\"1.0\"></Proper>\\n        <Proper smirks=\"[*:1]~[#6X3:2]-[#8X2:3]-[*:4]\" periodicity1=\"2\" phase1=\"180.0 * degree\" id=\"t96\" k1=\"1.346955794203 * mole**-1 * kilocalorie\" idivf1=\"1.0\"></Proper>\\n        <Proper smirks=\"[*:1]~[#6X3:2]-[#8X2:3]-[#1:4]\" periodicity1=\"2\" phase1=\"180.0 * degree\" id=\"t97\" k1=\"0.8827571963174 * mole**-1 * kilocalorie\" idivf1=\"1.0\"></Proper>\\n        <Proper smirks=\"[*:1]~[#6X3:2](=[#8,#16,#7])-[#8X2H0:3]-[*:4]\" periodicity1=\"2\" phase1=\"180.0 * degree\" id=\"t98\" k1=\"2.342603001725 * mole**-1 * kilocalorie\" idivf1=\"1.0\"></Proper>\\n        <Proper smirks=\"[*:1]~[#6X3:2](=[#8,#16,#7])-[#8:3]-[#1:4]\" periodicity1=\"2\" phase1=\"180.0 * degree\" id=\"t99\" k1=\"2.529549774939 * mole**-1 * kilocalorie\" idivf1=\"1.0\"></Proper>\\n        <Proper smirks=\"[#1:1]-[#8X2:2]-[#6X3:3]=[#8X1:4]\" periodicity1=\"2\" periodicity2=\"1\" phase1=\"180.0 * degree\" phase2=\"0.0 * degree\" id=\"t100\" k1=\"2.23244140273 * mole**-1 * kilocalorie\" k2=\"1.2372604498 * mole**-1 * kilocalorie\" idivf1=\"1.0\" idivf2=\"1.0\"></Proper>\\n        <Proper smirks=\"[#8,#16,#7:1]=[#6X3:2]-[#8X2H0:3]-[#6X4:4]\" periodicity1=\"2\" periodicity2=\"1\" phase1=\"180.0 * degree\" phase2=\"180.0 * degree\" id=\"t101\" k1=\"2.470224124864 * mole**-1 * kilocalorie\" k2=\"0.2537326473858 * mole**-1 * kilocalorie\" idivf1=\"1.0\" idivf2=\"1.0\"></Proper>\\n        <Proper smirks=\"[*:1]-[#8X2:2]@[#6X3:3]~[*:4]\" periodicity1=\"2\" phase1=\"180.0 * degree\" id=\"t102\" k1=\"2.08725945168 * mole**-1 * kilocalorie\" idivf1=\"1.0\"></Proper>\\n        <Proper smirks=\"[*:1]-[#8X2+1:2]=[#6X3:3]-[*:4]\" periodicity1=\"2\" phase1=\"180.0 * degree\" id=\"t103\" k1=\"3.955744032936 * mole**-1 * kilocalorie\" idivf1=\"1.0\"></Proper>\\n        <Proper smirks=\"[*:1]=[#8X2+1:2]-[#6:3]~[*:4]\" periodicity1=\"2\" phase1=\"180.0 * degree\" id=\"t104\" k1=\"0.2232017738603 * mole**-1 * kilocalorie\" idivf1=\"1.0\"></Proper>\\n        <Proper smirks=\"[*:1]~[#16:2]=,:[#6:3]~[*:4]\" periodicity1=\"2\" phase1=\"180.0 * degree\" id=\"t105\" k1=\"4.551283984149 * mole**-1 * kilocalorie\" idivf1=\"1.0\"></Proper>\\n        <Proper smirks=\"[*:1]-[#16X2,#16X3+1:2]-[#6:3]~[*:4]\" periodicity1=\"2\" phase1=\"180.0 * degree\" id=\"t106\" k1=\"0.443370767056 * mole**-1 * kilocalorie\" idivf1=\"1.0\"></Proper>\\n        <Proper smirks=\"[*:1]-[#16X2,#16X3+1:2]-[#6:3]-[#1:4]\" periodicity1=\"3\" phase1=\"0.0 * degree\" id=\"t107\" k1=\"0.2740373969579 * mole**-1 * kilocalorie\" idivf1=\"1.0\"></Proper>\\n        <Proper smirks=\"[#6X3:1]-@[#16X2,#16X1-1,#16X3+1:2]-@[#6X3,#7X2;r5:3]=@[#6,#7;r5:4]\" periodicity1=\"2\" phase1=\"180.0 * degree\" id=\"t108\" k1=\"2.956729423453 * mole**-1 * kilocalorie\" idivf1=\"1.0\"></Proper>\\n        <Proper smirks=\"[*:1]~[#16X4,#16X3!+1:2]-[#6X4:3]-[*:4]\" periodicity1=\"3\" phase1=\"0.0 * degree\" id=\"t109\" k1=\"0.03501004882363 * mole**-1 * kilocalorie\" idivf1=\"1.0\"></Proper>\\n        <Proper smirks=\"[#6X4:1]-[#16X4,#16X3+0:2]-[#6X4:3]-[#1:4]\" periodicity1=\"1\" phase1=\"0.0 * degree\" id=\"t110\" k1=\"0.1668988727699 * mole**-1 * kilocalorie\" idivf1=\"1.0\"></Proper>\\n        <Proper smirks=\"[#6X4:1]-[#16X4,#16X3+0:2]-[#6X4:3]~[#6X4:4]\" periodicity1=\"3\" phase1=\"0.0 * degree\" id=\"t111\" k1=\"0.2654682507235 * mole**-1 * kilocalorie\" idivf1=\"1.0\"></Proper>\\n        <Proper smirks=\"[*:1]~[#16X4,#16X3+0:2]-[#6X3:3]~[*:4]\" periodicity1=\"2\" phase1=\"180.0 * degree\" id=\"t112\" k1=\"0.5224377872008 * mole**-1 * kilocalorie\" idivf1=\"1.0\"></Proper>\\n        <Proper smirks=\"[#6:1]-[#16X4,#16X3+0:2]-[#6X3:3]~[*:4]\" periodicity1=\"1\" phase1=\"0.0 * degree\" id=\"t113\" k1=\"0.7036705436165 * mole**-1 * kilocalorie\" idivf1=\"1.0\"></Proper>\\n        <Proper smirks=\"[*:1]~[#15:2]-[#6:3]-[*:4]\" periodicity1=\"1\" phase1=\"0.0 * degree\" id=\"t114\" k1=\"0.001470050841157 * mole**-1 * kilocalorie\" idivf1=\"1.0\"></Proper>\\n        <Proper smirks=\"[*:1]~[#15:2]-[#6X3:3]~[*:4]\" periodicity1=\"1\" phase1=\"0.0 * degree\" id=\"t115\" k1=\"1.001318303664 * mole**-1 * kilocalorie\" idivf1=\"1.0\"></Proper>\\n        <Proper smirks=\"[*:1]-[#8:2]-[#8:3]-[*:4]\" periodicity1=\"1\" phase1=\"0.0 * degree\" id=\"t116\" k1=\"0.457973137376 * mole**-1 * kilocalorie\" idivf1=\"1.0\"></Proper>\\n        <Proper smirks=\"[*:1]-[#8:2]-[#8H1:3]-[*:4]\" periodicity1=\"2\" phase1=\"0.0 * degree\" id=\"t117\" k1=\"0.4009661110735 * mole**-1 * kilocalorie\" idivf1=\"1.0\"></Proper>\\n        <Proper smirks=\"[*:1]~[#8X2:2]-[#7:3]~[*:4]\" periodicity1=\"1\" phase1=\"0.0 * degree\" id=\"t118\" k1=\"1.062913481501 * mole**-1 * kilocalorie\" idivf1=\"1.0\"></Proper>\\n        <Proper smirks=\"[*:1]-[#8X2r5:2]-;@[#7X3r5:3]~[*:4]\" periodicity1=\"1\" phase1=\"0.0 * degree\" id=\"t119\" k1=\"0.8894364040494 * mole**-1 * kilocalorie\" idivf1=\"1.0\"></Proper>\\n        <Proper smirks=\"[*:1]-[#8X2r5:2]-;@[#7X2r5:3]~[*:4]\" periodicity1=\"1\" phase1=\"0.0 * degree\" id=\"t120\" k1=\"-0.1915723759986 * mole**-1 * kilocalorie\" idivf1=\"1.0\"></Proper>\\n        <Proper smirks=\"[*:1]-[#7X4,#7X3:2]-[#7X4,#7X3:3]-[*:4]\" periodicity1=\"3\" phase1=\"0.0 * degree\" id=\"t121\" k1=\"0.7763105759181 * mole**-1 * kilocalorie\" idivf1=\"1.0\"></Proper>\\n        <Proper smirks=\"[#1:1]-[#7X4,#7X3:2]-[#7X4,#7X3:3]-[#1:4]\" periodicity1=\"3\" periodicity2=\"2\" periodicity3=\"1\" phase1=\"0.0 * degree\" phase2=\"0.0 * degree\" phase3=\"0.0 * degree\" id=\"t122\" k1=\"0.3917343745784 * mole**-1 * kilocalorie\" k2=\"0.9467782973395 * mole**-1 * kilocalorie\" k3=\"0.2726597146827 * mole**-1 * kilocalorie\" idivf1=\"1.0\" idivf2=\"1.0\" idivf3=\"1.0\"></Proper>\\n        <Proper smirks=\"[#6X4:1]-[#7X4,#7X3:2]-[#7X4,#7X3:3]-[#1:4]\" periodicity1=\"3\" periodicity2=\"2\" periodicity3=\"1\" phase1=\"0.0 * degree\" phase2=\"0.0 * degree\" phase3=\"0.0 * degree\" id=\"t123\" k1=\"0.774151252041 * mole**-1 * kilocalorie\" k2=\"1.087509576657 * mole**-1 * kilocalorie\" k3=\"1.518874939494 * mole**-1 * kilocalorie\" idivf1=\"1.0\" idivf2=\"1.0\" idivf3=\"1.0\"></Proper>\\n        <Proper smirks=\"[#6X4:1]-[#7X4,#7X3:2]-[#7X4,#7X3:3]-[#6X4:4]\" periodicity1=\"3\" periodicity2=\"2\" periodicity3=\"1\" phase1=\"0.0 * degree\" phase2=\"0.0 * degree\" phase3=\"0.0 * degree\" id=\"t124\" k1=\"0.6761465733405 * mole**-1 * kilocalorie\" k2=\"1.653011589151 * mole**-1 * kilocalorie\" k3=\"1.713184811193 * mole**-1 * kilocalorie\" idivf1=\"1.0\" idivf2=\"1.0\" idivf3=\"1.0\"></Proper>\\n        <Proper smirks=\"[*:1]-[#7X4,#7X3:2]-[#7X3$(*~[#6X3,#6X2]):3]~[*:4]\" periodicity1=\"1\" phase1=\"0.0 * degree\" id=\"t125\" k1=\"0.0207623372754 * mole**-1 * kilocalorie\" idivf1=\"1.0\"></Proper>\\n        <Proper smirks=\"[*:1]-[#7X3$(*-[#6X3,#6X2]):2]-[#7X3$(*-[#6X3,#6X2]):3]-[*:4]\" periodicity1=\"1\" phase1=\"0.0 * degree\" id=\"t126\" k1=\"0.02021088501612 * mole**-1 * kilocalorie\" idivf1=\"1.0\"></Proper>\\n        <Proper smirks=\"[*:1]-[#7X3$(*-[#6X3,#6X2])r5:2]-@[#7X3$(*-[#6X3,#6X2])r5:3]~[*:4]\" periodicity1=\"2\" phase1=\"180.0 * degree\" id=\"t127\" k1=\"-0.5511477176828 * mole**-1 * kilocalorie\" idivf1=\"1.0\"></Proper>\\n        <Proper smirks=\"[*:1]@[#7X2:2]@[#7X2:3]@[#7X2,#6X3:4]\" periodicity1=\"1\" phase1=\"180.0 * degree\" id=\"t128a\" k1=\"0.2324481901172 * mole**-1 * kilocalorie\" idivf1=\"1.0\"></Proper>\\n        <Proper smirks=\"[*:1]~[#7X2:2]-[#7X3:3]~[*:4]\" periodicity1=\"3\" periodicity2=\"2\" phase1=\"0.0 * degree\" phase2=\"180.0 * degree\" id=\"t128\" k1=\"-0.09510851427019 * mole**-1 * kilocalorie\" k2=\"1.554435554256 * mole**-1 * kilocalorie\" idivf1=\"1.0\" idivf2=\"1.0\"></Proper>\\n        <Proper smirks=\"[*:1]=[#7X2:2]-[#7X2:3]=[*:4]\" periodicity1=\"2\" phase1=\"180.0 * degree\" id=\"t129\" k1=\"2.256547498569 * mole**-1 * kilocalorie\" idivf1=\"1.0\"></Proper>\\n        <Proper smirks=\"[*:1]~[#7X2:2]=,:[#7X2:3]~[*:4]\" periodicity1=\"2\" phase1=\"180.0 * degree\" id=\"t130\" k1=\"6.881627637778 * mole**-1 * kilocalorie\" idivf1=\"1.0\"></Proper>\\n        <Proper smirks=\"[*:1]~[#7X3+1:2]=,:[#7X2:3]~[*:4]\" periodicity1=\"2\" phase1=\"180.0 * degree\" id=\"t131\" k1=\"3.242705355404 * mole**-1 * kilocalorie\" idivf1=\"1.0\"></Proper>\\n        <Proper smirks=\"[*:1]-[#16X2,#16X3+1:2]-[!#6:3]~[*:4]\" periodicity1=\"2\" phase1=\"180.0 * degree\" id=\"t133\" k1=\"0.1282778850294 * mole**-1 * kilocalorie\" idivf1=\"1.0\"></Proper>\\n        <Proper smirks=\"[*:1]~[#16X4,#16X3+0:2]-[#7:3]~[*:4]\" periodicity1=\"1\" phase1=\"0.0 * degree\" id=\"t134\" k1=\"1.911914610011 * mole**-1 * kilocalorie\" idivf1=\"1.0\"></Proper>\\n        <Proper smirks=\"[#6X4:1]-[#16X4,#16X3+0:2]-[#7X4,#7X3:3]-[#1:4]\" periodicity1=\"1\" phase1=\"0.0 * degree\" id=\"t135\" k1=\"-0.05185152426794 * mole**-1 * kilocalorie\" idivf1=\"1.0\"></Proper>\\n        <Proper smirks=\"[#6X3:1]-[#16X4,#16X3+0:2]-[#7X4,#7X3:3]-[#1:4]\" periodicity1=\"3\" phase1=\"0.0 * degree\" id=\"t136\" k1=\"0.289423144071 * mole**-1 * kilocalorie\" idivf1=\"1.0\"></Proper>\\n        <Proper smirks=\"[#6X4:1]-[#16X4,#16X3+0:2]-[#7X4,#7X3:3]-[#6X4:4]\" periodicity1=\"1\" periodicity2=\"3\" phase1=\"0.0 * degree\" phase2=\"0.0 * degree\" id=\"t137\" k1=\"1.191277587846 * mole**-1 * kilocalorie\" k2=\"0.163283049999 * mole**-1 * kilocalorie\" idivf1=\"1.0\" idivf2=\"1.0\"></Proper>\\n        <Proper smirks=\"[#6X3:1]-[#16X4,#16X3+0:2]-[#7X4,#7X3:3]-[#6X4:4]\" periodicity1=\"3\" periodicity2=\"2\" periodicity3=\"1\" phase1=\"0.0 * degree\" phase2=\"0.0 * degree\" phase3=\"0.0 * degree\" id=\"t138\" k1=\"-0.008906462313985 * mole**-1 * kilocalorie\" k2=\"0.09140875740191 * mole**-1 * kilocalorie\" k3=\"1.275640981693 * mole**-1 * kilocalorie\" idivf1=\"1.0\" idivf2=\"1.0\" idivf3=\"1.0\"></Proper>\\n        <Proper smirks=\"[#8X1:1]~[#16X4,#16X3+0:2]-[#7X4,#7X3:3]-[#1:4]\" periodicity1=\"1\" periodicity2=\"3\" phase1=\"180.0 * degree\" phase2=\"0.0 * degree\" id=\"t139\" k1=\"-1.264725227353 * mole**-1 * kilocalorie\" k2=\"0.1750392987987 * mole**-1 * kilocalorie\" idivf1=\"1.0\" idivf2=\"1.0\"></Proper>\\n        <Proper smirks=\"[#8X1:1]~[#16X4,#16X3+0:2]-[#7X4,#7X3:3]-[#6X4:4]\" periodicity1=\"3\" periodicity2=\"2\" periodicity3=\"1\" phase1=\"0.0 * degree\" phase2=\"180.0 * degree\" phase3=\"0.0 * degree\" id=\"t140\" k1=\"0.3647165834298 * mole**-1 * kilocalorie\" k2=\"0.9682144392815 * mole**-1 * kilocalorie\" k3=\"2.108793081373 * mole**-1 * kilocalorie\" idivf1=\"1.0\" idivf2=\"1.0\" idivf3=\"1.0\"></Proper>\\n        <Proper smirks=\"[#6X3:1]-[#16X4,#16X3+0:2]-[#7X3:3]-[#6X3:4]\" periodicity1=\"3\" periodicity2=\"2\" periodicity3=\"1\" phase1=\"0.0 * degree\" phase2=\"0.0 * degree\" phase3=\"0.0 * degree\" id=\"t141\" k1=\"0.6676527644016 * mole**-1 * kilocalorie\" k2=\"0.4554941721975 * mole**-1 * kilocalorie\" k3=\"0.1638493609503 * mole**-1 * kilocalorie\" idivf1=\"1.0\" idivf2=\"1.0\" idivf3=\"1.0\"></Proper>\\n        <Proper smirks=\"[#6X4:1]-[#16X4,#16X3+0:2]-[#7X3:3]-[#6X3:4]\" periodicity1=\"3\" periodicity2=\"2\" phase1=\"90.0 * degree\" phase2=\"0.0 * degree\" id=\"t142\" k1=\"-0.5115798651529 * mole**-1 * kilocalorie\" k2=\"0.3513554219098 * mole**-1 * kilocalorie\" idivf1=\"1.0\" idivf2=\"1.0\"></Proper>\\n        <Proper smirks=\"[#8X1:1]~[#16X4,#16X3+0:2]-[#7X3:3]-[#6X3:4]\" periodicity1=\"1\" phase1=\"0.0 * degree\" id=\"t143\" k1=\"0.5204853446121 * mole**-1 * kilocalorie\" idivf1=\"1.0\"></Proper>\\n        <Proper smirks=\"[#8X1:1]~[#16X4,#16X3+0:2]-[#7X3:3]-[#7X2:4]\" periodicity1=\"1\" phase1=\"0.0 * degree\" id=\"t144\" k1=\"0.082636589537 * mole**-1 * kilocalorie\" idivf1=\"1.0\"></Proper>\\n        <Proper smirks=\"[*:1]~[#16X4,#16X3+0:2]=,:[#7X2:3]-,:[*:4]\" periodicity1=\"1\" phase1=\"0.0 * degree\" id=\"t145\" k1=\"0.5686755047811 * mole**-1 * kilocalorie\" idivf1=\"1.0\"></Proper>\\n        <Proper smirks=\"[#6X4:1]-[#16X4,#16X3+0:2]-[#7X2:3]~[#6X3:4]\" periodicity1=\"6\" periodicity2=\"5\" periodicity3=\"4\" periodicity4=\"3\" periodicity5=\"2\" periodicity6=\"1\" phase1=\"0.0 * degree\" phase2=\"0.0 * degree\" phase3=\"0.0 * degree\" phase4=\"0.0 * degree\" phase5=\"180.0 * degree\" phase6=\"0.0 * degree\" id=\"t146\" k1=\"-0.04293656207661 * mole**-1 * kilocalorie\" k2=\"0.05452276164746 * mole**-1 * kilocalorie\" k3=\"-0.006702001785213 * mole**-1 * kilocalorie\" k4=\"0.6025395053532 * mole**-1 * kilocalorie\" k5=\"1.148430499942 * mole**-1 * kilocalorie\" k6=\"0.8640302155923 * mole**-1 * kilocalorie\" idivf1=\"1.0\" idivf2=\"1.0\" idivf3=\"1.0\" idivf4=\"1.0\" idivf5=\"1.0\" idivf6=\"1.0\"></Proper>\\n        <Proper smirks=\"[#8X1:1]~[#16X4,#16X3+0:2]-[#7X2:3]~[#6X3:4]\" periodicity1=\"6\" periodicity2=\"5\" periodicity3=\"4\" periodicity4=\"2\" periodicity5=\"3\" periodicity6=\"1\" phase1=\"0.0 * degree\" phase2=\"0.0 * degree\" phase3=\"180.0 * degree\" phase4=\"180.0 * degree\" phase5=\"180.0 * degree\" phase6=\"0.0 * degree\" id=\"t147\" k1=\"0.635317599106 * mole**-1 * kilocalorie\" k2=\"-0.04078737475445 * mole**-1 * kilocalorie\" k3=\"0.5871078119327 * mole**-1 * kilocalorie\" k4=\"1.001778916402 * mole**-1 * kilocalorie\" k5=\"1.071646616274 * mole**-1 * kilocalorie\" k6=\"1.868726476464 * mole**-1 * kilocalorie\" idivf1=\"1.0\" idivf2=\"1.0\" idivf3=\"1.0\" idivf4=\"1.0\" idivf5=\"1.0\" idivf6=\"1.0\"></Proper>\\n        <Proper smirks=\"[*:1]~[#16X4,#16X3+0:2]-[#8X2:3]-[*:4]\" periodicity1=\"1\" phase1=\"0.0 * degree\" id=\"t148\" k1=\"0.09929852497968 * mole**-1 * kilocalorie\" idivf1=\"1.0\"></Proper>\\n        <Proper smirks=\"[*:1]-[#16X2,#16X3+1:2]-[#16X2,#16X3+1:3]-[*:4]\" periodicity1=\"2\" periodicity2=\"3\" phase1=\"0.0 * degree\" phase2=\"0.0 * degree\" id=\"t149\" k1=\"3.550844303916 * mole**-1 * kilocalorie\" k2=\"0.5462691169337 * mole**-1 * kilocalorie\" idivf1=\"1.0\" idivf2=\"1.0\"></Proper>\\n        <Proper smirks=\"[*:1]-[#8X2:2]-[#15:3]~[*:4]\" periodicity1=\"3\" phase1=\"0.0 * degree\" id=\"t150\" k1=\"0.5946925269495 * mole**-1 * kilocalorie\" idivf1=\"1.0\"></Proper>\\n        <Proper smirks=\"[#8X2:1]-[#15:2]-[#8X2:3]-[#6X4:4]\" periodicity1=\"3\" periodicity2=\"2\" phase1=\"0.0 * degree\" phase2=\"0.0 * degree\" id=\"t151\" k1=\"-0.6871617879539 * mole**-1 * kilocalorie\" k2=\"-0.7967740980432 * mole**-1 * kilocalorie\" idivf1=\"1.0\" idivf2=\"1.0\"></Proper>\\n        <Proper smirks=\"[*:1]~[#7X3:2]-[#15:3]~[*:4]\" periodicity1=\"2\" phase1=\"180.0 * degree\" id=\"t152\" k1=\"2.060743589157 * mole**-1 * kilocalorie\" idivf1=\"1.0\"></Proper>\\n        <Proper smirks=\"[*:1]-[#7:2]-[#15:3]=[*:4]\" periodicity1=\"2\" periodicity2=\"3\" phase1=\"180.0 * degree\" phase2=\"0.0 * degree\" id=\"t154\" k1=\"2.976194549128 * mole**-1 * kilocalorie\" k2=\"0.7309891402502 * mole**-1 * kilocalorie\" idivf1=\"1.0\" idivf2=\"1.0\"></Proper>\\n        <Proper smirks=\"[#6X3:1]-[#7:2]-[#15:3]=[*:4]\" periodicity1=\"1\" phase1=\"0.0 * degree\" id=\"t155\" k1=\"-0.476489155799 * mole**-1 * kilocalorie\" idivf1=\"1.0\"></Proper>\\n        <Proper smirks=\"[*:1]~[#7:2]=[#15:3]~[*:4]\" periodicity1=\"3\" phase1=\"0.0 * degree\" id=\"t155b\" k1=\"-0.9477893203365 * mole**-1 * kilocalorie\" idivf1=\"1.0\"></Proper>\\n        <Proper smirks=\"[*:1]-[*:2]#[*:3]-[*:4]\" periodicity1=\"1\" phase1=\"0.0 * degree\" id=\"t156\" k1=\"0.0 * mole**-1 * kilocalorie\" idivf1=\"1.0\"></Proper>\\n        <Proper smirks=\"[*:1]~[*:2]-[*:3]#[*:4]\" periodicity1=\"1\" phase1=\"0.0 * degree\" id=\"t157\" k1=\"0.0 * mole**-1 * kilocalorie\" idivf1=\"1.0\"></Proper>\\n        <Proper smirks=\"[*:1]~[*:2]=[#6,#7,#16,#15;X2:3]=[*:4]\" periodicity1=\"1\" phase1=\"0.0 * degree\" id=\"t158\" k1=\"0.0 * mole**-1 * kilocalorie\" idivf1=\"1.0\"></Proper>\\n        <Proper smirks=\"[#35H0X1x0!r+0A:1]-;!@[#6H2X4x0!r+0A:2](-;!@[#1H0X1x0!r+0A])(-;!@[#1H0X1x0!r+0A])-;!@[#8H1X2x0!r+0A:3]-;!@[#1H0X1x0!r+0A:4]\" periodicity1=\"1\" periodicity2=\"2\" periodicity3=\"3\" periodicity4=\"4\" phase1=\"0 * degree\" phase2=\"180 * degree\" phase3=\"0 * degree\" phase4=\"180 * degree\" id=\"t169\" k1=\"-4.997143720405e-06 * mole**-1 * kilocalorie\" k2=\"-2.13301284101 * mole**-1 * kilocalorie\" k3=\"0.6985897609319 * mole**-1 * kilocalorie\" k4=\"1.099622735499e-05 * mole**-1 * kilocalorie\" idivf1=\"1.0\" idivf2=\"1.0\" idivf3=\"1.0\" idivf4=\"1.0\"></Proper>\\n        <Proper smirks=\"[#1H0X1x0!r+0A:1]-;!@[#6H2X4x0!r+0A:2](-;!@[#1H0X1x0!r+0A])(-;!@[#35H0X1x0!r+0A])-;!@[#8H1X2x0!r+0A:3]-;!@[#1H0X1x0!r+0A:4]\" periodicity1=\"1\" periodicity2=\"2\" periodicity3=\"3\" periodicity4=\"4\" phase1=\"0 * degree\" phase2=\"180 * degree\" phase3=\"0 * degree\" phase4=\"180 * degree\" id=\"t170\" k1=\"5.198546441732e-06 * mole**-1 * kilocalorie\" k2=\"2.973054138758e-05 * mole**-1 * kilocalorie\" k3=\"0.2117661114928 * mole**-1 * kilocalorie\" k4=\"-0.05708729066233 * mole**-1 * kilocalorie\" idivf1=\"1.0\" idivf2=\"1.0\" idivf3=\"1.0\" idivf4=\"1.0\"></Proper>\\n    </ProperTorsions>\\n    <ImproperTorsions version=\"0.3\" potential=\"k*(1+cos(periodicity*theta-phase))\" default_idivf=\"auto\">\\n        <Improper smirks=\"[*:1]~[#6X3:2](~[*:3])~[*:4]\" periodicity1=\"2\" phase1=\"180.0 * degree\" k1=\"1.1 * mole**-1 * kilocalorie\" id=\"i1\"></Improper>\\n        <Improper smirks=\"[*:1]~[#6X3:2](~[#8X1:3])~[#8:4]\" periodicity1=\"2\" phase1=\"180.0 * degree\" k1=\"10.5 * mole**-1 * kilocalorie\" id=\"i2\"></Improper>\\n        <Improper smirks=\"[*:1]~[#7X3$(*~[#15,#16](!-[*])):2](~[*:3])~[*:4]\" periodicity1=\"2\" phase1=\"180.0 * degree\" k1=\"1.1 * mole**-1 * kilocalorie\" id=\"i2a\"></Improper>\\n        <Improper smirks=\"[*:1]~[#7X3$(*~[#6X3]):2](~[*:3])~[*:4]\" periodicity1=\"2\" phase1=\"180.0 * degree\" k1=\"1.0 * mole**-1 * kilocalorie\" id=\"i3\"></Improper>\\n        <Improper smirks=\"[*:1]~[#7X3$(*~[#7X2]):2](~[*:3])~[*:4]\" periodicity1=\"2\" phase1=\"180.0 * degree\" k1=\"1.1 * mole**-1 * kilocalorie\" id=\"i3a\"></Improper>\\n        <Improper smirks=\"[*:1]~[#7X3$(*@1-[*]=,:[*][*]=,:[*]@1):2](~[*:3])~[*:4]\" periodicity1=\"2\" phase1=\"180.0 * degree\" k1=\"10.5 * mole**-1 * kilocalorie\" id=\"i3b\"></Improper>\\n        <Improper smirks=\"[*:1]~[#6X3:2](=[#7X2,#7X3+1:3])~[#7:4]\" periodicity1=\"2\" phase1=\"180.0 * degree\" k1=\"10.5 * mole**-1 * kilocalorie\" id=\"i4\"></Improper>\\n    </ImproperTorsions>\\n    <vdW version=\"0.3\" potential=\"Lennard-Jones-12-6\" combining_rules=\"Lorentz-Berthelot\" scale12=\"0.0\" scale13=\"0.0\" scale14=\"0.5\" scale15=\"1.0\" cutoff=\"9.0 * angstrom\" switch_width=\"1.0 * angstrom\" method=\"cutoff\">\\n        <Atom smirks=\"[#1:1]\" epsilon=\"0.0157 * mole**-1 * kilocalorie\" id=\"n1\" rmin_half=\"0.6 * angstrom\"></Atom>\\n        <Atom smirks=\"[#1:1]-[#6X4]\" epsilon=\"0.0157 * mole**-1 * kilocalorie\" id=\"n2\" rmin_half=\"1.487 * angstrom\"></Atom>\\n        <Atom smirks=\"[#1:1]-[#6X4]-[#7,#8,#9,#16,#17,#35]\" epsilon=\"0.0157 * mole**-1 * kilocalorie\" id=\"n3\" rmin_half=\"1.387 * angstrom\"></Atom>\\n        <Atom smirks=\"[#1:1]-[#6X4](-[#7,#8,#9,#16,#17,#35])-[#7,#8,#9,#16,#17,#35]\" epsilon=\"0.0157 * mole**-1 * kilocalorie\" id=\"n4\" rmin_half=\"1.287 * angstrom\"></Atom>\\n        <Atom smirks=\"[#1:1]-[#6X4](-[#7,#8,#9,#16,#17,#35])(-[#7,#8,#9,#16,#17,#35])-[#7,#8,#9,#16,#17,#35]\" epsilon=\"0.0157 * mole**-1 * kilocalorie\" id=\"n5\" rmin_half=\"1.187 * angstrom\"></Atom>\\n        <Atom smirks=\"[#1:1]-[#6X4]~[*+1,*+2]\" epsilon=\"0.0157 * mole**-1 * kilocalorie\" id=\"n6\" rmin_half=\"1.1 * angstrom\"></Atom>\\n        <Atom smirks=\"[#1:1]-[#6X3]\" epsilon=\"0.015 * mole**-1 * kilocalorie\" id=\"n7\" rmin_half=\"1.459 * angstrom\"></Atom>\\n        <Atom smirks=\"[#1:1]-[#6X3]~[#7,#8,#9,#16,#17,#35]\" epsilon=\"0.015 * mole**-1 * kilocalorie\" id=\"n8\" rmin_half=\"1.409 * angstrom\"></Atom>\\n        <Atom smirks=\"[#1:1]-[#6X3](~[#7,#8,#9,#16,#17,#35])~[#7,#8,#9,#16,#17,#35]\" epsilon=\"0.015 * mole**-1 * kilocalorie\" id=\"n9\" rmin_half=\"1.359 * angstrom\"></Atom>\\n        <Atom smirks=\"[#1:1]-[#6X2]\" epsilon=\"0.015 * mole**-1 * kilocalorie\" id=\"n10\" rmin_half=\"1.459 * angstrom\"></Atom>\\n        <Atom smirks=\"[#1:1]-[#7]\" epsilon=\"0.0157 * mole**-1 * kilocalorie\" id=\"n11\" rmin_half=\"0.6 * angstrom\"></Atom>\\n        <Atom smirks=\"[#1:1]-[#8]\" epsilon=\"5.27e-05 * mole**-1 * kilocalorie\" id=\"n12\" rmin_half=\"0.3 * angstrom\"></Atom>\\n        <Atom smirks=\"[#1:1]-[#16]\" epsilon=\"0.0157 * mole**-1 * kilocalorie\" id=\"n13\" rmin_half=\"0.6 * angstrom\"></Atom>\\n        <Atom smirks=\"[#6:1]\" epsilon=\"0.086 * mole**-1 * kilocalorie\" id=\"n14\" rmin_half=\"1.908 * angstrom\"></Atom>\\n        <Atom smirks=\"[#6X2:1]\" epsilon=\"0.21 * mole**-1 * kilocalorie\" id=\"n15\" rmin_half=\"1.908 * angstrom\"></Atom>\\n        <Atom smirks=\"[#6X4:1]\" epsilon=\"0.1094 * mole**-1 * kilocalorie\" id=\"n16\" rmin_half=\"1.908 * angstrom\"></Atom>\\n        <Atom smirks=\"[#8:1]\" epsilon=\"0.21 * mole**-1 * kilocalorie\" id=\"n17\" rmin_half=\"1.6612 * angstrom\"></Atom>\\n        <Atom smirks=\"[#8X2H0+0:1]\" epsilon=\"0.17 * mole**-1 * kilocalorie\" id=\"n18\" rmin_half=\"1.6837 * angstrom\"></Atom>\\n        <Atom smirks=\"[#8X2H1+0:1]\" epsilon=\"0.2104 * mole**-1 * kilocalorie\" id=\"n19\" rmin_half=\"1.721 * angstrom\"></Atom>\\n        <Atom smirks=\"[#7:1]\" epsilon=\"0.17 * mole**-1 * kilocalorie\" id=\"n20\" rmin_half=\"1.824 * angstrom\"></Atom>\\n        <Atom smirks=\"[#16:1]\" epsilon=\"0.25 * mole**-1 * kilocalorie\" id=\"n21\" rmin_half=\"2.0 * angstrom\"></Atom>\\n        <Atom smirks=\"[#15:1]\" epsilon=\"0.2 * mole**-1 * kilocalorie\" id=\"n22\" rmin_half=\"2.1 * angstrom\"></Atom>\\n        <Atom smirks=\"[#9:1]\" epsilon=\"0.061 * mole**-1 * kilocalorie\" id=\"n23\" rmin_half=\"1.75 * angstrom\"></Atom>\\n        <Atom smirks=\"[#17:1]\" epsilon=\"0.265 * mole**-1 * kilocalorie\" id=\"n24\" rmin_half=\"1.948 * angstrom\"></Atom>\\n        <Atom smirks=\"[#35:1]\" epsilon=\"0.32 * mole**-1 * kilocalorie\" id=\"n25\" rmin_half=\"2.22 * angstrom\"></Atom>\\n        <Atom smirks=\"[#53:1]\" epsilon=\"0.4 * mole**-1 * kilocalorie\" id=\"n26\" rmin_half=\"2.35 * angstrom\"></Atom>\\n        <Atom smirks=\"[#3+1:1]\" epsilon=\"0.0279896 * mole**-1 * kilocalorie\" id=\"n27\" rmin_half=\"1.025 * angstrom\"></Atom>\\n        <Atom smirks=\"[#11+1:1]\" epsilon=\"0.0874393 * mole**-1 * kilocalorie\" id=\"n28\" rmin_half=\"1.369 * angstrom\"></Atom>\\n        <Atom smirks=\"[#19+1:1]\" epsilon=\"0.1936829 * mole**-1 * kilocalorie\" id=\"n29\" rmin_half=\"1.705 * angstrom\"></Atom>\\n        <Atom smirks=\"[#37+1:1]\" epsilon=\"0.3278219 * mole**-1 * kilocalorie\" id=\"n30\" rmin_half=\"1.813 * angstrom\"></Atom>\\n        <Atom smirks=\"[#55+1:1]\" epsilon=\"0.4065394 * mole**-1 * kilocalorie\" id=\"n31\" rmin_half=\"1.976 * angstrom\"></Atom>\\n        <Atom smirks=\"[#9X0-1:1]\" epsilon=\"0.003364 * mole**-1 * kilocalorie\" id=\"n32\" rmin_half=\"2.303 * angstrom\"></Atom>\\n        <Atom smirks=\"[#17X0-1:1]\" epsilon=\"0.035591 * mole**-1 * kilocalorie\" id=\"n33\" rmin_half=\"2.513 * angstrom\"></Atom>\\n        <Atom smirks=\"[#35X0-1:1]\" epsilon=\"0.0586554 * mole**-1 * kilocalorie\" id=\"n34\" rmin_half=\"2.608 * angstrom\"></Atom>\\n        <Atom smirks=\"[#53X0-1:1]\" epsilon=\"0.0536816 * mole**-1 * kilocalorie\" id=\"n35\" rmin_half=\"2.86 * angstrom\"></Atom>\\n    </vdW>\\n    <Electrostatics version=\"0.3\" scale12=\"0.0\" scale13=\"0.0\" scale14=\"0.8333333333\" scale15=\"1.0\" cutoff=\"9.0 * angstrom\" switch_width=\"0.0 * angstrom\" method=\"PME\"></Electrostatics>\\n    <LibraryCharges version=\"0.3\">\\n        <LibraryCharge smirks=\"[#3+1:1]\" charge1=\"1.0 * elementary_charge\" name=\"Li+\"></LibraryCharge>\\n        <LibraryCharge smirks=\"[#11+1:1]\" charge1=\"1.0 * elementary_charge\" name=\"Na+\"></LibraryCharge>\\n        <LibraryCharge smirks=\"[#19+1:1]\" charge1=\"1.0 * elementary_charge\" name=\"K+\"></LibraryCharge>\\n        <LibraryCharge smirks=\"[#37+1:1]\" charge1=\"1.0 * elementary_charge\" name=\"Rb+\"></LibraryCharge>\\n        <LibraryCharge smirks=\"[#55+1:1]\" charge1=\"1.0 * elementary_charge\" name=\"Cs+\"></LibraryCharge>\\n        <LibraryCharge smirks=\"[#9X0-1:1]\" charge1=\"-1.0 * elementary_charge\" name=\"F-\"></LibraryCharge>\\n        <LibraryCharge smirks=\"[#17X0-1:1]\" charge1=\"-1.0 * elementary_charge\" name=\"Cl-\"></LibraryCharge>\\n        <LibraryCharge smirks=\"[#35X0-1:1]\" charge1=\"-1.0 * elementary_charge\" name=\"Br-\"></LibraryCharge>\\n        <LibraryCharge smirks=\"[#53X0-1:1]\" charge1=\"-1.0 * elementary_charge\" name=\"I-\"></LibraryCharge>\\n    </LibraryCharges>\\n    <ToolkitAM1BCC version=\"0.3\"></ToolkitAM1BCC>\\n</SMIRNOFF>'), links={'image': '/api/v1/tasks/13/image'})"
      ]
     },
     "execution_count": 23,
     "metadata": {},
     "output_type": "execute_result"
    }
   ],
   "source": [
    "result"
   ]
  },
  {
   "cell_type": "markdown",
   "id": "84b22a7f",
   "metadata": {},
   "source": [
    "As our optimization task works through each stage you should see them complete with a tick and once all tasks are complete\n",
    "the executor will shut down for us and clean up the workers as well! We can then check the result object to make sure\n",
    "each stage did finish with no errors."
   ]
  },
  {
   "cell_type": "code",
   "execution_count": 17,
   "id": "435bea97",
   "metadata": {
    "scrolled": true
   },
   "outputs": [
    {
     "name": "stdout",
     "output_type": "stream",
     "text": [
      "fragmentation success\n",
      "qc-generation success\n",
      "optimization success\n"
     ]
    }
   ],
   "source": [
    "for stage in result.stages:\n",
    "    print(stage.type, stage.status)"
   ]
  },
  {
   "cell_type": "markdown",
   "id": "b45f0b79",
   "metadata": {},
   "source": [
    "## Inspecting the Optimized Parameters\n",
    "\n",
    "Once the torsion optimization is complete a result schema is returned. The schema contains the final optimized\n",
    "parameters that can be used with the `openff-toolkit` in workflows to parameterize molecules and set up systems in\n",
    "OpenMM to run dynamics. The result schema also contains all provenance information which can help with reproducibility.\n",
    "\n",
    "Now to convince ourselves that the optimization was successful and has lead to an improvement in the parameters - lets load\n",
    "the final output from ForceBalance."
   ]
  },
  {
   "cell_type": "code",
   "execution_count": 18,
   "id": "68295664",
   "metadata": {},
   "outputs": [
    {
     "data": {
      "text/html": [
       "\n",
       "        <iframe\n",
       "            width=\"900\"\n",
       "            height=\"600\"\n",
       "            src=\"bespoke-executor/f123a6db-cdb4-4e6c-aa2e-22c8faba390c/optimize.tmp/torsion-0/iter_0002/plot_torsion.pdf\"\n",
       "            frameborder=\"0\"\n",
       "            allowfullscreen\n",
       "            \n",
       "        ></iframe>\n",
       "        "
      ],
      "text/plain": [
       "<IPython.lib.display.IFrame at 0x168e280d0>"
      ]
     },
     "execution_count": 18,
     "metadata": {},
     "output_type": "execute_result"
    }
   ],
   "source": [
    "from IPython.display import IFrame\n",
    "\n",
    "opt_id = f\"bespoke-executor/{result.results.input_schema.id}/optimize.tmp/torsion-0/iter_0002/plot_torsion.pdf\"\n",
    "\n",
    "IFrame(\n",
    "    opt_id, \n",
    "    width=900, \n",
    "    height=600)"
   ]
  },
  {
   "cell_type": "markdown",
   "id": "f9ab4fa2",
   "metadata": {},
   "source": [
    "BespokeFit has been successful as there is a clear improvement in the PES around this torsion with respect to the reference data.\n",
    "We can also plot how the parameters have changed during optimization as the result schema stores the initial and\n",
    "final torsion parameters."
   ]
  },
  {
   "cell_type": "code",
   "execution_count": 204,
   "id": "8bb9d4b5",
   "metadata": {},
   "outputs": [
    {
     "name": "stdout",
     "output_type": "stream",
     "text": [
      "{ProperTorsionSMIRKS(type='ProperTorsions', smirks='[#35H0X1x0!r+0A:1]-;!@[#6H2X4x0!r+0A:2](-;!@[#1H0X1x0!r+0A])(-;!@[#1H0X1x0!r+0A])-;!@[#8H1X2x0!r+0A:3]-;!@[#1H0X1x0!r+0A:4]', attributes={'k2', 'k4', 'k1', 'k3'}): {'k1': Quantity(value=-4.997143720405e-06, unit=kilocalorie/mole),\n",
      "                                                                                                                                                                                                                         'k2': Quantity(value=-2.13301284101, unit=kilocalorie/mole),\n",
      "                                                                                                                                                                                                                         'k3': Quantity(value=0.6985897609319, unit=kilocalorie/mole),\n",
      "                                                                                                                                                                                                                         'k4': Quantity(value=1.099622735499e-05, unit=kilocalorie/mole)},\n",
      " ProperTorsionSMIRKS(type='ProperTorsions', smirks='[#1H0X1x0!r+0A:1]-;!@[#6H2X4x0!r+0A:2](-;!@[#1H0X1x0!r+0A])(-;!@[#35H0X1x0!r+0A])-;!@[#8H1X2x0!r+0A:3]-;!@[#1H0X1x0!r+0A:4]', attributes={'k2', 'k4', 'k1', 'k3'}): {'k1': Quantity(value=5.198546441732e-06, unit=kilocalorie/mole),\n",
      "                                                                                                                                                                                                                         'k2': Quantity(value=2.973054138758e-05, unit=kilocalorie/mole),\n",
      "                                                                                                                                                                                                                         'k3': Quantity(value=0.2117661114928, unit=kilocalorie/mole),\n",
      "                                                                                                                                                                                                                         'k4': Quantity(value=-0.05708729066233, unit=kilocalorie/mole)}}\n"
     ]
    }
   ],
   "source": [
    "#new torions\n",
    "pprint(result.results.refit_parameter_values)\n"
   ]
  },
  {
   "cell_type": "code",
   "execution_count": 198,
   "id": "ecabf214",
   "metadata": {},
   "outputs": [
    {
     "data": {
      "text/plain": [
       "[('[#35H0X1x0!r+0A:1]-;!@[#6H2X4x0!r+0A:2](-;!@[#1H0X1x0!r+0A])(-;!@[#1H0X1x0!r+0A])-;!@[#8H1X2x0!r+0A:3]-;!@[#1H0X1x0!r+0A:4]',\n",
       "  {'k2': 0, 'k4': 0, 'k1': 0, 'k3': 0.6985935181583}),\n",
       " ('[#1H0X1x0!r+0A:1]-;!@[#6H2X4x0!r+0A:2](-;!@[#1H0X1x0!r+0A])(-;!@[#35H0X1x0!r+0A])-;!@[#8H1X2x0!r+0A:3]-;!@[#1H0X1x0!r+0A:4]',\n",
       "  {'k2': 0, 'k4': 0, 'k1': 0, 'k3': 0.6985935181583})]"
      ]
     },
     "execution_count": 198,
     "metadata": {},
     "output_type": "execute_result"
    }
   ],
   "source": [
    "minimalist = {torsion.smirks: {k: q._value for k, q in parameters.items()} for torsion, parameters in result.results.input_schema.initial_parameter_values.items()}\n",
    "with open(\"my_file.json\", \"w\") as f:\n",
    "  json.dump(minimalist, f)\n",
    "\n",
    "with open('my_file.json') as f:\n",
    "    data = list(json.load(f).items())\n",
    "#df = pd.DataFrame (list_name, columns = ['column_name'])\n",
    "data"
   ]
  },
  {
   "cell_type": "code",
   "execution_count": 196,
   "id": "b3388b20",
   "metadata": {},
   "outputs": [
    {
     "name": "stderr",
     "output_type": "stream",
     "text": [
      "/var/folders/k4/mfxydxms5xb72hl9c7pmc8880000gp/T/ipykernel_75771/3618329598.py:1: FutureWarning: The default value of regex will change from True to False in a future version. In addition, single character regular expressions will *not* be treated as literal strings when regex=True.\n",
      "  df['k_terms'] = df['k_terms'].str.replace(\"{\",\"\")\n"
     ]
    },
    {
     "data": {
      "text/html": [
       "<div>\n",
       "<style scoped>\n",
       "    .dataframe tbody tr th:only-of-type {\n",
       "        vertical-align: middle;\n",
       "    }\n",
       "\n",
       "    .dataframe tbody tr th {\n",
       "        vertical-align: top;\n",
       "    }\n",
       "\n",
       "    .dataframe thead th {\n",
       "        text-align: right;\n",
       "    }\n",
       "</style>\n",
       "<table border=\"1\" class=\"dataframe\">\n",
       "  <thead>\n",
       "    <tr style=\"text-align: right;\">\n",
       "      <th></th>\n",
       "      <th>smirks</th>\n",
       "      <th>k_terms</th>\n",
       "    </tr>\n",
       "  </thead>\n",
       "  <tbody>\n",
       "    <tr>\n",
       "      <th>0</th>\n",
       "      <td>[#35H0X1x0!r+0A:1]-;!@[#6H2X4x0!r+0A:2](-;!@[#...</td>\n",
       "      <td>NaN</td>\n",
       "    </tr>\n",
       "    <tr>\n",
       "      <th>1</th>\n",
       "      <td>[#1H0X1x0!r+0A:1]-;!@[#6H2X4x0!r+0A:2](-;!@[#1...</td>\n",
       "      <td>NaN</td>\n",
       "    </tr>\n",
       "  </tbody>\n",
       "</table>\n",
       "</div>"
      ],
      "text/plain": [
       "                                              smirks  k_terms\n",
       "0  [#35H0X1x0!r+0A:1]-;!@[#6H2X4x0!r+0A:2](-;!@[#...      NaN\n",
       "1  [#1H0X1x0!r+0A:1]-;!@[#6H2X4x0!r+0A:2](-;!@[#1...      NaN"
      ]
     },
     "execution_count": 196,
     "metadata": {},
     "output_type": "execute_result"
    }
   ],
   "source": [
    "df['k_terms'] = df['k_terms'].str.replace(\"{\",\"\")\n",
    "df"
   ]
  },
  {
   "cell_type": "code",
   "execution_count": 150,
   "id": "3fa1f115",
   "metadata": {},
   "outputs": [
    {
     "ename": "TypeError",
     "evalue": "keys must be str, int, float, bool or None, not ProperTorsionSMIRKS",
     "output_type": "error",
     "traceback": [
      "\u001b[0;31m---------------------------------------------------------------------------\u001b[0m",
      "\u001b[0;31mTypeError\u001b[0m                                 Traceback (most recent call last)",
      "\u001b[0;32m/var/folders/k4/mfxydxms5xb72hl9c7pmc8880000gp/T/ipykernel_75771/3241487746.py\u001b[0m in \u001b[0;36m<module>\u001b[0;34m\u001b[0m\n\u001b[1;32m      1\u001b[0m \u001b[0;32mwith\u001b[0m \u001b[0mopen\u001b[0m\u001b[0;34m(\u001b[0m\u001b[0;34m'convert.txt'\u001b[0m\u001b[0;34m,\u001b[0m \u001b[0;34m'w'\u001b[0m\u001b[0;34m)\u001b[0m \u001b[0;32mas\u001b[0m \u001b[0mconvert_file\u001b[0m\u001b[0;34m:\u001b[0m\u001b[0;34m\u001b[0m\u001b[0;34m\u001b[0m\u001b[0m\n\u001b[0;32m----> 2\u001b[0;31m      \u001b[0mconvert_file\u001b[0m\u001b[0;34m.\u001b[0m\u001b[0mwrite\u001b[0m\u001b[0;34m(\u001b[0m\u001b[0mjson\u001b[0m\u001b[0;34m.\u001b[0m\u001b[0mdumps\u001b[0m\u001b[0;34m(\u001b[0m\u001b[0md\u001b[0m\u001b[0;34m)\u001b[0m\u001b[0;34m)\u001b[0m\u001b[0;34m\u001b[0m\u001b[0;34m\u001b[0m\u001b[0m\n\u001b[0m",
      "\u001b[0;32m~/anaconda/envs/bespoke/lib/python3.9/json/__init__.py\u001b[0m in \u001b[0;36mdumps\u001b[0;34m(obj, skipkeys, ensure_ascii, check_circular, allow_nan, cls, indent, separators, default, sort_keys, **kw)\u001b[0m\n\u001b[1;32m    229\u001b[0m         \u001b[0mcls\u001b[0m \u001b[0;32mis\u001b[0m \u001b[0;32mNone\u001b[0m \u001b[0;32mand\u001b[0m \u001b[0mindent\u001b[0m \u001b[0;32mis\u001b[0m \u001b[0;32mNone\u001b[0m \u001b[0;32mand\u001b[0m \u001b[0mseparators\u001b[0m \u001b[0;32mis\u001b[0m \u001b[0;32mNone\u001b[0m \u001b[0;32mand\u001b[0m\u001b[0;34m\u001b[0m\u001b[0;34m\u001b[0m\u001b[0m\n\u001b[1;32m    230\u001b[0m         default is None and not sort_keys and not kw):\n\u001b[0;32m--> 231\u001b[0;31m         \u001b[0;32mreturn\u001b[0m \u001b[0m_default_encoder\u001b[0m\u001b[0;34m.\u001b[0m\u001b[0mencode\u001b[0m\u001b[0;34m(\u001b[0m\u001b[0mobj\u001b[0m\u001b[0;34m)\u001b[0m\u001b[0;34m\u001b[0m\u001b[0;34m\u001b[0m\u001b[0m\n\u001b[0m\u001b[1;32m    232\u001b[0m     \u001b[0;32mif\u001b[0m \u001b[0mcls\u001b[0m \u001b[0;32mis\u001b[0m \u001b[0;32mNone\u001b[0m\u001b[0;34m:\u001b[0m\u001b[0;34m\u001b[0m\u001b[0;34m\u001b[0m\u001b[0m\n\u001b[1;32m    233\u001b[0m         \u001b[0mcls\u001b[0m \u001b[0;34m=\u001b[0m \u001b[0mJSONEncoder\u001b[0m\u001b[0;34m\u001b[0m\u001b[0;34m\u001b[0m\u001b[0m\n",
      "\u001b[0;32m~/anaconda/envs/bespoke/lib/python3.9/json/encoder.py\u001b[0m in \u001b[0;36mencode\u001b[0;34m(self, o)\u001b[0m\n\u001b[1;32m    197\u001b[0m         \u001b[0;31m# exceptions aren't as detailed.  The list call should be roughly\u001b[0m\u001b[0;34m\u001b[0m\u001b[0;34m\u001b[0m\u001b[0m\n\u001b[1;32m    198\u001b[0m         \u001b[0;31m# equivalent to the PySequence_Fast that ''.join() would do.\u001b[0m\u001b[0;34m\u001b[0m\u001b[0;34m\u001b[0m\u001b[0m\n\u001b[0;32m--> 199\u001b[0;31m         \u001b[0mchunks\u001b[0m \u001b[0;34m=\u001b[0m \u001b[0mself\u001b[0m\u001b[0;34m.\u001b[0m\u001b[0miterencode\u001b[0m\u001b[0;34m(\u001b[0m\u001b[0mo\u001b[0m\u001b[0;34m,\u001b[0m \u001b[0m_one_shot\u001b[0m\u001b[0;34m=\u001b[0m\u001b[0;32mTrue\u001b[0m\u001b[0;34m)\u001b[0m\u001b[0;34m\u001b[0m\u001b[0;34m\u001b[0m\u001b[0m\n\u001b[0m\u001b[1;32m    200\u001b[0m         \u001b[0;32mif\u001b[0m \u001b[0;32mnot\u001b[0m \u001b[0misinstance\u001b[0m\u001b[0;34m(\u001b[0m\u001b[0mchunks\u001b[0m\u001b[0;34m,\u001b[0m \u001b[0;34m(\u001b[0m\u001b[0mlist\u001b[0m\u001b[0;34m,\u001b[0m \u001b[0mtuple\u001b[0m\u001b[0;34m)\u001b[0m\u001b[0;34m)\u001b[0m\u001b[0;34m:\u001b[0m\u001b[0;34m\u001b[0m\u001b[0;34m\u001b[0m\u001b[0m\n\u001b[1;32m    201\u001b[0m             \u001b[0mchunks\u001b[0m \u001b[0;34m=\u001b[0m \u001b[0mlist\u001b[0m\u001b[0;34m(\u001b[0m\u001b[0mchunks\u001b[0m\u001b[0;34m)\u001b[0m\u001b[0;34m\u001b[0m\u001b[0;34m\u001b[0m\u001b[0m\n",
      "\u001b[0;32m~/anaconda/envs/bespoke/lib/python3.9/json/encoder.py\u001b[0m in \u001b[0;36miterencode\u001b[0;34m(self, o, _one_shot)\u001b[0m\n\u001b[1;32m    255\u001b[0m                 \u001b[0mself\u001b[0m\u001b[0;34m.\u001b[0m\u001b[0mkey_separator\u001b[0m\u001b[0;34m,\u001b[0m \u001b[0mself\u001b[0m\u001b[0;34m.\u001b[0m\u001b[0mitem_separator\u001b[0m\u001b[0;34m,\u001b[0m \u001b[0mself\u001b[0m\u001b[0;34m.\u001b[0m\u001b[0msort_keys\u001b[0m\u001b[0;34m,\u001b[0m\u001b[0;34m\u001b[0m\u001b[0;34m\u001b[0m\u001b[0m\n\u001b[1;32m    256\u001b[0m                 self.skipkeys, _one_shot)\n\u001b[0;32m--> 257\u001b[0;31m         \u001b[0;32mreturn\u001b[0m \u001b[0m_iterencode\u001b[0m\u001b[0;34m(\u001b[0m\u001b[0mo\u001b[0m\u001b[0;34m,\u001b[0m \u001b[0;36m0\u001b[0m\u001b[0;34m)\u001b[0m\u001b[0;34m\u001b[0m\u001b[0;34m\u001b[0m\u001b[0m\n\u001b[0m\u001b[1;32m    258\u001b[0m \u001b[0;34m\u001b[0m\u001b[0m\n\u001b[1;32m    259\u001b[0m def _make_iterencode(markers, _default, _encoder, _indent, _floatstr,\n",
      "\u001b[0;31mTypeError\u001b[0m: keys must be str, int, float, bool or None, not ProperTorsionSMIRKS"
     ]
    }
   ],
   "source": [
    "# Split the interaction fingerprint\n",
    "fps = combined_df['IXFP_12'].str.split(' ', expand=True)\n",
    "\n",
    "# Add a prefix to the fingerprint columns (ifp_0, ifp_1, ifp_3, etc.)\n",
    "fps = fps.add_prefix('ifp_')\n",
    "\n",
    "# Add the split up fingerprint data to the dataframe that contains all consistent/inconsistent poses\n",
    "combined_df = pd.concat([combined_df, fps], axis=1)\n",
    "# drop the concatenated ixp IXFP_12\n",
    "combined_df = combined_df.drop(labels=\"IXFP_12\", axis=1)"
   ]
  },
  {
   "cell_type": "code",
   "execution_count": 130,
   "id": "3be7d90e",
   "metadata": {},
   "outputs": [],
   "source": [
    "with open(\"result.json\", \"w\") as output:\n",
    "    output.write(result.results.json())"
   ]
  },
  {
   "cell_type": "code",
   "execution_count": 134,
   "id": "74c8142f",
   "metadata": {},
   "outputs": [
    {
     "ename": "AttributeError",
     "evalue": "'dict' object has no attribute 'refit_parameter_values'",
     "output_type": "error",
     "traceback": [
      "\u001b[0;31m---------------------------------------------------------------------------\u001b[0m",
      "\u001b[0;31mAttributeError\u001b[0m                            Traceback (most recent call last)",
      "\u001b[0;32m/var/folders/k4/mfxydxms5xb72hl9c7pmc8880000gp/T/ipykernel_75771/3959199072.py\u001b[0m in \u001b[0;36m<module>\u001b[0;34m\u001b[0m\n\u001b[1;32m      1\u001b[0m \u001b[0mdata\u001b[0m \u001b[0;34m=\u001b[0m \u001b[0mjson\u001b[0m\u001b[0;34m.\u001b[0m\u001b[0mload\u001b[0m\u001b[0;34m(\u001b[0m \u001b[0mopen\u001b[0m\u001b[0;34m(\u001b[0m \u001b[0;34m\"result.json\"\u001b[0m \u001b[0;34m)\u001b[0m \u001b[0;34m)\u001b[0m\u001b[0;34m\u001b[0m\u001b[0;34m\u001b[0m\u001b[0m\n\u001b[0;32m----> 2\u001b[0;31m \u001b[0mdata\u001b[0m\u001b[0;34m.\u001b[0m\u001b[0mrefit_parameter_values\u001b[0m\u001b[0;34m\u001b[0m\u001b[0;34m\u001b[0m\u001b[0m\n\u001b[0m",
      "\u001b[0;31mAttributeError\u001b[0m: 'dict' object has no attribute 'refit_parameter_values'"
     ]
    }
   ],
   "source": [
    "data = json.load( open( \"result.json\" ) )\n",
    "data.refit_parameter_values"
   ]
  },
  {
   "cell_type": "code",
   "execution_count": 89,
   "id": "f688cb80",
   "metadata": {
    "scrolled": false
   },
   "outputs": [
    {
     "data": {
      "text/plain": [
       "{ProperTorsionSMIRKS(type='ProperTorsions', smirks='[#35H0X1x0!r+0A:1]-;!@[#6H2X4x0!r+0A:2](-;!@[#1H0X1x0!r+0A])(-;!@[#1H0X1x0!r+0A])-;!@[#8H1X2x0!r+0A:3]-;!@[#1H0X1x0!r+0A:4]', attributes={'k2', 'k4', 'k1', 'k3'}): {'k2': Quantity(value=0, unit=kilocalorie/mole),\n",
       "  'k4': Quantity(value=0, unit=kilocalorie/mole),\n",
       "  'k1': Quantity(value=0, unit=kilocalorie/mole),\n",
       "  'k3': Quantity(value=0.6985935181583, unit=kilocalorie/mole)},\n",
       " ProperTorsionSMIRKS(type='ProperTorsions', smirks='[#1H0X1x0!r+0A:1]-;!@[#6H2X4x0!r+0A:2](-;!@[#1H0X1x0!r+0A])(-;!@[#35H0X1x0!r+0A])-;!@[#8H1X2x0!r+0A:3]-;!@[#1H0X1x0!r+0A:4]', attributes={'k2', 'k4', 'k1', 'k3'}): {'k2': Quantity(value=0, unit=kilocalorie/mole),\n",
       "  'k4': Quantity(value=0, unit=kilocalorie/mole),\n",
       "  'k1': Quantity(value=0, unit=kilocalorie/mole),\n",
       "  'k3': Quantity(value=0.6985935181583, unit=kilocalorie/mole)}}"
      ]
     },
     "execution_count": 89,
     "metadata": {},
     "output_type": "execute_result"
    }
   ],
   "source": [
    "#initial torsions\n",
    "result.results.input_schema.initial_parameter_values"
   ]
  },
  {
   "cell_type": "code",
   "execution_count": 200,
   "id": "d0426961",
   "metadata": {},
   "outputs": [
    {
     "name": "stdout",
     "output_type": "stream",
     "text": [
      "[#35H0X1x0!r+0A:1]-;!@[#6H2X4x0!r+0A:2](-;!@[#1H0X1x0!r+0A])(-;!@[#1H0X1x0!r+0A])-;!@[#8H1X2x0!r+0A:3]-;!@[#1H0X1x0!r+0A:4]\n",
      "[#1H0X1x0!r+0A:1]-;!@[#6H2X4x0!r+0A:2](-;!@[#1H0X1x0!r+0A])(-;!@[#35H0X1x0!r+0A])-;!@[#8H1X2x0!r+0A:3]-;!@[#1H0X1x0!r+0A:4]\n"
     ]
    },
    {
     "data": {
      "text/plain": [
       "[['smirks_0_k1', 0, -4.997143720405e-06, -4.997143720405e-06],\n",
       " ['smirks_0_k2', 0, -2.13301284101, -2.13301284101],\n",
       " ['smirks_0_k3', 0.6985935181583, 0.6985897609319, -3.7572264000029776e-06],\n",
       " ['smirks_0_k4', 0, 1.099622735499e-05, 1.099622735499e-05],\n",
       " ['smirks_1_k1', 0, 5.198546441732e-06, 5.198546441732e-06],\n",
       " ['smirks_1_k2', 0, 2.973054138758e-05, 2.973054138758e-05],\n",
       " ['smirks_1_k3', 0.6985935181583, 0.2117661114928, -0.48682740666549995],\n",
       " ['smirks_1_k4', 0, -0.05708729066233, -0.05708729066233]]"
      ]
     },
     "execution_count": 200,
     "metadata": {},
     "output_type": "execute_result"
    }
   ],
   "source": [
    "parameter_data = []\n",
    "for i, (parameter, initial_values) in enumerate(result.results.input_schema.initial_parameter_values.items()):\n",
    "    for final_parameter, final_values in result.results.refit_parameter_values.items():\n",
    "        if parameter.smirks == final_parameter.smirks:\n",
    "            print(parameter.smirks)\n",
    "            for term in range(1, 5):\n",
    "                k_before = initial_values[f\"k{term}\"].value_in_unit(unit.kilocalorie_per_mole)\n",
    "                k_after = final_values[f\"k{term}\"].value_in_unit(unit.kilocalorie_per_mole)\n",
    "                parameter_data.append([f\"smirks_{i}_k{term}\", k_before, k_after, k_after - k_before])\n",
    "parameter_data\n",
    "# make a pandas dataframe\n",
    "#df = pd.DataFrame(parameter_data, columns=[\"parameter\", \"before\", \"after\", \"change\"])\n",
    "#df"
   ]
  },
  {
   "cell_type": "code",
   "execution_count": 202,
   "id": "bf25a76c",
   "metadata": {},
   "outputs": [
    {
     "data": {
      "text/html": [
       "<div>\n",
       "<style scoped>\n",
       "    .dataframe tbody tr th:only-of-type {\n",
       "        vertical-align: middle;\n",
       "    }\n",
       "\n",
       "    .dataframe tbody tr th {\n",
       "        vertical-align: top;\n",
       "    }\n",
       "\n",
       "    .dataframe thead th {\n",
       "        text-align: right;\n",
       "    }\n",
       "</style>\n",
       "<table border=\"1\" class=\"dataframe\">\n",
       "  <thead>\n",
       "    <tr style=\"text-align: right;\">\n",
       "      <th></th>\n",
       "      <th>smirks</th>\n",
       "      <th>parameter</th>\n",
       "      <th>before</th>\n",
       "      <th>after</th>\n",
       "      <th>change</th>\n",
       "    </tr>\n",
       "  </thead>\n",
       "  <tbody>\n",
       "    <tr>\n",
       "      <th>0</th>\n",
       "      <td>[#35H0X1x0!r+0A:1]-;!@[#6H2X4x0!r+0A:2](-;!@[#...</td>\n",
       "      <td>smirks_0_k1</td>\n",
       "      <td>0.000000</td>\n",
       "      <td>-0.000005</td>\n",
       "      <td>-0.000005</td>\n",
       "    </tr>\n",
       "    <tr>\n",
       "      <th>1</th>\n",
       "      <td>[#35H0X1x0!r+0A:1]-;!@[#6H2X4x0!r+0A:2](-;!@[#...</td>\n",
       "      <td>smirks_0_k2</td>\n",
       "      <td>0.000000</td>\n",
       "      <td>-2.133013</td>\n",
       "      <td>-2.133013</td>\n",
       "    </tr>\n",
       "    <tr>\n",
       "      <th>2</th>\n",
       "      <td>[#35H0X1x0!r+0A:1]-;!@[#6H2X4x0!r+0A:2](-;!@[#...</td>\n",
       "      <td>smirks_0_k3</td>\n",
       "      <td>0.698594</td>\n",
       "      <td>0.698590</td>\n",
       "      <td>-0.000004</td>\n",
       "    </tr>\n",
       "    <tr>\n",
       "      <th>3</th>\n",
       "      <td>[#35H0X1x0!r+0A:1]-;!@[#6H2X4x0!r+0A:2](-;!@[#...</td>\n",
       "      <td>smirks_0_k4</td>\n",
       "      <td>0.000000</td>\n",
       "      <td>0.000011</td>\n",
       "      <td>0.000011</td>\n",
       "    </tr>\n",
       "    <tr>\n",
       "      <th>4</th>\n",
       "      <td>[#1H0X1x0!r+0A:1]-;!@[#6H2X4x0!r+0A:2](-;!@[#1...</td>\n",
       "      <td>smirks_1_k1</td>\n",
       "      <td>0.000000</td>\n",
       "      <td>0.000005</td>\n",
       "      <td>0.000005</td>\n",
       "    </tr>\n",
       "    <tr>\n",
       "      <th>5</th>\n",
       "      <td>[#1H0X1x0!r+0A:1]-;!@[#6H2X4x0!r+0A:2](-;!@[#1...</td>\n",
       "      <td>smirks_1_k2</td>\n",
       "      <td>0.000000</td>\n",
       "      <td>0.000030</td>\n",
       "      <td>0.000030</td>\n",
       "    </tr>\n",
       "    <tr>\n",
       "      <th>6</th>\n",
       "      <td>[#1H0X1x0!r+0A:1]-;!@[#6H2X4x0!r+0A:2](-;!@[#1...</td>\n",
       "      <td>smirks_1_k3</td>\n",
       "      <td>0.698594</td>\n",
       "      <td>0.211766</td>\n",
       "      <td>-0.486827</td>\n",
       "    </tr>\n",
       "    <tr>\n",
       "      <th>7</th>\n",
       "      <td>[#1H0X1x0!r+0A:1]-;!@[#6H2X4x0!r+0A:2](-;!@[#1...</td>\n",
       "      <td>smirks_1_k4</td>\n",
       "      <td>0.000000</td>\n",
       "      <td>-0.057087</td>\n",
       "      <td>-0.057087</td>\n",
       "    </tr>\n",
       "  </tbody>\n",
       "</table>\n",
       "</div>"
      ],
      "text/plain": [
       "                                              smirks    parameter    before  \\\n",
       "0  [#35H0X1x0!r+0A:1]-;!@[#6H2X4x0!r+0A:2](-;!@[#...  smirks_0_k1  0.000000   \n",
       "1  [#35H0X1x0!r+0A:1]-;!@[#6H2X4x0!r+0A:2](-;!@[#...  smirks_0_k2  0.000000   \n",
       "2  [#35H0X1x0!r+0A:1]-;!@[#6H2X4x0!r+0A:2](-;!@[#...  smirks_0_k3  0.698594   \n",
       "3  [#35H0X1x0!r+0A:1]-;!@[#6H2X4x0!r+0A:2](-;!@[#...  smirks_0_k4  0.000000   \n",
       "4  [#1H0X1x0!r+0A:1]-;!@[#6H2X4x0!r+0A:2](-;!@[#1...  smirks_1_k1  0.000000   \n",
       "5  [#1H0X1x0!r+0A:1]-;!@[#6H2X4x0!r+0A:2](-;!@[#1...  smirks_1_k2  0.000000   \n",
       "6  [#1H0X1x0!r+0A:1]-;!@[#6H2X4x0!r+0A:2](-;!@[#1...  smirks_1_k3  0.698594   \n",
       "7  [#1H0X1x0!r+0A:1]-;!@[#6H2X4x0!r+0A:2](-;!@[#1...  smirks_1_k4  0.000000   \n",
       "\n",
       "      after    change  \n",
       "0 -0.000005 -0.000005  \n",
       "1 -2.133013 -2.133013  \n",
       "2  0.698590 -0.000004  \n",
       "3  0.000011  0.000011  \n",
       "4  0.000005  0.000005  \n",
       "5  0.000030  0.000030  \n",
       "6  0.211766 -0.486827  \n",
       "7 -0.057087 -0.057087  "
      ]
     },
     "execution_count": 202,
     "metadata": {},
     "output_type": "execute_result"
    }
   ],
   "source": [
    "import pandas as pd\n",
    "from simtk import unit\n",
    "\n",
    "parameter_data = []\n",
    "for i, (parameter, initial_values) in enumerate(result.results.input_schema.initial_parameter_values.items()):\n",
    "    for final_parameter, final_values in result.results.refit_parameter_values.items():\n",
    "        if parameter.smirks == final_parameter.smirks:\n",
    "            for term in range(1, 5):\n",
    "                k_before = initial_values[f\"k{term}\"].value_in_unit(unit.kilocalorie_per_mole)\n",
    "                k_after = final_values[f\"k{term}\"].value_in_unit(unit.kilocalorie_per_mole)\n",
    "                parameter_data.append([parameter.smirks, f\"smirks_{i}_k{term}\", k_before, k_after, k_after - k_before])\n",
    "\n",
    "# make a pandas dataframe\n",
    "df = pd.DataFrame(parameter_data, columns=[\"smirks\", \"parameter\", \"before\", \"after\", \"change\"])\n",
    "df"
   ]
  },
  {
   "cell_type": "code",
   "execution_count": 205,
   "id": "e9c8d0d5",
   "metadata": {},
   "outputs": [
    {
     "name": "stdout",
     "output_type": "stream",
     "text": [
      "{ProperTorsionSMIRKS(type='ProperTorsions', smirks='[#35H0X1x0!r+0A:1]-;!@[#6H2X4x0!r+0A:2](-;!@[#1H0X1x0!r+0A])(-;!@[#1H0X1x0!r+0A])-;!@[#8H1X2x0!r+0A:3]-;!@[#1H0X1x0!r+0A:4]', attributes={'k2', 'k4', 'k1', 'k3'}): {'k1': Quantity(value=-4.997143720405e-06, unit=kilocalorie/mole),\n",
      "                                                                                                                                                                                                                         'k2': Quantity(value=-2.13301284101, unit=kilocalorie/mole),\n",
      "                                                                                                                                                                                                                         'k3': Quantity(value=0.6985897609319, unit=kilocalorie/mole),\n",
      "                                                                                                                                                                                                                         'k4': Quantity(value=1.099622735499e-05, unit=kilocalorie/mole)},\n",
      " ProperTorsionSMIRKS(type='ProperTorsions', smirks='[#1H0X1x0!r+0A:1]-;!@[#6H2X4x0!r+0A:2](-;!@[#1H0X1x0!r+0A])(-;!@[#35H0X1x0!r+0A])-;!@[#8H1X2x0!r+0A:3]-;!@[#1H0X1x0!r+0A:4]', attributes={'k2', 'k4', 'k1', 'k3'}): {'k1': Quantity(value=5.198546441732e-06, unit=kilocalorie/mole),\n",
      "                                                                                                                                                                                                                         'k2': Quantity(value=2.973054138758e-05, unit=kilocalorie/mole),\n",
      "                                                                                                                                                                                                                         'k3': Quantity(value=0.2117661114928, unit=kilocalorie/mole),\n",
      "                                                                                                                                                                                                                         'k4': Quantity(value=-0.05708729066233, unit=kilocalorie/mole)}}\n"
     ]
    }
   ],
   "source": [
    "pprint(result.results.refit_parameter_values)\n"
   ]
  },
  {
   "cell_type": "code",
   "execution_count": 22,
   "id": "ccc48b6c",
   "metadata": {},
   "outputs": [
    {
     "data": {
      "image/png": "[encoded data removed]",
      "text/plain": [
       "<Figure size 360x576 with 1 Axes>"
      ]
     },
     "metadata": {
      "needs_background": "light"
     },
     "output_type": "display_data"
    }
   ],
   "source": [
    "import matplotlib.pyplot as plt\n",
    "import seaborn as sns\n",
    "%matplotlib inline\n",
    "\n",
    "plt.rc('font', size=16)\n",
    "\n",
    "\n",
    "ax = plt.figure(figsize=(5,8))\n",
    "#add start points\n",
    "ax = sns.stripplot(data=df, \n",
    "                   x='before', \n",
    "                   y='parameter', \n",
    "                   orient='h', \n",
    "                   order=df['parameter'], \n",
    "                   size=10, \n",
    "                   color='black')\n",
    "ax.grid(axis='y', color='0.9') \n",
    "#add arrows to plot only if the parameter changed by more than 1e-3 kcal/mol\n",
    "for i in range(len(df.index)):\n",
    "    term = df.iloc[i]\n",
    "    if abs(term[\"change\"]) > 1e-3:\n",
    "        if term[\"after\"] > term[\"before\"]:\n",
    "            arrow_color = '#347768'\n",
    "        elif term[\"after\"] < term[\"before\"]:\n",
    "            arrow_color = 'red'\n",
    "        else:\n",
    "            arrow_color = 'black'\n",
    "        ax.arrow(term[\"before\"],        \n",
    "                 i,                      \n",
    "                 term[\"change\"],    \n",
    "                 0,                     \n",
    "                 head_width=0.3,         \n",
    "                 head_length=0.2,       \n",
    "                 width=0.1,              \n",
    "                 fc=arrow_color,            \n",
    "                 ec=arrow_color)     \n",
    "ax.axvline(x=0, color='0.9', ls='--', lw=2, zorder=0)\n",
    "ax.set_xlabel('Force Constant (kcal/mol)')                               \n",
    "ax.set_ylabel('Torsion Parameter')                         \n",
    "sns.despine(left=True, bottom=True)"
   ]
  },
  {
   "cell_type": "markdown",
   "id": "12baaceb",
   "metadata": {},
   "source": [
    "## Conclusion\n",
    "\n",
    "To recap in this blog post we have:\n",
    "- Created and configured a general BespokeFit workflow\n",
    "- Built a molecule specific optimization schema\n",
    "- Spun up the BespokeFitExecutor and workers\n",
    "- Fragmented the molecule\n",
    "- Automatically generated torsiondrive reference data using QCEngine\n",
    "- Automatically generated bespoke SMARTS patterns for the molecule\n",
    "- Optimized the torsion parameters using ForceBalance\n",
    "\n",
    "Hopefully this demonstration has shown just how easy it is to set up a BespokeFit general fitting pipeline with a custom\n",
    "configuration and train bespoke parameters to reference data generated on the fly from just a few imports.  Better yet\n",
    "this whole process can now be routinely applied to new molecules from the CLI using our serialized workflow.\n",
    "\n",
    "`openff-bespoke executor run --input BrCO.sdf --spec-file workflow.json`"
   ]
  },
  {
   "cell_type": "code",
   "execution_count": null,
   "id": "faac0051",
   "metadata": {},
   "outputs": [],
   "source": []
  }
 ],
 "metadata": {
  "kernelspec": {
   "display_name": "bespokefit",
   "language": "python",
   "name": "bespokefit"
  },
  "language_info": {
   "codemirror_mode": {
    "name": "ipython",
    "version": 3
   },
   "file_extension": ".py",
   "mimetype": "text/x-python",
   "name": "python",
   "nbconvert_exporter": "python",
   "pygments_lexer": "ipython3",
   "version": "3.9.7"
  }
 },
 "nbformat": 4,
 "nbformat_minor": 5
}
