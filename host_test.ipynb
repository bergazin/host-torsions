{
 "cells": [
  {
   "cell_type": "code",
   "execution_count": 1,
   "id": "9cfe3f25",
   "metadata": {},
   "outputs": [
    {
     "name": "stderr",
     "output_type": "stream",
     "text": [
      "Warning: Unable to load toolkit 'AmberTools'. \n"
     ]
    }
   ],
   "source": [
    "from openff.toolkit.topology import Molecule\n",
    "from openff.bespokefit.workflows import BespokeWorkflowFactory\n",
    "from openff.bespokefit.executor import BespokeExecutor, wait_until_complete\n",
    "from openff.qcsubmit.common_structures import QCSpec\n",
    "import os"
   ]
  },
  {
   "cell_type": "code",
   "execution_count": 2,
   "id": "30fe666a",
   "metadata": {},
   "outputs": [
    {
     "data": {
      "application/vnd.jupyter.widget-view+json": {
       "model_id": "4c6973a9af4045cd8780e65ad7c2346c",
       "version_major": 2,
       "version_minor": 0
      },
      "text/plain": []
     },
     "metadata": {},
     "output_type": "display_data"
    },
    {
     "data": {
      "application/vnd.jupyter.widget-view+json": {
       "model_id": "7d67170ee5d34a6e9bb80abaa512afc8",
       "version_major": 2,
       "version_minor": 0
      },
      "text/plain": [
       "NGLWidget()"
      ]
     },
     "metadata": {},
     "output_type": "display_data"
    }
   ],
   "source": [
    "molecule = Molecule.from_file(\"OA-fragment-4/OA-fragment-4.sdf\")\n",
    "molecule\n"
   ]
  },
  {
   "cell_type": "code",
   "execution_count": 3,
   "id": "be391c49",
   "metadata": {},
   "outputs": [
    {
     "name": "stderr",
     "output_type": "stream",
     "text": [
      "Warning: Internal CIP error: node limit reached for atom IDX: 8, NODES: 139654\n",
      "Warning: Internal CIP error: node limit reached for atom IDX: 10, NODES: 139654\n",
      "Warning: Internal CIP error: node limit reached for atom IDX: 28, NODES: 139654\n",
      "Warning: Internal CIP error: node limit reached for atom IDX: 30, NODES: 139654\n"
     ]
    },
    {
     "data": {
      "application/vnd.jupyter.widget-view+json": {
       "model_id": "39a65c49e181431880a3812cdb9abe0b",
       "version_major": 2,
       "version_minor": 0
      },
      "text/plain": [
       "NGLWidget()"
      ]
     },
     "metadata": {},
     "output_type": "display_data"
    }
   ],
   "source": [
    "host = Molecule.from_file(\"OA-fragment-4/OA.sdf\")\n",
    "host"
   ]
  },
  {
   "cell_type": "code",
   "execution_count": 4,
   "id": "2abe8474",
   "metadata": {},
   "outputs": [
    {
     "data": {
      "text/plain": [
       "{'initial_force_field': 'openff_unconstrained-1.3.0.offxml',\n",
       " 'optimizer': {'type': 'ForceBalance',\n",
       "  'max_iterations': 10,\n",
       "  'job_type': 'optimize',\n",
       "  'penalty_type': 'L1',\n",
       "  'step_convergence_threshold': 0.01,\n",
       "  'objective_convergence_threshold': 0.01,\n",
       "  'gradient_convergence_threshold': 0.01,\n",
       "  'n_criteria': 2,\n",
       "  'eigenvalue_lower_bound': 0.01,\n",
       "  'finite_difference_h': 0.01,\n",
       "  'penalty_additive': 1.0,\n",
       "  'initial_trust_radius': -0.25,\n",
       "  'minimum_trust_radius': 0.05,\n",
       "  'error_tolerance': 1.0,\n",
       "  'adaptive_factor': 0.2,\n",
       "  'adaptive_damping': 1.0,\n",
       "  'normalize_weights': False,\n",
       "  'extras': {}},\n",
       " 'target_templates': [{'weight': 1.0,\n",
       "   'reference_data': None,\n",
       "   'extras': {},\n",
       "   'type': 'TorsionProfile',\n",
       "   'attenuate_weights': True,\n",
       "   'energy_denominator': 1.0,\n",
       "   'energy_cutoff': 10.0}],\n",
       " 'parameter_hyperparameters': [{'type': 'ProperTorsions',\n",
       "   'priors': {'k': 6.0}}],\n",
       " 'target_torsion_smirks': ['[!#1]~[!$(*#*)&!D1:1]-,=;!@[!$(*#*)&!D1:2]~[!#1]'],\n",
       " 'expand_torsion_terms': True,\n",
       " 'generate_bespoke_terms': True,\n",
       " 'fragmentation_engine': {'functional_groups': {'hydrazine': '[NX3:1][NX3:2]',\n",
       "   'hydrazone': '[NX3:1][NX2:2]',\n",
       "   'nitric_oxide': '[N:1]-[O:2]',\n",
       "   'amide': '[#7:1][#6:2](=[#8:3])',\n",
       "   'amide_n': '[#7:1][#6:2](-[O-:3])',\n",
       "   'amide_2': '[NX3:1][CX3:2](=[OX1:3])[NX3:4]',\n",
       "   'aldehyde': '[CX3H1:1](=[O:2])[#6:3]',\n",
       "   'sulfoxide_1': '[#16X3:1]=[OX1:2]',\n",
       "   'sulfoxide_2': '[#16X3+:1][OX1-:2]',\n",
       "   'sulfonyl': '[#16X4:1](=[OX1:2])=[OX1:3]',\n",
       "   'sulfinic_acid': '[#16X3:1](=[OX1:2])[OX2H,OX1H0-:3]',\n",
       "   'sulfinamide': '[#16X4:1](=[OX1:2])(=[OX1:3])([NX3R0:4])',\n",
       "   'sulfonic_acid': '[#16X4:1](=[OX1:2])(=[OX1:3])[OX2H,OX1H0-:4]',\n",
       "   'phosphine_oxide': '[PX4:1](=[OX1:2])([#6:3])([#6:4])([#6:5])',\n",
       "   'phosphonate': '[P:1](=[OX1:2])([OX2H,OX1-:3])([OX2H,OX1-:4])',\n",
       "   'phosphate': '[PX4:1](=[OX1:2])([#8:3])([#8:4])([#8:5])',\n",
       "   'carboxylic_acid': '[CX3:1](=[O:2])[OX1H0-,OX2H1:3]',\n",
       "   'nitro_1': '[NX3+:1](=[O:2])[O-:3]',\n",
       "   'nitro_2': '[NX3:1](=[O:2])=[O:3]',\n",
       "   'ester': '[CX3:1](=[O:2])[OX2H0:3]',\n",
       "   'tri_halide': '[#6:1]([F,Cl,I,Br:2])([F,Cl,I,Br:3])([F,Cl,I,Br:4])'},\n",
       "  'scheme': 'WBO',\n",
       "  'wbo_options': {'method': 'am1-wiberg-elf10',\n",
       "   'max_conformers': 800,\n",
       "   'rms_threshold': 1.0},\n",
       "  'threshold': 0.03,\n",
       "  'heuristic': 'path_length',\n",
       "  'keep_non_rotor_ring_substituents': False},\n",
       " 'default_qc_specs': [{'method': 'gfn2xtb',\n",
       "   'basis': None,\n",
       "   'program': 'xtb',\n",
       "   'spec_name': 'gfn2xtb',\n",
       "   'spec_description': 'gfn2xtb',\n",
       "   'store_wavefunction': 'none',\n",
       "   'implicit_solvent': None,\n",
       "   'maxiter': 200,\n",
       "   'scf_properties': ['dipole',\n",
       "    'quadrupole',\n",
       "    'wiberg_lowdin_indices',\n",
       "    'mayer_indices'],\n",
       "   'keywords': None}]}"
      ]
     },
     "execution_count": 4,
     "metadata": {},
     "output_type": "execute_result"
    }
   ],
   "source": [
    "workflow = BespokeWorkflowFactory(default_qc_specs=[QCSpec(method=\"gfn2xtb\", \n",
    "                                                           basis=None, \n",
    "                                                           program=\"xtb\", \n",
    "                                                           spec_name=\"gfn2xtb\", \n",
    "                                                           spec_description=\"gfn2xtb\")])\n",
    "workflow.dict()"
   ]
  },
  {
   "cell_type": "code",
   "execution_count": 5,
   "id": "334a8dbf",
   "metadata": {},
   "outputs": [
    {
     "name": "stderr",
     "output_type": "stream",
     "text": [
      "Warning: Unable to load toolkit 'AmberTools'. \n",
      "Warning: Unable to load toolkit 'AmberTools'. \n",
      "Warning: Unable to load toolkit 'AmberTools'. \n",
      "Warning: Unable to load toolkit 'AmberTools'. \n"
     ]
    },
    {
     "data": {
      "application/vnd.jupyter.widget-view+json": {
       "model_id": "",
       "version_major": 2,
       "version_minor": 0
      },
      "text/plain": [
       "Output()"
      ]
     },
     "metadata": {},
     "output_type": "display_data"
    },
    {
     "data": {
      "text/html": [
       "<pre style=\"white-space:pre;overflow-x:auto;line-height:normal;font-family:Menlo,'DejaVu Sans Mono',consolas,'Courier New',monospace\"></pre>\n"
      ],
      "text/plain": []
     },
     "metadata": {},
     "output_type": "display_data"
    },
    {
     "data": {
      "text/html": [
       "<pre style=\"white-space:pre;overflow-x:auto;line-height:normal;font-family:Menlo,'DejaVu Sans Mono',consolas,'Courier New',monospace\">\n",
       "</pre>\n"
      ],
      "text/plain": [
       "\n"
      ]
     },
     "metadata": {},
     "output_type": "display_data"
    },
    {
     "data": {
      "text/html": [
       "<pre style=\"white-space:pre;overflow-x:auto;line-height:normal;font-family:Menlo,'DejaVu Sans Mono',consolas,'Courier New',monospace\"><span style=\"font-weight: bold\">[</span><span style=\"color: #008000; text-decoration-color: #008000\">✓</span><span style=\"font-weight: bold\">]</span> fragmentation successful\n",
       "</pre>\n"
      ],
      "text/plain": [
       "\u001b[1m[\u001b[0m\u001b[32m✓\u001b[0m\u001b[1m]\u001b[0m fragmentation successful\n"
      ]
     },
     "metadata": {},
     "output_type": "display_data"
    },
    {
     "data": {
      "application/vnd.jupyter.widget-view+json": {
       "model_id": "",
       "version_major": 2,
       "version_minor": 0
      },
      "text/plain": [
       "Output()"
      ]
     },
     "metadata": {},
     "output_type": "display_data"
    },
    {
     "data": {
      "text/html": [
       "<pre style=\"white-space:pre;overflow-x:auto;line-height:normal;font-family:Menlo,'DejaVu Sans Mono',consolas,'Courier New',monospace\"></pre>\n"
      ],
      "text/plain": []
     },
     "metadata": {},
     "output_type": "display_data"
    },
    {
     "data": {
      "text/html": [
       "<pre style=\"white-space:pre;overflow-x:auto;line-height:normal;font-family:Menlo,'DejaVu Sans Mono',consolas,'Courier New',monospace\">\n",
       "</pre>\n"
      ],
      "text/plain": [
       "\n"
      ]
     },
     "metadata": {},
     "output_type": "display_data"
    },
    {
     "data": {
      "text/html": [
       "<pre style=\"white-space:pre;overflow-x:auto;line-height:normal;font-family:Menlo,'DejaVu Sans Mono',consolas,'Courier New',monospace\"><span style=\"font-weight: bold\">[</span><span style=\"color: #008000; text-decoration-color: #008000\">✓</span><span style=\"font-weight: bold\">]</span> qc-generation successful\n",
       "</pre>\n"
      ],
      "text/plain": [
       "\u001b[1m[\u001b[0m\u001b[32m✓\u001b[0m\u001b[1m]\u001b[0m qc-generation successful\n"
      ]
     },
     "metadata": {},
     "output_type": "display_data"
    },
    {
     "data": {
      "application/vnd.jupyter.widget-view+json": {
       "model_id": "",
       "version_major": 2,
       "version_minor": 0
      },
      "text/plain": [
       "Output()"
      ]
     },
     "metadata": {},
     "output_type": "display_data"
    },
    {
     "data": {
      "text/html": [
       "<pre style=\"white-space:pre;overflow-x:auto;line-height:normal;font-family:Menlo,'DejaVu Sans Mono',consolas,'Courier New',monospace\"></pre>\n"
      ],
      "text/plain": []
     },
     "metadata": {},
     "output_type": "display_data"
    },
    {
     "data": {
      "text/html": [
       "<pre style=\"white-space:pre;overflow-x:auto;line-height:normal;font-family:Menlo,'DejaVu Sans Mono',consolas,'Courier New',monospace\">\n",
       "</pre>\n"
      ],
      "text/plain": [
       "\n"
      ]
     },
     "metadata": {},
     "output_type": "display_data"
    },
    {
     "data": {
      "text/html": [
       "<pre style=\"white-space:pre;overflow-x:auto;line-height:normal;font-family:Menlo,'DejaVu Sans Mono',consolas,'Courier New',monospace\"><span style=\"font-weight: bold\">[</span><span style=\"color: #800000; text-decoration-color: #800000\">x</span><span style=\"font-weight: bold\">]</span> optimization failed\n",
       "</pre>\n"
      ],
      "text/plain": [
       "\u001b[1m[\u001b[0m\u001b[31mx\u001b[0m\u001b[1m]\u001b[0m optimization failed\n"
      ]
     },
     "metadata": {},
     "output_type": "display_data"
    },
    {
     "data": {
      "text/html": [
       "<pre style=\"white-space:pre;overflow-x:auto;line-height:normal;font-family:Menlo,'DejaVu Sans Mono',consolas,'Courier New',monospace\">                                                                                             \n",
       " <span style=\"font-weight: bold\">{</span><span style=\"color: #008000; text-decoration-color: #008000\">\"type\"</span>: <span style=\"color: #008000; text-decoration-color: #008000\">\"OSError\"</span>, <span style=\"color: #008000; text-decoration-color: #008000\">\"message\"</span>: <span style=\"color: #008000; text-decoration-color: #008000\">\"Source result/optimize/force-field.offxml could not be read.</span>\n",
       " <span style=\"color: #008000; text-decoration-color: #008000\">If this is a file, ensure that the path is correct.\\nIf the file is present, ensure it is in</span>\n",
       " <span style=\"color: #008000; text-decoration-color: #008000\">a known SMIRNOFF encoding.\\nValid formats are: ['XML']\\nParsing failed with the following </span>  \n",
       " <span style=\"color: #008000; text-decoration-color: #008000\">error:\\nnot well-formed (invalid token): line 1, column 6\\n\"</span>, <span style=\"color: #008000; text-decoration-color: #008000\">\"traceback\"</span>: <span style=\"color: #008000; text-decoration-color: #008000\">\"Traceback (most </span>\n",
       " <span style=\"color: #008000; text-decoration-color: #008000\">recent call last):\\n  File \\\"/Users/daniellebergaziin/anaconda/envs/bespoke/lib/python3.9/si</span>\n",
       " <span style=\"color: #008000; text-decoration-color: #008000\">te-packages/celery/app/trace.py\\\", line 450, in trace_task\\n    R = retval = fun(*args, </span>    \n",
       " <span style=\"color: #008000; text-decoration-color: #008000\">**kwargs)\\n  File \\\"/Users/daniellebergaziin/anaconda/envs/bespoke/lib/python3.9/site-packag</span>\n",
       " <span style=\"color: #008000; text-decoration-color: #008000\">es/celery/app/trace.py\\\", line 731, in __protected_call__\\n    return self.run(*args, </span>      \n",
       " <span style=\"color: #008000; text-decoration-color: #008000\">**kwargs)\\n  File \\\"/Users/daniellebergaziin/anaconda/envs/bespoke/lib/python3.9/site-packag</span>\n",
       " <span style=\"color: #008000; text-decoration-color: #008000\">es/openff/bespokefit/executor/services/optimizer/worker.py\\\", line 29, in optimize\\n    </span>    \n",
       " <span style=\"color: #008000; text-decoration-color: #008000\">result = optimizer.optimize(input_schema, keep_files=settings.BEFLOW_KEEP_FILES)\\n  File \\\"/</span>\n",
       " <span style=\"color: #008000; text-decoration-color: #008000\">Users/daniellebergaziin/anaconda/envs/bespoke/lib/python3.9/site-packages/openff/bespokefit/</span>\n",
       " <span style=\"color: #008000; text-decoration-color: #008000\">optimizers/model.py\\\", line 224, in optimize\\n    results = cls._optimize(schema)\\n  File \\\"</span>\n",
       " <span style=\"color: #008000; text-decoration-color: #008000\">/Users/daniellebergaziin/anaconda/envs/bespoke/lib/python3.9/site-packages/openff/bespokefit</span>\n",
       " <span style=\"color: #008000; text-decoration-color: #008000\">/optimizers/forcebalance/forcebalance.py\\\", line 113, in _optimize\\n    results = </span>          \n",
       " <span style=\"color: #008000; text-decoration-color: #008000\">cls._collect_results(\\\"\\\", schema=schema)\\n  File \\\"/Users/daniellebergaziin/anaconda/envs/b</span>\n",
       " <span style=\"color: #008000; text-decoration-color: #008000\">espoke/lib/python3.9/site-packages/openff/bespokefit/optimizers/forcebalance/forcebalance.py</span>\n",
       " <span style=\"color: #008000; text-decoration-color: #008000\">\\\", line 146, in _collect_results\\n    force_field_editor = </span>                                \n",
       " <span style=\"color: #008000; text-decoration-color: #008000\">ForceFieldEditor(results_dictionary[\\\"forcefield\\\"])\\n  File \\\"/Users/daniellebergaziin/anac</span>\n",
       " <span style=\"color: #008000; text-decoration-color: #008000\">onda/envs/bespoke/lib/python3.9/site-packages/openff/bespokefit/utilities/smirnoff.py\\\", </span>   \n",
       " <span style=\"color: #008000; text-decoration-color: #008000\">line 51, in __init__\\n    self.force_field = ForceField(force_field_name, </span>                  \n",
       " <span style=\"color: #008000; text-decoration-color: #008000\">allow_cosmetic_attributes=True)\\n  File \\\"/Users/daniellebergaziin/anaconda/envs/bespoke/lib</span>\n",
       " <span style=\"color: #008000; text-decoration-color: #008000\">/python3.9/site-packages/openff/toolkit/typing/engines/smirnoff/forcefield.py\\\", line 353, </span> \n",
       " <span style=\"color: #008000; text-decoration-color: #008000\">in __init__\\n    self.parse_sources(sources, </span>                                               \n",
       " <span style=\"color: #008000; text-decoration-color: #008000\">allow_cosmetic_attributes=allow_cosmetic_attributes)\\n  File \\\"/Users/daniellebergaziin/anac</span>\n",
       " <span style=\"color: #008000; text-decoration-color: #008000\">onda/envs/bespoke/lib/python3.9/site-packages/openff/toolkit/typing/engines/smirnoff/forcefi</span>\n",
       " <span style=\"color: #008000; text-decoration-color: #008000\">eld.py\\\", line 897, in parse_sources\\n    smirnoff_data = </span>                                  \n",
       " <span style=\"color: #008000; text-decoration-color: #008000\">self.parse_smirnoff_from_source(source)\\n  File \\\"/Users/daniellebergaziin/anaconda/envs/bes</span>\n",
       " <span style=\"color: #008000; text-decoration-color: #008000\">poke/lib/python3.9/site-packages/openff/toolkit/typing/engines/smirnoff/forcefield.py\\\", </span>   \n",
       " <span style=\"color: #008000; text-decoration-color: #008000\">line 1134, in parse_smirnoff_from_source\\n    raise IOError(msg)\\nOSError: Source </span>          \n",
       " <span style=\"color: #008000; text-decoration-color: #008000\">result/optimize/force-field.offxml could not be read. If this is a file, ensure that the </span>   \n",
       " <span style=\"color: #008000; text-decoration-color: #008000\">path is correct.\\nIf the file is present, ensure it is in a known SMIRNOFF encoding.\\nValid </span>\n",
       " <span style=\"color: #008000; text-decoration-color: #008000\">formats are: ['XML']\\nParsing failed with the following error:\\nnot well-formed (invalid </span>   \n",
       " <span style=\"color: #008000; text-decoration-color: #008000\">token): line 1, column 6\\n\\n\"</span><span style=\"font-weight: bold\">}</span>                                                              \n",
       "</pre>\n"
      ],
      "text/plain": [
       "                                                                                             \n",
       " \u001b[1m{\u001b[0m\u001b[32m\"type\"\u001b[0m: \u001b[32m\"OSError\"\u001b[0m, \u001b[32m\"message\"\u001b[0m: \u001b[32m\"Source result/optimize/force-field.offxml could not be read.\u001b[0m\n",
       " \u001b[32mIf this is a file, ensure that the path is correct.\\nIf the file is present, ensure it is in\u001b[0m\n",
       " \u001b[32ma known SMIRNOFF encoding.\\nValid formats are: \u001b[0m\u001b[32m[\u001b[0m\u001b[32m'XML'\u001b[0m\u001b[32m]\u001b[0m\u001b[32m\\nParsing failed with the following \u001b[0m  \n",
       " \u001b[32merror:\\nnot well-formed \u001b[0m\u001b[32m(\u001b[0m\u001b[32minvalid token\u001b[0m\u001b[32m)\u001b[0m\u001b[32m: line 1, column 6\\n\"\u001b[0m, \u001b[32m\"traceback\"\u001b[0m: \u001b[32m\"Traceback \u001b[0m\u001b[32m(\u001b[0m\u001b[32mmost \u001b[0m\n",
       " \u001b[32mrecent call last\u001b[0m\u001b[32m)\u001b[0m\u001b[32m:\\n  File \\\"/Users/daniellebergaziin/anaconda/envs/bespoke/lib/python3.9/si\u001b[0m\n",
       " \u001b[32mte-packages/celery/app/trace.py\\\", line 450, in trace_task\\n    R = retval = fun\u001b[0m\u001b[32m(\u001b[0m\u001b[32m*args, \u001b[0m    \n",
       " \u001b[32m**kwargs\u001b[0m\u001b[32m)\u001b[0m\u001b[32m\\n  File \\\"/Users/daniellebergaziin/anaconda/envs/bespoke/lib/python3.9/site-packag\u001b[0m\n",
       " \u001b[32mes/celery/app/trace.py\\\", line 731, in __protected_call__\\n    return self.run\u001b[0m\u001b[32m(\u001b[0m\u001b[32m*args, \u001b[0m      \n",
       " \u001b[32m**kwargs\u001b[0m\u001b[32m)\u001b[0m\u001b[32m\\n  File \\\"/Users/daniellebergaziin/anaconda/envs/bespoke/lib/python3.9/site-packag\u001b[0m\n",
       " \u001b[32mes/openff/bespokefit/executor/services/optimizer/worker.py\\\", line 29, in optimize\\n    \u001b[0m    \n",
       " \u001b[32mresult = optimizer.optimize\u001b[0m\u001b[32m(\u001b[0m\u001b[32minput_schema, \u001b[0m\u001b[32mkeep_files\u001b[0m\u001b[32m=\u001b[0m\u001b[32msettings\u001b[0m\u001b[32m.BEFLOW_KEEP_FILES\u001b[0m\u001b[32m)\u001b[0m\u001b[32m\\n  File \\\"/\u001b[0m\n",
       " \u001b[32mUsers/daniellebergaziin/anaconda/envs/bespoke/lib/python3.9/site-packages/openff/bespokefit/\u001b[0m\n",
       " \u001b[32moptimizers/model.py\\\", line 224, in optimize\\n    results = cls._optimize\u001b[0m\u001b[32m(\u001b[0m\u001b[32mschema\u001b[0m\u001b[32m)\u001b[0m\u001b[32m\\n  File \\\"\u001b[0m\n",
       " \u001b[32m/Users/daniellebergaziin/anaconda/envs/bespoke/lib/python3.9/site-packages/openff/bespokefit\u001b[0m\n",
       " \u001b[32m/optimizers/forcebalance/forcebalance.py\\\", line 113, in _optimize\\n    results = \u001b[0m          \n",
       " \u001b[32mcls._collect_results\u001b[0m\u001b[32m(\u001b[0m\u001b[32m\\\"\\\", \u001b[0m\u001b[32mschema\u001b[0m\u001b[32m=\u001b[0m\u001b[32mschema\u001b[0m\u001b[32m)\u001b[0m\u001b[32m\\n  File \\\"/Users/daniellebergaziin/anaconda/envs/b\u001b[0m\n",
       " \u001b[32mespoke/lib/python3.9/site-packages/openff/bespokefit/optimizers/forcebalance/forcebalance.py\u001b[0m\n",
       " \u001b[32m\\\", line 146, in _collect_results\\n    force_field_editor = \u001b[0m                                \n",
       " \u001b[32mForceFieldEditor\u001b[0m\u001b[32m(\u001b[0m\u001b[32mresults_dictionary\u001b[0m\u001b[32m[\u001b[0m\u001b[32m\\\"forcefield\\\"\u001b[0m\u001b[32m]\u001b[0m\u001b[32m)\u001b[0m\u001b[32m\\n  File \\\"/Users/daniellebergaziin/anac\u001b[0m\n",
       " \u001b[32monda/envs/bespoke/lib/python3.9/site-packages/openff/bespokefit/utilities/smirnoff.py\\\", \u001b[0m   \n",
       " \u001b[32mline 51, in __init__\\n    self.force_field = ForceField\u001b[0m\u001b[32m(\u001b[0m\u001b[32mforce_field_name, \u001b[0m                  \n",
       " \u001b[32mallow_cosmetic_attributes\u001b[0m\u001b[32m=\u001b[0m\u001b[32mTrue\u001b[0m\u001b[32m)\u001b[0m\u001b[32m\\n  File \\\"/Users/daniellebergaziin/anaconda/envs/bespoke/lib\u001b[0m\n",
       " \u001b[32m/python3.9/site-packages/openff/toolkit/typing/engines/smirnoff/forcefield.py\\\", line 353, \u001b[0m \n",
       " \u001b[32min __init__\\n    self.parse_sources\u001b[0m\u001b[32m(\u001b[0m\u001b[32msources, \u001b[0m                                               \n",
       " \u001b[32mallow_cosmetic_attributes\u001b[0m\u001b[32m=\u001b[0m\u001b[32mallow_cosmetic_attributes\u001b[0m\u001b[32m)\u001b[0m\u001b[32m\\n  File \\\"/Users/daniellebergaziin/anac\u001b[0m\n",
       " \u001b[32monda/envs/bespoke/lib/python3.9/site-packages/openff/toolkit/typing/engines/smirnoff/forcefi\u001b[0m\n",
       " \u001b[32meld.py\\\", line 897, in parse_sources\\n    smirnoff_data = \u001b[0m                                  \n",
       " \u001b[32mself.parse_smirnoff_from_source\u001b[0m\u001b[32m(\u001b[0m\u001b[32msource\u001b[0m\u001b[32m)\u001b[0m\u001b[32m\\n  File \\\"/Users/daniellebergaziin/anaconda/envs/bes\u001b[0m\n",
       " \u001b[32mpoke/lib/python3.9/site-packages/openff/toolkit/typing/engines/smirnoff/forcefield.py\\\", \u001b[0m   \n",
       " \u001b[32mline 1134, in parse_smirnoff_from_source\\n    raise IOError\u001b[0m\u001b[32m(\u001b[0m\u001b[32mmsg\u001b[0m\u001b[32m)\u001b[0m\u001b[32m\\nOSError: Source \u001b[0m          \n",
       " \u001b[32mresult/optimize/force-field.offxml could not be read. If this is a file, ensure that the \u001b[0m   \n",
       " \u001b[32mpath is correct.\\nIf the file is present, ensure it is in a known SMIRNOFF encoding.\\nValid \u001b[0m\n",
       " \u001b[32mformats are: \u001b[0m\u001b[32m[\u001b[0m\u001b[32m'XML'\u001b[0m\u001b[32m]\u001b[0m\u001b[32m\\nParsing failed with the following error:\\nnot well-formed \u001b[0m\u001b[32m(\u001b[0m\u001b[32minvalid \u001b[0m   \n",
       " \u001b[32mtoken\u001b[0m\u001b[32m)\u001b[0m\u001b[32m: line 1, column 6\\n\\n\"\u001b[0m\u001b[1m}\u001b[0m                                                              \n"
      ]
     },
     "metadata": {},
     "output_type": "display_data"
    },
    {
     "name": "stderr",
     "output_type": "stream",
     "text": [
      "\n",
      "worker: Warm shutdown (MainProcess)\n",
      "\n",
      "worker: Warm shutdown (MainProcess)\n",
      "\n",
      "worker: Warm shutdown (MainProcess)\n"
     ]
    }
   ],
   "source": [
    "os.environ[\"BEFLOW_KEEP_FILES\"] = \"True\"\n",
    "schema = workflow.optimization_schema_from_molecule(molecule=molecule)\n",
    "with BespokeExecutor(\n",
    "        n_fragmenter_workers=1, \n",
    "        n_optimizer_workers=1, \n",
    "        n_qc_compute_workers=3) as executor:\n",
    "    opt_id = executor.submit(input_schema=schema)\n",
    "    result = wait_until_complete(optimization_id=opt_id.id)"
   ]
  },
  {
   "cell_type": "code",
   "execution_count": null,
   "id": "d0806033",
   "metadata": {},
   "outputs": [],
   "source": [
    "result.results.refit_parameter_values"
   ]
  },
  {
   "cell_type": "code",
   "execution_count": null,
   "id": "37ba8e3f",
   "metadata": {},
   "outputs": [],
   "source": [
    "from rdkit.Chem import Draw, rdDepictor"
   ]
  },
  {
   "cell_type": "code",
   "execution_count": null,
   "id": "ec1711c6",
   "metadata": {},
   "outputs": [],
   "source": [
    "rdk_mol = molecule.to_rdkit()\n",
    "rdDepictor.Compute2DCoords(rdk_mol)\n",
    "matches = molecule.chemical_environment_matches(list(result.results.refit_parameter_values.keys())[5])\n",
    "atoms = [m for match in matches for m in match]\n",
    "Draw.MolToImage(rdk_mol, highlightAtoms=atoms)"
   ]
  },
  {
   "cell_type": "code",
   "execution_count": null,
   "id": "9d5cabd7",
   "metadata": {},
   "outputs": [],
   "source": []
  }
 ],
 "metadata": {
  "kernelspec": {
   "display_name": "bespokefit",
   "language": "python",
   "name": "bespokefit"
  },
  "language_info": {
   "codemirror_mode": {
    "name": "ipython",
    "version": 3
   },
   "file_extension": ".py",
   "mimetype": "text/x-python",
   "name": "python",
   "nbconvert_exporter": "python",
   "pygments_lexer": "ipython3",
   "version": "3.9.7"
  }
 },
 "nbformat": 4,
 "nbformat_minor": 5
}
